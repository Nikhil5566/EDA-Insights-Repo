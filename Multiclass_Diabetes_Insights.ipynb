{
  "nbformat": 4,
  "nbformat_minor": 0,
  "metadata": {
    "colab": {
      "provenance": [],
      "authorship_tag": "ABX9TyNVwRBxiEAoQjR6XG8bBkXH",
      "include_colab_link": true
    },
    "kernelspec": {
      "name": "python3",
      "display_name": "Python 3"
    },
    "language_info": {
      "name": "python"
    }
  },
  "cells": [
    {
      "cell_type": "markdown",
      "metadata": {
        "id": "view-in-github",
        "colab_type": "text"
      },
      "source": [
        "<a href=\"https://colab.research.google.com/github/Nikhil5566/EDA-Insights-Repo/blob/main/Multiclass_Diabetes_Insights.ipynb\" target=\"_parent\"><img src=\"https://colab.research.google.com/assets/colab-badge.svg\" alt=\"Open In Colab\"/></a>"
      ]
    },
    {
      "cell_type": "code",
      "execution_count": 1,
      "metadata": {
        "id": "u9ciFsgffw3H"
      },
      "outputs": [],
      "source": [
        "import numpy as np\n",
        "import pandas as pd"
      ]
    },
    {
      "cell_type": "code",
      "source": [
        "df = pd.read_csv('Multiclass Diabetes Dataset.csv')\n",
        "df.head()"
      ],
      "metadata": {
        "colab": {
          "base_uri": "https://localhost:8080/",
          "height": 206
        },
        "id": "1LTteWShf8NA",
        "outputId": "459446da-3b6e-4c42-d7ff-ef1edc1cdd7e"
      },
      "execution_count": 2,
      "outputs": [
        {
          "output_type": "execute_result",
          "data": {
            "text/plain": [
              "   Gender  AGE  Urea  Cr  HbA1c  Chol   TG  HDL  LDL  VLDL   BMI  Class\n",
              "0       0   50   4.7  46    4.9   4.2  0.9  2.4  1.4   0.5  24.0      0\n",
              "1       1   26   4.5  62    4.9   3.7  1.4  1.1  2.1   0.6  23.0      0\n",
              "2       1   33   7.1  46    4.9   4.9  1.0  0.8  2.0   0.4  21.0      0\n",
              "3       0   45   2.3  24    4.0   2.9  1.0  1.0  1.5   0.4  21.0      0\n",
              "4       0   50   2.0  50    4.0   3.6  1.3  0.9  2.1   0.6  24.0      0"
            ],
            "text/html": [
              "\n",
              "  <div id=\"df-1bb5c0b5-7fba-4e08-ad0a-f1521935ee35\" class=\"colab-df-container\">\n",
              "    <div>\n",
              "<style scoped>\n",
              "    .dataframe tbody tr th:only-of-type {\n",
              "        vertical-align: middle;\n",
              "    }\n",
              "\n",
              "    .dataframe tbody tr th {\n",
              "        vertical-align: top;\n",
              "    }\n",
              "\n",
              "    .dataframe thead th {\n",
              "        text-align: right;\n",
              "    }\n",
              "</style>\n",
              "<table border=\"1\" class=\"dataframe\">\n",
              "  <thead>\n",
              "    <tr style=\"text-align: right;\">\n",
              "      <th></th>\n",
              "      <th>Gender</th>\n",
              "      <th>AGE</th>\n",
              "      <th>Urea</th>\n",
              "      <th>Cr</th>\n",
              "      <th>HbA1c</th>\n",
              "      <th>Chol</th>\n",
              "      <th>TG</th>\n",
              "      <th>HDL</th>\n",
              "      <th>LDL</th>\n",
              "      <th>VLDL</th>\n",
              "      <th>BMI</th>\n",
              "      <th>Class</th>\n",
              "    </tr>\n",
              "  </thead>\n",
              "  <tbody>\n",
              "    <tr>\n",
              "      <th>0</th>\n",
              "      <td>0</td>\n",
              "      <td>50</td>\n",
              "      <td>4.7</td>\n",
              "      <td>46</td>\n",
              "      <td>4.9</td>\n",
              "      <td>4.2</td>\n",
              "      <td>0.9</td>\n",
              "      <td>2.4</td>\n",
              "      <td>1.4</td>\n",
              "      <td>0.5</td>\n",
              "      <td>24.0</td>\n",
              "      <td>0</td>\n",
              "    </tr>\n",
              "    <tr>\n",
              "      <th>1</th>\n",
              "      <td>1</td>\n",
              "      <td>26</td>\n",
              "      <td>4.5</td>\n",
              "      <td>62</td>\n",
              "      <td>4.9</td>\n",
              "      <td>3.7</td>\n",
              "      <td>1.4</td>\n",
              "      <td>1.1</td>\n",
              "      <td>2.1</td>\n",
              "      <td>0.6</td>\n",
              "      <td>23.0</td>\n",
              "      <td>0</td>\n",
              "    </tr>\n",
              "    <tr>\n",
              "      <th>2</th>\n",
              "      <td>1</td>\n",
              "      <td>33</td>\n",
              "      <td>7.1</td>\n",
              "      <td>46</td>\n",
              "      <td>4.9</td>\n",
              "      <td>4.9</td>\n",
              "      <td>1.0</td>\n",
              "      <td>0.8</td>\n",
              "      <td>2.0</td>\n",
              "      <td>0.4</td>\n",
              "      <td>21.0</td>\n",
              "      <td>0</td>\n",
              "    </tr>\n",
              "    <tr>\n",
              "      <th>3</th>\n",
              "      <td>0</td>\n",
              "      <td>45</td>\n",
              "      <td>2.3</td>\n",
              "      <td>24</td>\n",
              "      <td>4.0</td>\n",
              "      <td>2.9</td>\n",
              "      <td>1.0</td>\n",
              "      <td>1.0</td>\n",
              "      <td>1.5</td>\n",
              "      <td>0.4</td>\n",
              "      <td>21.0</td>\n",
              "      <td>0</td>\n",
              "    </tr>\n",
              "    <tr>\n",
              "      <th>4</th>\n",
              "      <td>0</td>\n",
              "      <td>50</td>\n",
              "      <td>2.0</td>\n",
              "      <td>50</td>\n",
              "      <td>4.0</td>\n",
              "      <td>3.6</td>\n",
              "      <td>1.3</td>\n",
              "      <td>0.9</td>\n",
              "      <td>2.1</td>\n",
              "      <td>0.6</td>\n",
              "      <td>24.0</td>\n",
              "      <td>0</td>\n",
              "    </tr>\n",
              "  </tbody>\n",
              "</table>\n",
              "</div>\n",
              "    <div class=\"colab-df-buttons\">\n",
              "\n",
              "  <div class=\"colab-df-container\">\n",
              "    <button class=\"colab-df-convert\" onclick=\"convertToInteractive('df-1bb5c0b5-7fba-4e08-ad0a-f1521935ee35')\"\n",
              "            title=\"Convert this dataframe to an interactive table.\"\n",
              "            style=\"display:none;\">\n",
              "\n",
              "  <svg xmlns=\"http://www.w3.org/2000/svg\" height=\"24px\" viewBox=\"0 -960 960 960\">\n",
              "    <path d=\"M120-120v-720h720v720H120Zm60-500h600v-160H180v160Zm220 220h160v-160H400v160Zm0 220h160v-160H400v160ZM180-400h160v-160H180v160Zm440 0h160v-160H620v160ZM180-180h160v-160H180v160Zm440 0h160v-160H620v160Z\"/>\n",
              "  </svg>\n",
              "    </button>\n",
              "\n",
              "  <style>\n",
              "    .colab-df-container {\n",
              "      display:flex;\n",
              "      gap: 12px;\n",
              "    }\n",
              "\n",
              "    .colab-df-convert {\n",
              "      background-color: #E8F0FE;\n",
              "      border: none;\n",
              "      border-radius: 50%;\n",
              "      cursor: pointer;\n",
              "      display: none;\n",
              "      fill: #1967D2;\n",
              "      height: 32px;\n",
              "      padding: 0 0 0 0;\n",
              "      width: 32px;\n",
              "    }\n",
              "\n",
              "    .colab-df-convert:hover {\n",
              "      background-color: #E2EBFA;\n",
              "      box-shadow: 0px 1px 2px rgba(60, 64, 67, 0.3), 0px 1px 3px 1px rgba(60, 64, 67, 0.15);\n",
              "      fill: #174EA6;\n",
              "    }\n",
              "\n",
              "    .colab-df-buttons div {\n",
              "      margin-bottom: 4px;\n",
              "    }\n",
              "\n",
              "    [theme=dark] .colab-df-convert {\n",
              "      background-color: #3B4455;\n",
              "      fill: #D2E3FC;\n",
              "    }\n",
              "\n",
              "    [theme=dark] .colab-df-convert:hover {\n",
              "      background-color: #434B5C;\n",
              "      box-shadow: 0px 1px 3px 1px rgba(0, 0, 0, 0.15);\n",
              "      filter: drop-shadow(0px 1px 2px rgba(0, 0, 0, 0.3));\n",
              "      fill: #FFFFFF;\n",
              "    }\n",
              "  </style>\n",
              "\n",
              "    <script>\n",
              "      const buttonEl =\n",
              "        document.querySelector('#df-1bb5c0b5-7fba-4e08-ad0a-f1521935ee35 button.colab-df-convert');\n",
              "      buttonEl.style.display =\n",
              "        google.colab.kernel.accessAllowed ? 'block' : 'none';\n",
              "\n",
              "      async function convertToInteractive(key) {\n",
              "        const element = document.querySelector('#df-1bb5c0b5-7fba-4e08-ad0a-f1521935ee35');\n",
              "        const dataTable =\n",
              "          await google.colab.kernel.invokeFunction('convertToInteractive',\n",
              "                                                    [key], {});\n",
              "        if (!dataTable) return;\n",
              "\n",
              "        const docLinkHtml = 'Like what you see? Visit the ' +\n",
              "          '<a target=\"_blank\" href=https://colab.research.google.com/notebooks/data_table.ipynb>data table notebook</a>'\n",
              "          + ' to learn more about interactive tables.';\n",
              "        element.innerHTML = '';\n",
              "        dataTable['output_type'] = 'display_data';\n",
              "        await google.colab.output.renderOutput(dataTable, element);\n",
              "        const docLink = document.createElement('div');\n",
              "        docLink.innerHTML = docLinkHtml;\n",
              "        element.appendChild(docLink);\n",
              "      }\n",
              "    </script>\n",
              "  </div>\n",
              "\n",
              "\n",
              "    <div id=\"df-e2587ccf-216c-4f13-a3e9-86e716461ff2\">\n",
              "      <button class=\"colab-df-quickchart\" onclick=\"quickchart('df-e2587ccf-216c-4f13-a3e9-86e716461ff2')\"\n",
              "                title=\"Suggest charts\"\n",
              "                style=\"display:none;\">\n",
              "\n",
              "<svg xmlns=\"http://www.w3.org/2000/svg\" height=\"24px\"viewBox=\"0 0 24 24\"\n",
              "     width=\"24px\">\n",
              "    <g>\n",
              "        <path d=\"M19 3H5c-1.1 0-2 .9-2 2v14c0 1.1.9 2 2 2h14c1.1 0 2-.9 2-2V5c0-1.1-.9-2-2-2zM9 17H7v-7h2v7zm4 0h-2V7h2v10zm4 0h-2v-4h2v4z\"/>\n",
              "    </g>\n",
              "</svg>\n",
              "      </button>\n",
              "\n",
              "<style>\n",
              "  .colab-df-quickchart {\n",
              "      --bg-color: #E8F0FE;\n",
              "      --fill-color: #1967D2;\n",
              "      --hover-bg-color: #E2EBFA;\n",
              "      --hover-fill-color: #174EA6;\n",
              "      --disabled-fill-color: #AAA;\n",
              "      --disabled-bg-color: #DDD;\n",
              "  }\n",
              "\n",
              "  [theme=dark] .colab-df-quickchart {\n",
              "      --bg-color: #3B4455;\n",
              "      --fill-color: #D2E3FC;\n",
              "      --hover-bg-color: #434B5C;\n",
              "      --hover-fill-color: #FFFFFF;\n",
              "      --disabled-bg-color: #3B4455;\n",
              "      --disabled-fill-color: #666;\n",
              "  }\n",
              "\n",
              "  .colab-df-quickchart {\n",
              "    background-color: var(--bg-color);\n",
              "    border: none;\n",
              "    border-radius: 50%;\n",
              "    cursor: pointer;\n",
              "    display: none;\n",
              "    fill: var(--fill-color);\n",
              "    height: 32px;\n",
              "    padding: 0;\n",
              "    width: 32px;\n",
              "  }\n",
              "\n",
              "  .colab-df-quickchart:hover {\n",
              "    background-color: var(--hover-bg-color);\n",
              "    box-shadow: 0 1px 2px rgba(60, 64, 67, 0.3), 0 1px 3px 1px rgba(60, 64, 67, 0.15);\n",
              "    fill: var(--button-hover-fill-color);\n",
              "  }\n",
              "\n",
              "  .colab-df-quickchart-complete:disabled,\n",
              "  .colab-df-quickchart-complete:disabled:hover {\n",
              "    background-color: var(--disabled-bg-color);\n",
              "    fill: var(--disabled-fill-color);\n",
              "    box-shadow: none;\n",
              "  }\n",
              "\n",
              "  .colab-df-spinner {\n",
              "    border: 2px solid var(--fill-color);\n",
              "    border-color: transparent;\n",
              "    border-bottom-color: var(--fill-color);\n",
              "    animation:\n",
              "      spin 1s steps(1) infinite;\n",
              "  }\n",
              "\n",
              "  @keyframes spin {\n",
              "    0% {\n",
              "      border-color: transparent;\n",
              "      border-bottom-color: var(--fill-color);\n",
              "      border-left-color: var(--fill-color);\n",
              "    }\n",
              "    20% {\n",
              "      border-color: transparent;\n",
              "      border-left-color: var(--fill-color);\n",
              "      border-top-color: var(--fill-color);\n",
              "    }\n",
              "    30% {\n",
              "      border-color: transparent;\n",
              "      border-left-color: var(--fill-color);\n",
              "      border-top-color: var(--fill-color);\n",
              "      border-right-color: var(--fill-color);\n",
              "    }\n",
              "    40% {\n",
              "      border-color: transparent;\n",
              "      border-right-color: var(--fill-color);\n",
              "      border-top-color: var(--fill-color);\n",
              "    }\n",
              "    60% {\n",
              "      border-color: transparent;\n",
              "      border-right-color: var(--fill-color);\n",
              "    }\n",
              "    80% {\n",
              "      border-color: transparent;\n",
              "      border-right-color: var(--fill-color);\n",
              "      border-bottom-color: var(--fill-color);\n",
              "    }\n",
              "    90% {\n",
              "      border-color: transparent;\n",
              "      border-bottom-color: var(--fill-color);\n",
              "    }\n",
              "  }\n",
              "</style>\n",
              "\n",
              "      <script>\n",
              "        async function quickchart(key) {\n",
              "          const quickchartButtonEl =\n",
              "            document.querySelector('#' + key + ' button');\n",
              "          quickchartButtonEl.disabled = true;  // To prevent multiple clicks.\n",
              "          quickchartButtonEl.classList.add('colab-df-spinner');\n",
              "          try {\n",
              "            const charts = await google.colab.kernel.invokeFunction(\n",
              "                'suggestCharts', [key], {});\n",
              "          } catch (error) {\n",
              "            console.error('Error during call to suggestCharts:', error);\n",
              "          }\n",
              "          quickchartButtonEl.classList.remove('colab-df-spinner');\n",
              "          quickchartButtonEl.classList.add('colab-df-quickchart-complete');\n",
              "        }\n",
              "        (() => {\n",
              "          let quickchartButtonEl =\n",
              "            document.querySelector('#df-e2587ccf-216c-4f13-a3e9-86e716461ff2 button');\n",
              "          quickchartButtonEl.style.display =\n",
              "            google.colab.kernel.accessAllowed ? 'block' : 'none';\n",
              "        })();\n",
              "      </script>\n",
              "    </div>\n",
              "\n",
              "    </div>\n",
              "  </div>\n"
            ],
            "application/vnd.google.colaboratory.intrinsic+json": {
              "type": "dataframe",
              "variable_name": "df",
              "summary": "{\n  \"name\": \"df\",\n  \"rows\": 264,\n  \"fields\": [\n    {\n      \"column\": \"Gender\",\n      \"properties\": {\n        \"dtype\": \"number\",\n        \"std\": 0,\n        \"min\": 0,\n        \"max\": 1,\n        \"num_unique_values\": 2,\n        \"samples\": [\n          1,\n          0\n        ],\n        \"semantic_type\": \"\",\n        \"description\": \"\"\n      }\n    },\n    {\n      \"column\": \"AGE\",\n      \"properties\": {\n        \"dtype\": \"number\",\n        \"std\": 10,\n        \"min\": 25,\n        \"max\": 77,\n        \"num_unique_values\": 42,\n        \"samples\": [\n          60,\n          44\n        ],\n        \"semantic_type\": \"\",\n        \"description\": \"\"\n      }\n    },\n    {\n      \"column\": \"Urea\",\n      \"properties\": {\n        \"dtype\": \"number\",\n        \"std\": 4.002836728883225,\n        \"min\": 1.1,\n        \"max\": 26.4,\n        \"num_unique_values\": 83,\n        \"samples\": [\n          5.7,\n          4.7\n        ],\n        \"semantic_type\": \"\",\n        \"description\": \"\"\n      }\n    },\n    {\n      \"column\": \"Cr\",\n      \"properties\": {\n        \"dtype\": \"number\",\n        \"std\": 99,\n        \"min\": 6,\n        \"max\": 800,\n        \"num_unique_values\": 90,\n        \"samples\": [\n          97,\n          48\n        ],\n        \"semantic_type\": \"\",\n        \"description\": \"\"\n      }\n    },\n    {\n      \"column\": \"HbA1c\",\n      \"properties\": {\n        \"dtype\": \"number\",\n        \"std\": 2.544603501996184,\n        \"min\": 0.9,\n        \"max\": 14.6,\n        \"num_unique_values\": 74,\n        \"samples\": [\n          5.1,\n          11.0\n        ],\n        \"semantic_type\": \"\",\n        \"description\": \"\"\n      }\n    },\n    {\n      \"column\": \"Chol\",\n      \"properties\": {\n        \"dtype\": \"number\",\n        \"std\": 1.2890620621658293,\n        \"min\": 0.0,\n        \"max\": 9.5,\n        \"num_unique_values\": 57,\n        \"samples\": [\n          4.2,\n          3.8\n        ],\n        \"semantic_type\": \"\",\n        \"description\": \"\"\n      }\n    },\n    {\n      \"column\": \"TG\",\n      \"properties\": {\n        \"dtype\": \"number\",\n        \"std\": 1.265841148724213,\n        \"min\": 0.6,\n        \"max\": 8.7,\n        \"num_unique_values\": 45,\n        \"samples\": [\n          4.3,\n          3.9\n        ],\n        \"semantic_type\": \"\",\n        \"description\": \"\"\n      }\n    },\n    {\n      \"column\": \"HDL\",\n      \"properties\": {\n        \"dtype\": \"number\",\n        \"std\": 0.45559058784268663,\n        \"min\": 0.4,\n        \"max\": 4.0,\n        \"num_unique_values\": 25,\n        \"samples\": [\n          1.4,\n          4.0\n        ],\n        \"semantic_type\": \"\",\n        \"description\": \"\"\n      }\n    },\n    {\n      \"column\": \"LDL\",\n      \"properties\": {\n        \"dtype\": \"number\",\n        \"std\": 1.0001727980385027,\n        \"min\": 0.3,\n        \"max\": 5.6,\n        \"num_unique_values\": 45,\n        \"samples\": [\n          0.95,\n          2.5\n        ],\n        \"semantic_type\": \"\",\n        \"description\": \"\"\n      }\n    },\n    {\n      \"column\": \"VLDL\",\n      \"properties\": {\n        \"dtype\": \"number\",\n        \"std\": 3.0998561334620405,\n        \"min\": 0.2,\n        \"max\": 31.8,\n        \"num_unique_values\": 33,\n        \"samples\": [\n          7.0,\n          0.9\n        ],\n        \"semantic_type\": \"\",\n        \"description\": \"\"\n      }\n    },\n    {\n      \"column\": \"BMI\",\n      \"properties\": {\n        \"dtype\": \"number\",\n        \"std\": 5.093651789939065,\n        \"min\": 19.0,\n        \"max\": 43.25,\n        \"num_unique_values\": 38,\n        \"samples\": [\n          36.0,\n          43.25\n        ],\n        \"semantic_type\": \"\",\n        \"description\": \"\"\n      }\n    },\n    {\n      \"column\": \"Class\",\n      \"properties\": {\n        \"dtype\": \"number\",\n        \"std\": 0,\n        \"min\": 0,\n        \"max\": 2,\n        \"num_unique_values\": 3,\n        \"samples\": [\n          0,\n          1\n        ],\n        \"semantic_type\": \"\",\n        \"description\": \"\"\n      }\n    }\n  ]\n}"
            }
          },
          "metadata": {},
          "execution_count": 2
        }
      ]
    },
    {
      "cell_type": "markdown",
      "source": [
        "#  Basic Aggregation"
      ],
      "metadata": {
        "id": "2UIcotT8gooX"
      }
    },
    {
      "cell_type": "markdown",
      "source": [
        "1. What is the average age of all patients?\n",
        "\n",
        "2. What is the average HbA1c level across the dataset?\n",
        "\n",
        "3. What is the average BMI for each class?\n",
        "\n",
        "4. What is the minimum and maximum Urea level observed?"
      ],
      "metadata": {
        "id": "tj9lsvYigq4-"
      }
    },
    {
      "cell_type": "code",
      "source": [
        "print('Average age of the patients:', df['AGE'].mean())"
      ],
      "metadata": {
        "colab": {
          "base_uri": "https://localhost:8080/"
        },
        "id": "O9XQ7V-mgCsA",
        "outputId": "54f6237d-24f5-4d28-f7fa-2bd2be0f9259"
      },
      "execution_count": 3,
      "outputs": [
        {
          "output_type": "stream",
          "name": "stdout",
          "text": [
            "Average age of the patients: 49.52272727272727\n"
          ]
        }
      ]
    },
    {
      "cell_type": "code",
      "source": [
        "print(' average HbA1c level across the dataset:',df['HbA1c'].mean())"
      ],
      "metadata": {
        "colab": {
          "base_uri": "https://localhost:8080/"
        },
        "id": "K2Q4Kmlpg8QB",
        "outputId": "10b8d978-bebc-40c6-b09e-9119d99d1aa3"
      },
      "execution_count": 5,
      "outputs": [
        {
          "output_type": "stream",
          "name": "stdout",
          "text": [
            " average HbA1c level across the dataset: 6.862727272727273\n"
          ]
        }
      ]
    },
    {
      "cell_type": "code",
      "source": [
        "print('The average BMI for each class:\\n',df.groupby('Class')['BMI'].mean())"
      ],
      "metadata": {
        "colab": {
          "base_uri": "https://localhost:8080/"
        },
        "id": "rZdB8tqJhS8z",
        "outputId": "59380eb3-f7d6-4884-fde3-214c1d7780a2"
      },
      "execution_count": 11,
      "outputs": [
        {
          "output_type": "stream",
          "name": "stdout",
          "text": [
            "The average BMI for each class:\n",
            " Class\n",
            "0    22.350000\n",
            "1    24.112500\n",
            "2    30.620234\n",
            "Name: BMI, dtype: float64\n"
          ]
        }
      ]
    },
    {
      "cell_type": "code",
      "source": [
        "print('The minimum Urea level observed:', df['Urea'].min())"
      ],
      "metadata": {
        "colab": {
          "base_uri": "https://localhost:8080/"
        },
        "id": "mXd8iDt7hcAE",
        "outputId": "3af4204a-d33b-4045-d4aa-68625e4ef821"
      },
      "execution_count": 8,
      "outputs": [
        {
          "output_type": "stream",
          "name": "stdout",
          "text": [
            "The minimum Urea level observed: 1.1\n"
          ]
        }
      ]
    },
    {
      "cell_type": "code",
      "source": [
        "print('The maximun Urea level observed:', df['Urea'].max())"
      ],
      "metadata": {
        "colab": {
          "base_uri": "https://localhost:8080/"
        },
        "id": "onT_1Gxvhmlj",
        "outputId": "e284648f-59dd-44e6-9566-52144f046b7d"
      },
      "execution_count": 9,
      "outputs": [
        {
          "output_type": "stream",
          "name": "stdout",
          "text": [
            "The maximun Urea level observed: 26.4\n"
          ]
        }
      ]
    },
    {
      "cell_type": "markdown",
      "source": [
        "# Group Insights"
      ],
      "metadata": {
        "id": "CW_k2ZVEh1Dd"
      }
    },
    {
      "cell_type": "markdown",
      "source": [
        "1. What is the distribution of patients across each diabetes class?\n",
        "\n",
        "2. What is the average HbA1c for each diabetes class?\n",
        "\n",
        "3. What is the average lipid profile (Chol, HDL, LDL) by gender?\n",
        "\n",
        "4. How does the BMI vary across different diabetes classes?"
      ],
      "metadata": {
        "id": "S6aWOtqYh3e4"
      }
    },
    {
      "cell_type": "code",
      "source": [
        "print('The distribution of patients across each diabetes class:\\n', df['Class'].value_counts())"
      ],
      "metadata": {
        "colab": {
          "base_uri": "https://localhost:8080/"
        },
        "id": "cJlXncDNhx86",
        "outputId": "5ee7584a-792f-46bf-f9c9-25343c1a7534"
      },
      "execution_count": 13,
      "outputs": [
        {
          "output_type": "stream",
          "name": "stdout",
          "text": [
            "The distribution of patients across each diabetes class:\n",
            " Class\n",
            "2    128\n",
            "0     96\n",
            "1     40\n",
            "Name: count, dtype: int64\n"
          ]
        }
      ]
    },
    {
      "cell_type": "code",
      "source": [
        "print('The average HbA1c for each diabetes class',df.groupby('Class')['HbA1c'].mean())"
      ],
      "metadata": {
        "colab": {
          "base_uri": "https://localhost:8080/"
        },
        "id": "ote4TTAtk2ny",
        "outputId": "6671fa27-422d-4b19-f464-0173350b3ff5"
      },
      "execution_count": 15,
      "outputs": [
        {
          "output_type": "stream",
          "name": "stdout",
          "text": [
            "The average HbA1c for each diabetes class Class\n",
            "0    4.578125\n",
            "1    6.012500\n",
            "2    8.841875\n",
            "Name: HbA1c, dtype: float64\n"
          ]
        }
      ]
    },
    {
      "cell_type": "code",
      "source": [
        "print(':\\n', df.groupby('Gender')[['Chol','HDL','LDL']].mean())"
      ],
      "metadata": {
        "colab": {
          "base_uri": "https://localhost:8080/"
        },
        "id": "OPR5aKgylwY9",
        "outputId": "20977788-c7db-49b3-a860-92a244667a67"
      },
      "execution_count": 39,
      "outputs": [
        {
          "output_type": "stream",
          "name": "stdout",
          "text": [
            ":\n",
            "             Chol       HDL       LDL\n",
            "Gender                              \n",
            "0       4.558333  1.267917  2.505000\n",
            "1       4.624444  1.112014  2.552431\n"
          ]
        }
      ]
    },
    {
      "cell_type": "markdown",
      "source": [
        "# Gender-Based Analysis"
      ],
      "metadata": {
        "id": "HlTM1-7Imuq2"
      }
    },
    {
      "cell_type": "markdown",
      "source": [
        "1. Is there a difference in average HbA1c between males and females?\n",
        "\n",
        "2. Which gender has a higher average BMI?\n",
        "\n",
        "3. What percentage of each gender falls into each diabetes class?"
      ],
      "metadata": {
        "id": "u1sQE_YZmx4Y"
      }
    },
    {
      "cell_type": "code",
      "source": [
        "print('Is there? :', df.groupby('Gender')['HbA1c'].mean())"
      ],
      "metadata": {
        "colab": {
          "base_uri": "https://localhost:8080/"
        },
        "id": "Ubr0LLUKmX01",
        "outputId": "6893e876-c1c6-4a2b-8b7c-eaabc9ee120e"
      },
      "execution_count": 22,
      "outputs": [
        {
          "output_type": "stream",
          "name": "stdout",
          "text": [
            "Is there? : Gender\n",
            "0    6.422167\n",
            "1    7.229861\n",
            "Name: HbA1c, dtype: float64\n"
          ]
        }
      ]
    },
    {
      "cell_type": "code",
      "source": [
        "print('Average BMI by gender:\\n', df.groupby('Gender')['BMI'].mean())"
      ],
      "metadata": {
        "colab": {
          "base_uri": "https://localhost:8080/"
        },
        "id": "RMpCiDnknCZr",
        "outputId": "12bf93d4-ca7e-4982-de02-223a95176020"
      },
      "execution_count": 25,
      "outputs": [
        {
          "output_type": "stream",
          "name": "stdout",
          "text": [
            "Average BMI by gender:\n",
            " Gender\n",
            "0    25.860000\n",
            "1    27.265903\n",
            "Name: BMI, dtype: float64\n"
          ]
        }
      ]
    },
    {
      "cell_type": "code",
      "source": [
        "print('Gender :',df.groupby('Gender')['Class'].value_counts(normalize=True))"
      ],
      "metadata": {
        "colab": {
          "base_uri": "https://localhost:8080/"
        },
        "id": "eRo4S-gbnvRM",
        "outputId": "839fb7ec-d974-485b-91df-7dcff665b351"
      },
      "execution_count": 31,
      "outputs": [
        {
          "output_type": "stream",
          "name": "stdout",
          "text": [
            "Gender : Gender  Class\n",
            "0       0        0.483333\n",
            "        2        0.408333\n",
            "        1        0.108333\n",
            "1       2        0.548611\n",
            "        0        0.263889\n",
            "        1        0.187500\n",
            "Name: proportion, dtype: float64\n"
          ]
        }
      ]
    },
    {
      "cell_type": "markdown",
      "source": [
        "# Correlation & Relationship Exploration"
      ],
      "metadata": {
        "id": "MZOW8XKaoz8j"
      }
    },
    {
      "cell_type": "markdown",
      "source": [
        "1. Is there a correlation between BMI and HbA1c?\n",
        "\n",
        "2. How strongly are cholesterol levels (Chol, HDL, LDL) correlated?\n",
        "\n",
        "3. Does higher age correlate with higher diabetes class?"
      ],
      "metadata": {
        "id": "TSyDgprro1Zt"
      }
    },
    {
      "cell_type": "code",
      "source": [
        "print('Correlation between BMI and HbA1c:', df['BMI'].corr(df['HbA1c']))"
      ],
      "metadata": {
        "colab": {
          "base_uri": "https://localhost:8080/"
        },
        "id": "0jxpPs3PoZCN",
        "outputId": "31900002-302c-4851-9d46-16a149cb35e3"
      },
      "execution_count": 33,
      "outputs": [
        {
          "output_type": "stream",
          "name": "stdout",
          "text": [
            "Correlation between BMI and HbA1c: 0.614643245071313\n"
          ]
        }
      ]
    },
    {
      "cell_type": "code",
      "source": [
        "print('How strongly are cholesterol levels (Chol, HDL, LDL) correlated:\\n', df[['Chol','HDL','LDL']].corr())"
      ],
      "metadata": {
        "colab": {
          "base_uri": "https://localhost:8080/"
        },
        "id": "6uT0WkxvpOib",
        "outputId": "ffc14da6-2ef5-4a70-b656-081c50601080"
      },
      "execution_count": 38,
      "outputs": [
        {
          "output_type": "stream",
          "name": "stdout",
          "text": [
            "How strongly are cholesterol levels (Chol, HDL, LDL) correlated:\n",
            "           Chol       HDL       LDL\n",
            "Chol  1.000000  0.044228  0.435670\n",
            "HDL   0.044228  1.000000 -0.141959\n",
            "LDL   0.435670 -0.141959  1.000000\n"
          ]
        }
      ]
    },
    {
      "cell_type": "code",
      "source": [
        "print('Correlation between AGE and Class:\\n',df['AGE'].corr(df['Class']))"
      ],
      "metadata": {
        "colab": {
          "base_uri": "https://localhost:8080/"
        },
        "id": "yuDvcW3yp416",
        "outputId": "a004156a-0aa3-45d8-ff4f-8f96ff398856"
      },
      "execution_count": 41,
      "outputs": [
        {
          "output_type": "stream",
          "name": "stdout",
          "text": [
            "Correlation between AGE and Class:\n",
            " 0.5143314278252511\n"
          ]
        }
      ]
    },
    {
      "cell_type": "markdown",
      "source": [
        "#  Ranking and Extremes"
      ],
      "metadata": {
        "id": "J_h8zLOarUiF"
      }
    },
    {
      "cell_type": "markdown",
      "source": [
        "1. Who are the top 5 patients with the highest HbA1c levels?\n",
        "\n",
        "2. What are the average values of all features for the class with the worst diabetes condition?"
      ],
      "metadata": {
        "id": "cboo81kRrWKl"
      }
    },
    {
      "cell_type": "code",
      "source": [
        "print('Top 5:', df.nlargest(5, 'HbA1c'))"
      ],
      "metadata": {
        "colab": {
          "base_uri": "https://localhost:8080/"
        },
        "id": "SrCfOxHfq33z",
        "outputId": "406b18dc-5452-4f9e-a037-4827913230b5"
      },
      "execution_count": 44,
      "outputs": [
        {
          "output_type": "stream",
          "name": "stdout",
          "text": [
            "Top 5:      Gender  AGE  Urea  Cr  HbA1c  Chol   TG  HDL  LDL  VLDL   BMI  Class\n",
            "156       0   59   6.0  28   14.6   6.1  4.4  1.2  1.3   2.0  29.0      2\n",
            "186       0   52   8.0  56   13.8   5.6  2.5  0.9  3.7   1.1  26.0      2\n",
            "183       0   50   4.0  56   13.7   4.4  2.0  1.0  2.5   0.9  29.0      2\n",
            "231       1   54   4.3  90   13.2   9.2  1.2  1.6  2.4   2.0  36.0      2\n",
            "235       1   68   7.4  98   12.9   8.8  4.5  1.1  5.6   2.1  29.0      2\n"
          ]
        }
      ]
    },
    {
      "cell_type": "code",
      "source": [
        "print('Average values of all features for the class with the worst diabetes condition:', df.groupby('Class').mean().min())"
      ],
      "metadata": {
        "colab": {
          "base_uri": "https://localhost:8080/"
        },
        "id": "a7EnZXfir8V5",
        "outputId": "e981e502-1401-43a7-afeb-7297ade407b1"
      },
      "execution_count": 46,
      "outputs": [
        {
          "output_type": "stream",
          "name": "stdout",
          "text": [
            "Average values of all features for the class with the worst diabetes condition: Gender     0.395833\n",
            "AGE       43.400000\n",
            "Urea       4.545000\n",
            "Cr        63.239583\n",
            "HbA1c      4.578125\n",
            "Chol       4.206250\n",
            "TG         1.656250\n",
            "HDL        1.127500\n",
            "LDL        2.370000\n",
            "VLDL       0.968750\n",
            "BMI       22.350000\n",
            "dtype: float64\n"
          ]
        }
      ]
    },
    {
      "cell_type": "markdown",
      "source": [
        "# Health Risk Indicators"
      ],
      "metadata": {
        "id": "J48LUMxCt_KI"
      }
    },
    {
      "cell_type": "markdown",
      "source": [
        "1. How many patients have BMI > 25 and HbA1c > 6.5 (high risk)?\n",
        "\n",
        "2. What is the average LDL of patients with high HbA1c (>6.5)?\n",
        "\n",
        "3. Are there patients who are young (AGE < 35) but fall into high diabetes class?"
      ],
      "metadata": {
        "id": "wfdP7xwSuAXQ"
      }
    },
    {
      "cell_type": "code",
      "source": [
        "print('How many patients have BMI > 25 and HbA1c > 6.5 (high risk):', len(df[(df['BMI'] > 25) & (df['HbA1c'] > 6.5)]))"
      ],
      "metadata": {
        "colab": {
          "base_uri": "https://localhost:8080/"
        },
        "id": "kL6t-mZrs7dZ",
        "outputId": "6cf62742-6582-4a25-b135-73d0fc898d94"
      },
      "execution_count": 47,
      "outputs": [
        {
          "output_type": "stream",
          "name": "stdout",
          "text": [
            "How many patients have BMI > 25 and HbA1c > 6.5 (high risk): 114\n"
          ]
        }
      ]
    },
    {
      "cell_type": "code",
      "source": [
        "print('What is the average LDL of patients with high HbA1c (>6.5):', df[df['HbA1c'] > 6.5]['LDL'].mean())"
      ],
      "metadata": {
        "colab": {
          "base_uri": "https://localhost:8080/"
        },
        "id": "3z22IPf6ucqQ",
        "outputId": "52814487-6f18-4164-d699-4417cd9e4220"
      },
      "execution_count": 48,
      "outputs": [
        {
          "output_type": "stream",
          "name": "stdout",
          "text": [
            "What is the average LDL of patients with high HbA1c (>6.5): 2.4869747899159664\n"
          ]
        }
      ]
    },
    {
      "cell_type": "code",
      "source": [
        "print('Are there patients who are young (AGE < 35) but fall into high diabetes class:', len(df[(df['AGE'] < 35) & (df['Class'] == 3)]))"
      ],
      "metadata": {
        "colab": {
          "base_uri": "https://localhost:8080/"
        },
        "id": "LlY0-zSSukTg",
        "outputId": "8f45888d-7321-486c-a78e-57f47e6c6af5"
      },
      "execution_count": 50,
      "outputs": [
        {
          "output_type": "stream",
          "name": "stdout",
          "text": [
            "Are there patients who are young (AGE < 35) but fall into high diabetes class: 0\n"
          ]
        }
      ]
    },
    {
      "cell_type": "markdown",
      "source": [
        "# General Statistics"
      ],
      "metadata": {
        "id": "hteNWsxZupfD"
      }
    },
    {
      "cell_type": "markdown",
      "source": [
        "1. Provide summary statistics (mean, std, min, max) for all numerical columns.\n",
        "\n",
        "2. Are there any missing or anomalous values in the dataset?"
      ],
      "metadata": {
        "id": "7HW0D27JuswU"
      }
    },
    {
      "cell_type": "code",
      "source": [
        "print('Summary statistics for all numerical columns:\\n', df.describe())"
      ],
      "metadata": {
        "colab": {
          "base_uri": "https://localhost:8080/"
        },
        "id": "vNEeeToHumIA",
        "outputId": "38942c42-76d3-4dc2-c118-7b1cdf0f1d20"
      },
      "execution_count": 51,
      "outputs": [
        {
          "output_type": "stream",
          "name": "stdout",
          "text": [
            "Summary statistics for all numerical columns:\n",
            "            Gender         AGE        Urea          Cr       HbA1c        Chol  \\\n",
            "count  264.000000  264.000000  264.000000  264.000000  264.000000  264.000000   \n",
            "mean     0.545455   49.522727    5.671515   85.806818    6.862727    4.594394   \n",
            "std      0.498875   10.127301    4.002837   99.400047    2.544604    1.289062   \n",
            "min      0.000000   25.000000    1.100000    6.000000    0.900000    0.000000   \n",
            "25%      0.000000   43.000000    3.600000   46.000000    5.000000    3.875000   \n",
            "50%      1.000000   50.000000    4.700000   61.000000    6.100000    4.500000   \n",
            "75%      1.000000   55.250000    6.100000   82.250000    8.200000    5.300000   \n",
            "max      1.000000   77.000000   26.400000  800.000000   14.600000    9.500000   \n",
            "\n",
            "               TG         HDL         LDL        VLDL         BMI       Class  \n",
            "count  264.000000  264.000000  264.000000  264.000000  264.000000  264.000000  \n",
            "mean     2.151894    1.182879    2.530871    1.479167   26.626856    1.121212  \n",
            "std      1.265841    0.455591    1.000173    3.099856    5.093652    0.914857  \n",
            "min      0.600000    0.400000    0.300000    0.200000   19.000000    0.000000  \n",
            "25%      1.300000    0.900000    1.800000    0.675000   23.000000    0.000000  \n",
            "50%      1.800000    1.100000    2.500000    0.900000   25.000000    1.000000  \n",
            "75%      2.725000    1.325000    3.200000    1.300000   30.000000    2.000000  \n",
            "max      8.700000    4.000000    5.600000   31.800000   43.250000    2.000000  \n"
          ]
        }
      ]
    },
    {
      "cell_type": "code",
      "source": [
        "df.isnull().sum()"
      ],
      "metadata": {
        "colab": {
          "base_uri": "https://localhost:8080/",
          "height": 460
        },
        "id": "jJtiQZWkuxng",
        "outputId": "d1444c27-2faf-435f-99f9-816f9d50ee56"
      },
      "execution_count": 52,
      "outputs": [
        {
          "output_type": "execute_result",
          "data": {
            "text/plain": [
              "Gender    0\n",
              "AGE       0\n",
              "Urea      0\n",
              "Cr        0\n",
              "HbA1c     0\n",
              "Chol      0\n",
              "TG        0\n",
              "HDL       0\n",
              "LDL       0\n",
              "VLDL      0\n",
              "BMI       0\n",
              "Class     0\n",
              "dtype: int64"
            ],
            "text/html": [
              "<div>\n",
              "<style scoped>\n",
              "    .dataframe tbody tr th:only-of-type {\n",
              "        vertical-align: middle;\n",
              "    }\n",
              "\n",
              "    .dataframe tbody tr th {\n",
              "        vertical-align: top;\n",
              "    }\n",
              "\n",
              "    .dataframe thead th {\n",
              "        text-align: right;\n",
              "    }\n",
              "</style>\n",
              "<table border=\"1\" class=\"dataframe\">\n",
              "  <thead>\n",
              "    <tr style=\"text-align: right;\">\n",
              "      <th></th>\n",
              "      <th>0</th>\n",
              "    </tr>\n",
              "  </thead>\n",
              "  <tbody>\n",
              "    <tr>\n",
              "      <th>Gender</th>\n",
              "      <td>0</td>\n",
              "    </tr>\n",
              "    <tr>\n",
              "      <th>AGE</th>\n",
              "      <td>0</td>\n",
              "    </tr>\n",
              "    <tr>\n",
              "      <th>Urea</th>\n",
              "      <td>0</td>\n",
              "    </tr>\n",
              "    <tr>\n",
              "      <th>Cr</th>\n",
              "      <td>0</td>\n",
              "    </tr>\n",
              "    <tr>\n",
              "      <th>HbA1c</th>\n",
              "      <td>0</td>\n",
              "    </tr>\n",
              "    <tr>\n",
              "      <th>Chol</th>\n",
              "      <td>0</td>\n",
              "    </tr>\n",
              "    <tr>\n",
              "      <th>TG</th>\n",
              "      <td>0</td>\n",
              "    </tr>\n",
              "    <tr>\n",
              "      <th>HDL</th>\n",
              "      <td>0</td>\n",
              "    </tr>\n",
              "    <tr>\n",
              "      <th>LDL</th>\n",
              "      <td>0</td>\n",
              "    </tr>\n",
              "    <tr>\n",
              "      <th>VLDL</th>\n",
              "      <td>0</td>\n",
              "    </tr>\n",
              "    <tr>\n",
              "      <th>BMI</th>\n",
              "      <td>0</td>\n",
              "    </tr>\n",
              "    <tr>\n",
              "      <th>Class</th>\n",
              "      <td>0</td>\n",
              "    </tr>\n",
              "  </tbody>\n",
              "</table>\n",
              "</div><br><label><b>dtype:</b> int64</label>"
            ]
          },
          "metadata": {},
          "execution_count": 52
        }
      ]
    },
    {
      "cell_type": "markdown",
      "source": [
        "# Thank you"
      ],
      "metadata": {
        "id": "ztKyrAqvu6Pq"
      }
    }
  ]
}