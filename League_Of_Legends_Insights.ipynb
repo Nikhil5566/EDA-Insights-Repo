{
  "nbformat": 4,
  "nbformat_minor": 0,
  "metadata": {
    "colab": {
      "provenance": [],
      "authorship_tag": "ABX9TyMi2FhTjCheupfpeRUK0ari",
      "include_colab_link": true
    },
    "kernelspec": {
      "name": "python3",
      "display_name": "Python 3"
    },
    "language_info": {
      "name": "python"
    }
  },
  "cells": [
    {
      "cell_type": "markdown",
      "metadata": {
        "id": "view-in-github",
        "colab_type": "text"
      },
      "source": [
        "<a href=\"https://colab.research.google.com/github/Nikhil5566/EDA-Insights-Repo/blob/main/League_Of_Legends_Insights.ipynb\" target=\"_parent\"><img src=\"https://colab.research.google.com/assets/colab-badge.svg\" alt=\"Open In Colab\"/></a>"
      ]
    },
    {
      "cell_type": "code",
      "execution_count": 1,
      "metadata": {
        "id": "hDa1tpG9ybgq"
      },
      "outputs": [],
      "source": [
        "import numpy as np\n",
        "import pandas as pd\n",
        "import warnings\n",
        "warnings.filterwarnings('ignore')"
      ]
    },
    {
      "cell_type": "code",
      "source": [
        "df = pd.read_csv('050625_LoL_champion_data.csv')"
      ],
      "metadata": {
        "id": "KlM9e6QIzSC7"
      },
      "execution_count": 2,
      "outputs": []
    },
    {
      "cell_type": "code",
      "source": [
        "df.head()"
      ],
      "metadata": {
        "colab": {
          "base_uri": "https://localhost:8080/",
          "height": 706
        },
        "id": "9JXIlMWtzZR5",
        "outputId": "bcbf2ee3-2ee6-4bdb-d4fa-be1f83d51971"
      },
      "execution_count": 3,
      "outputs": [
        {
          "output_type": "execute_result",
          "data": {
            "text/plain": [
              "  Unnamed: 0     id  apiname                title  difficulty  herotype  \\\n",
              "0     Aatrox  266.0   Aatrox     the Darkin Blade           2   Fighter   \n",
              "1       Ahri  103.0     Ahri  the Nine-Tailed Fox           2      Mage   \n",
              "2      Akali   84.0    Akali   the Rogue Assassin           2  Assassin   \n",
              "3     Akshan  166.0   Akshan   the Rogue Sentinel           3  Marksman   \n",
              "4    Alistar   12.0  Alistar         the Minotaur           1      Tank   \n",
              "\n",
              "    alttype    resource                                              stats  \\\n",
              "0      Tank  Blood Well  {'hp_base': 650, 'hp_lvl': 114, 'mp_base': 0, ...   \n",
              "1  Assassin        Mana  {'hp_base': 590, 'hp_lvl': 104, 'mp_base': 418...   \n",
              "2       NaN      Energy  {'hp_base': 600, 'hp_lvl': 119, 'mp_base': 200...   \n",
              "3  Assassin        Mana  {'hp_base': 630, 'hp_lvl': 107, 'mp_base': 350...   \n",
              "4   Support        Mana  {'hp_base': 685, 'hp_lvl': 120, 'mp_base': 350...   \n",
              "\n",
              "  rangetype  ...    be   rp                     skill_i  \\\n",
              "0     Melee  ...  2400  880  {1: 'Deathbringer Stance'}   \n",
              "1    Ranged  ...  1575  790        {1: 'Essence Theft'}   \n",
              "2     Melee  ...  1575  790      {1: \"Assassin's Mark\"}   \n",
              "3    Ranged  ...  2400  880       {1: 'Dirty Fighting'}   \n",
              "4     Melee  ...   675  585      {1: 'Triumphant Roar'}   \n",
              "\n",
              "                                            skill_q                 skill_w  \\\n",
              "0  {1: 'The Darkin Blade', 2: 'The Darkin Blade 3'}  {1: 'Infernal Chains'}   \n",
              "1                           {1: 'Orb of Deception'}         {1: 'Fox-Fire'}   \n",
              "2                          {1: 'Five Point Strike'}  {1: 'Twilight Shroud'}   \n",
              "3                                 {1: 'Avengerang'}      {1: 'Going Rogue'}   \n",
              "4                                  {1: 'Pulverize'}         {1: 'Headbutt'}   \n",
              "\n",
              "                skill_e                   skill_r  \\\n",
              "0    {1: 'Umbral Dash'}        {1: 'World Ender'}   \n",
              "1          {1: 'Charm'}        {1: 'Spirit Rush'}   \n",
              "2  {1: 'Shuriken Flip'}  {1: 'Perfect Execution'}   \n",
              "3   {1: 'Heroic Swing'}        {1: 'Comeuppance'}   \n",
              "4        {1: 'Trample'}   {1: 'Unbreakable Will'}   \n",
              "\n",
              "                                              skills            fullname  \\\n",
              "0  {1: 'Deathbringer Stance', 2: 'The Darkin Blad...                 NaN   \n",
              "1  {1: 'Essence Theft', 2: 'Orb of Deception', 3:...                 NaN   \n",
              "2  {1: \"Assassin's Mark\", 2: 'Five Point Strike',...  Akali Jhomen Tethi   \n",
              "3  {1: 'Dirty Fighting', 2: 'Avengerang', 3: 'Goi...                 NaN   \n",
              "4  {1: 'Triumphant Roar', 2: 'Pulverize', 3: 'Hea...                 NaN   \n",
              "\n",
              "   nickname  \n",
              "0       NaN  \n",
              "1       NaN  \n",
              "2       NaN  \n",
              "3       NaN  \n",
              "4       NaN  \n",
              "\n",
              "[5 rows x 33 columns]"
            ],
            "text/html": [
              "\n",
              "  <div id=\"df-63b7f604-a80e-422d-afac-ad5e5c309b46\" class=\"colab-df-container\">\n",
              "    <div>\n",
              "<style scoped>\n",
              "    .dataframe tbody tr th:only-of-type {\n",
              "        vertical-align: middle;\n",
              "    }\n",
              "\n",
              "    .dataframe tbody tr th {\n",
              "        vertical-align: top;\n",
              "    }\n",
              "\n",
              "    .dataframe thead th {\n",
              "        text-align: right;\n",
              "    }\n",
              "</style>\n",
              "<table border=\"1\" class=\"dataframe\">\n",
              "  <thead>\n",
              "    <tr style=\"text-align: right;\">\n",
              "      <th></th>\n",
              "      <th>Unnamed: 0</th>\n",
              "      <th>id</th>\n",
              "      <th>apiname</th>\n",
              "      <th>title</th>\n",
              "      <th>difficulty</th>\n",
              "      <th>herotype</th>\n",
              "      <th>alttype</th>\n",
              "      <th>resource</th>\n",
              "      <th>stats</th>\n",
              "      <th>rangetype</th>\n",
              "      <th>...</th>\n",
              "      <th>be</th>\n",
              "      <th>rp</th>\n",
              "      <th>skill_i</th>\n",
              "      <th>skill_q</th>\n",
              "      <th>skill_w</th>\n",
              "      <th>skill_e</th>\n",
              "      <th>skill_r</th>\n",
              "      <th>skills</th>\n",
              "      <th>fullname</th>\n",
              "      <th>nickname</th>\n",
              "    </tr>\n",
              "  </thead>\n",
              "  <tbody>\n",
              "    <tr>\n",
              "      <th>0</th>\n",
              "      <td>Aatrox</td>\n",
              "      <td>266.0</td>\n",
              "      <td>Aatrox</td>\n",
              "      <td>the Darkin Blade</td>\n",
              "      <td>2</td>\n",
              "      <td>Fighter</td>\n",
              "      <td>Tank</td>\n",
              "      <td>Blood Well</td>\n",
              "      <td>{'hp_base': 650, 'hp_lvl': 114, 'mp_base': 0, ...</td>\n",
              "      <td>Melee</td>\n",
              "      <td>...</td>\n",
              "      <td>2400</td>\n",
              "      <td>880</td>\n",
              "      <td>{1: 'Deathbringer Stance'}</td>\n",
              "      <td>{1: 'The Darkin Blade', 2: 'The Darkin Blade 3'}</td>\n",
              "      <td>{1: 'Infernal Chains'}</td>\n",
              "      <td>{1: 'Umbral Dash'}</td>\n",
              "      <td>{1: 'World Ender'}</td>\n",
              "      <td>{1: 'Deathbringer Stance', 2: 'The Darkin Blad...</td>\n",
              "      <td>NaN</td>\n",
              "      <td>NaN</td>\n",
              "    </tr>\n",
              "    <tr>\n",
              "      <th>1</th>\n",
              "      <td>Ahri</td>\n",
              "      <td>103.0</td>\n",
              "      <td>Ahri</td>\n",
              "      <td>the Nine-Tailed Fox</td>\n",
              "      <td>2</td>\n",
              "      <td>Mage</td>\n",
              "      <td>Assassin</td>\n",
              "      <td>Mana</td>\n",
              "      <td>{'hp_base': 590, 'hp_lvl': 104, 'mp_base': 418...</td>\n",
              "      <td>Ranged</td>\n",
              "      <td>...</td>\n",
              "      <td>1575</td>\n",
              "      <td>790</td>\n",
              "      <td>{1: 'Essence Theft'}</td>\n",
              "      <td>{1: 'Orb of Deception'}</td>\n",
              "      <td>{1: 'Fox-Fire'}</td>\n",
              "      <td>{1: 'Charm'}</td>\n",
              "      <td>{1: 'Spirit Rush'}</td>\n",
              "      <td>{1: 'Essence Theft', 2: 'Orb of Deception', 3:...</td>\n",
              "      <td>NaN</td>\n",
              "      <td>NaN</td>\n",
              "    </tr>\n",
              "    <tr>\n",
              "      <th>2</th>\n",
              "      <td>Akali</td>\n",
              "      <td>84.0</td>\n",
              "      <td>Akali</td>\n",
              "      <td>the Rogue Assassin</td>\n",
              "      <td>2</td>\n",
              "      <td>Assassin</td>\n",
              "      <td>NaN</td>\n",
              "      <td>Energy</td>\n",
              "      <td>{'hp_base': 600, 'hp_lvl': 119, 'mp_base': 200...</td>\n",
              "      <td>Melee</td>\n",
              "      <td>...</td>\n",
              "      <td>1575</td>\n",
              "      <td>790</td>\n",
              "      <td>{1: \"Assassin's Mark\"}</td>\n",
              "      <td>{1: 'Five Point Strike'}</td>\n",
              "      <td>{1: 'Twilight Shroud'}</td>\n",
              "      <td>{1: 'Shuriken Flip'}</td>\n",
              "      <td>{1: 'Perfect Execution'}</td>\n",
              "      <td>{1: \"Assassin's Mark\", 2: 'Five Point Strike',...</td>\n",
              "      <td>Akali Jhomen Tethi</td>\n",
              "      <td>NaN</td>\n",
              "    </tr>\n",
              "    <tr>\n",
              "      <th>3</th>\n",
              "      <td>Akshan</td>\n",
              "      <td>166.0</td>\n",
              "      <td>Akshan</td>\n",
              "      <td>the Rogue Sentinel</td>\n",
              "      <td>3</td>\n",
              "      <td>Marksman</td>\n",
              "      <td>Assassin</td>\n",
              "      <td>Mana</td>\n",
              "      <td>{'hp_base': 630, 'hp_lvl': 107, 'mp_base': 350...</td>\n",
              "      <td>Ranged</td>\n",
              "      <td>...</td>\n",
              "      <td>2400</td>\n",
              "      <td>880</td>\n",
              "      <td>{1: 'Dirty Fighting'}</td>\n",
              "      <td>{1: 'Avengerang'}</td>\n",
              "      <td>{1: 'Going Rogue'}</td>\n",
              "      <td>{1: 'Heroic Swing'}</td>\n",
              "      <td>{1: 'Comeuppance'}</td>\n",
              "      <td>{1: 'Dirty Fighting', 2: 'Avengerang', 3: 'Goi...</td>\n",
              "      <td>NaN</td>\n",
              "      <td>NaN</td>\n",
              "    </tr>\n",
              "    <tr>\n",
              "      <th>4</th>\n",
              "      <td>Alistar</td>\n",
              "      <td>12.0</td>\n",
              "      <td>Alistar</td>\n",
              "      <td>the Minotaur</td>\n",
              "      <td>1</td>\n",
              "      <td>Tank</td>\n",
              "      <td>Support</td>\n",
              "      <td>Mana</td>\n",
              "      <td>{'hp_base': 685, 'hp_lvl': 120, 'mp_base': 350...</td>\n",
              "      <td>Melee</td>\n",
              "      <td>...</td>\n",
              "      <td>675</td>\n",
              "      <td>585</td>\n",
              "      <td>{1: 'Triumphant Roar'}</td>\n",
              "      <td>{1: 'Pulverize'}</td>\n",
              "      <td>{1: 'Headbutt'}</td>\n",
              "      <td>{1: 'Trample'}</td>\n",
              "      <td>{1: 'Unbreakable Will'}</td>\n",
              "      <td>{1: 'Triumphant Roar', 2: 'Pulverize', 3: 'Hea...</td>\n",
              "      <td>NaN</td>\n",
              "      <td>NaN</td>\n",
              "    </tr>\n",
              "  </tbody>\n",
              "</table>\n",
              "<p>5 rows × 33 columns</p>\n",
              "</div>\n",
              "    <div class=\"colab-df-buttons\">\n",
              "\n",
              "  <div class=\"colab-df-container\">\n",
              "    <button class=\"colab-df-convert\" onclick=\"convertToInteractive('df-63b7f604-a80e-422d-afac-ad5e5c309b46')\"\n",
              "            title=\"Convert this dataframe to an interactive table.\"\n",
              "            style=\"display:none;\">\n",
              "\n",
              "  <svg xmlns=\"http://www.w3.org/2000/svg\" height=\"24px\" viewBox=\"0 -960 960 960\">\n",
              "    <path d=\"M120-120v-720h720v720H120Zm60-500h600v-160H180v160Zm220 220h160v-160H400v160Zm0 220h160v-160H400v160ZM180-400h160v-160H180v160Zm440 0h160v-160H620v160ZM180-180h160v-160H180v160Zm440 0h160v-160H620v160Z\"/>\n",
              "  </svg>\n",
              "    </button>\n",
              "\n",
              "  <style>\n",
              "    .colab-df-container {\n",
              "      display:flex;\n",
              "      gap: 12px;\n",
              "    }\n",
              "\n",
              "    .colab-df-convert {\n",
              "      background-color: #E8F0FE;\n",
              "      border: none;\n",
              "      border-radius: 50%;\n",
              "      cursor: pointer;\n",
              "      display: none;\n",
              "      fill: #1967D2;\n",
              "      height: 32px;\n",
              "      padding: 0 0 0 0;\n",
              "      width: 32px;\n",
              "    }\n",
              "\n",
              "    .colab-df-convert:hover {\n",
              "      background-color: #E2EBFA;\n",
              "      box-shadow: 0px 1px 2px rgba(60, 64, 67, 0.3), 0px 1px 3px 1px rgba(60, 64, 67, 0.15);\n",
              "      fill: #174EA6;\n",
              "    }\n",
              "\n",
              "    .colab-df-buttons div {\n",
              "      margin-bottom: 4px;\n",
              "    }\n",
              "\n",
              "    [theme=dark] .colab-df-convert {\n",
              "      background-color: #3B4455;\n",
              "      fill: #D2E3FC;\n",
              "    }\n",
              "\n",
              "    [theme=dark] .colab-df-convert:hover {\n",
              "      background-color: #434B5C;\n",
              "      box-shadow: 0px 1px 3px 1px rgba(0, 0, 0, 0.15);\n",
              "      filter: drop-shadow(0px 1px 2px rgba(0, 0, 0, 0.3));\n",
              "      fill: #FFFFFF;\n",
              "    }\n",
              "  </style>\n",
              "\n",
              "    <script>\n",
              "      const buttonEl =\n",
              "        document.querySelector('#df-63b7f604-a80e-422d-afac-ad5e5c309b46 button.colab-df-convert');\n",
              "      buttonEl.style.display =\n",
              "        google.colab.kernel.accessAllowed ? 'block' : 'none';\n",
              "\n",
              "      async function convertToInteractive(key) {\n",
              "        const element = document.querySelector('#df-63b7f604-a80e-422d-afac-ad5e5c309b46');\n",
              "        const dataTable =\n",
              "          await google.colab.kernel.invokeFunction('convertToInteractive',\n",
              "                                                    [key], {});\n",
              "        if (!dataTable) return;\n",
              "\n",
              "        const docLinkHtml = 'Like what you see? Visit the ' +\n",
              "          '<a target=\"_blank\" href=https://colab.research.google.com/notebooks/data_table.ipynb>data table notebook</a>'\n",
              "          + ' to learn more about interactive tables.';\n",
              "        element.innerHTML = '';\n",
              "        dataTable['output_type'] = 'display_data';\n",
              "        await google.colab.output.renderOutput(dataTable, element);\n",
              "        const docLink = document.createElement('div');\n",
              "        docLink.innerHTML = docLinkHtml;\n",
              "        element.appendChild(docLink);\n",
              "      }\n",
              "    </script>\n",
              "  </div>\n",
              "\n",
              "\n",
              "    <div id=\"df-842921d8-8916-4596-ad82-b5c0d61c880b\">\n",
              "      <button class=\"colab-df-quickchart\" onclick=\"quickchart('df-842921d8-8916-4596-ad82-b5c0d61c880b')\"\n",
              "                title=\"Suggest charts\"\n",
              "                style=\"display:none;\">\n",
              "\n",
              "<svg xmlns=\"http://www.w3.org/2000/svg\" height=\"24px\"viewBox=\"0 0 24 24\"\n",
              "     width=\"24px\">\n",
              "    <g>\n",
              "        <path d=\"M19 3H5c-1.1 0-2 .9-2 2v14c0 1.1.9 2 2 2h14c1.1 0 2-.9 2-2V5c0-1.1-.9-2-2-2zM9 17H7v-7h2v7zm4 0h-2V7h2v10zm4 0h-2v-4h2v4z\"/>\n",
              "    </g>\n",
              "</svg>\n",
              "      </button>\n",
              "\n",
              "<style>\n",
              "  .colab-df-quickchart {\n",
              "      --bg-color: #E8F0FE;\n",
              "      --fill-color: #1967D2;\n",
              "      --hover-bg-color: #E2EBFA;\n",
              "      --hover-fill-color: #174EA6;\n",
              "      --disabled-fill-color: #AAA;\n",
              "      --disabled-bg-color: #DDD;\n",
              "  }\n",
              "\n",
              "  [theme=dark] .colab-df-quickchart {\n",
              "      --bg-color: #3B4455;\n",
              "      --fill-color: #D2E3FC;\n",
              "      --hover-bg-color: #434B5C;\n",
              "      --hover-fill-color: #FFFFFF;\n",
              "      --disabled-bg-color: #3B4455;\n",
              "      --disabled-fill-color: #666;\n",
              "  }\n",
              "\n",
              "  .colab-df-quickchart {\n",
              "    background-color: var(--bg-color);\n",
              "    border: none;\n",
              "    border-radius: 50%;\n",
              "    cursor: pointer;\n",
              "    display: none;\n",
              "    fill: var(--fill-color);\n",
              "    height: 32px;\n",
              "    padding: 0;\n",
              "    width: 32px;\n",
              "  }\n",
              "\n",
              "  .colab-df-quickchart:hover {\n",
              "    background-color: var(--hover-bg-color);\n",
              "    box-shadow: 0 1px 2px rgba(60, 64, 67, 0.3), 0 1px 3px 1px rgba(60, 64, 67, 0.15);\n",
              "    fill: var(--button-hover-fill-color);\n",
              "  }\n",
              "\n",
              "  .colab-df-quickchart-complete:disabled,\n",
              "  .colab-df-quickchart-complete:disabled:hover {\n",
              "    background-color: var(--disabled-bg-color);\n",
              "    fill: var(--disabled-fill-color);\n",
              "    box-shadow: none;\n",
              "  }\n",
              "\n",
              "  .colab-df-spinner {\n",
              "    border: 2px solid var(--fill-color);\n",
              "    border-color: transparent;\n",
              "    border-bottom-color: var(--fill-color);\n",
              "    animation:\n",
              "      spin 1s steps(1) infinite;\n",
              "  }\n",
              "\n",
              "  @keyframes spin {\n",
              "    0% {\n",
              "      border-color: transparent;\n",
              "      border-bottom-color: var(--fill-color);\n",
              "      border-left-color: var(--fill-color);\n",
              "    }\n",
              "    20% {\n",
              "      border-color: transparent;\n",
              "      border-left-color: var(--fill-color);\n",
              "      border-top-color: var(--fill-color);\n",
              "    }\n",
              "    30% {\n",
              "      border-color: transparent;\n",
              "      border-left-color: var(--fill-color);\n",
              "      border-top-color: var(--fill-color);\n",
              "      border-right-color: var(--fill-color);\n",
              "    }\n",
              "    40% {\n",
              "      border-color: transparent;\n",
              "      border-right-color: var(--fill-color);\n",
              "      border-top-color: var(--fill-color);\n",
              "    }\n",
              "    60% {\n",
              "      border-color: transparent;\n",
              "      border-right-color: var(--fill-color);\n",
              "    }\n",
              "    80% {\n",
              "      border-color: transparent;\n",
              "      border-right-color: var(--fill-color);\n",
              "      border-bottom-color: var(--fill-color);\n",
              "    }\n",
              "    90% {\n",
              "      border-color: transparent;\n",
              "      border-bottom-color: var(--fill-color);\n",
              "    }\n",
              "  }\n",
              "</style>\n",
              "\n",
              "      <script>\n",
              "        async function quickchart(key) {\n",
              "          const quickchartButtonEl =\n",
              "            document.querySelector('#' + key + ' button');\n",
              "          quickchartButtonEl.disabled = true;  // To prevent multiple clicks.\n",
              "          quickchartButtonEl.classList.add('colab-df-spinner');\n",
              "          try {\n",
              "            const charts = await google.colab.kernel.invokeFunction(\n",
              "                'suggestCharts', [key], {});\n",
              "          } catch (error) {\n",
              "            console.error('Error during call to suggestCharts:', error);\n",
              "          }\n",
              "          quickchartButtonEl.classList.remove('colab-df-spinner');\n",
              "          quickchartButtonEl.classList.add('colab-df-quickchart-complete');\n",
              "        }\n",
              "        (() => {\n",
              "          let quickchartButtonEl =\n",
              "            document.querySelector('#df-842921d8-8916-4596-ad82-b5c0d61c880b button');\n",
              "          quickchartButtonEl.style.display =\n",
              "            google.colab.kernel.accessAllowed ? 'block' : 'none';\n",
              "        })();\n",
              "      </script>\n",
              "    </div>\n",
              "\n",
              "    </div>\n",
              "  </div>\n"
            ],
            "application/vnd.google.colaboratory.intrinsic+json": {
              "type": "dataframe",
              "variable_name": "df"
            }
          },
          "metadata": {},
          "execution_count": 3
        }
      ]
    },
    {
      "cell_type": "markdown",
      "source": [
        "# Basic Aggregation Questions:"
      ],
      "metadata": {
        "id": "RMvgvmeL0Shs"
      }
    },
    {
      "cell_type": "markdown",
      "source": [
        "### 1. What is the average damage of all champions?\n",
        "\n"
      ],
      "metadata": {
        "id": "lKhOO2W10Jif"
      }
    },
    {
      "cell_type": "code",
      "source": [
        "avg_damage = df['damage'].mean()\n",
        "print('Average damage:',avg_damage)"
      ],
      "metadata": {
        "colab": {
          "base_uri": "https://localhost:8080/"
        },
        "id": "1OKDmXHnzajw",
        "outputId": "ef65e1ee-b551-4ae0-911f-7bbb7f62f785"
      },
      "execution_count": 15,
      "outputs": [
        {
          "output_type": "stream",
          "name": "stdout",
          "text": [
            "Average damage: 2.4651162790697674\n"
          ]
        }
      ]
    },
    {
      "cell_type": "markdown",
      "source": [
        "### 2. What is the total number of champions in the dataset?"
      ],
      "metadata": {
        "id": "SAPtMpSD0xdu"
      }
    },
    {
      "cell_type": "code",
      "source": [
        "total_champions = df.shape[0]\n",
        "print(total_champions)"
      ],
      "metadata": {
        "colab": {
          "base_uri": "https://localhost:8080/"
        },
        "id": "vrmRVyzR0wVg",
        "outputId": "25827440-e626-4a92-dc32-d8d5d13cdf51"
      },
      "execution_count": 17,
      "outputs": [
        {
          "output_type": "stream",
          "name": "stdout",
          "text": [
            "172\n"
          ]
        }
      ]
    },
    {
      "cell_type": "markdown",
      "source": [
        "### 3. What is the average attack damage across all champions?"
      ],
      "metadata": {
        "id": "W4BRSTv000mi"
      }
    },
    {
      "cell_type": "code",
      "source": [
        "avg_damage = df['damage'].mean()\n",
        "print(f'Average Damage: {avg_damage:.2f}')"
      ],
      "metadata": {
        "colab": {
          "base_uri": "https://localhost:8080/"
        },
        "id": "1U-Annmf03i-",
        "outputId": "0cf78366-e5a1-4a99-a082-3797ee3bdef2"
      },
      "execution_count": 23,
      "outputs": [
        {
          "output_type": "stream",
          "name": "stdout",
          "text": [
            "Average Damage: 2.47\n"
          ]
        }
      ]
    },
    {
      "cell_type": "markdown",
      "source": [
        "### 4. What is the sum of all champions' base mana values?"
      ],
      "metadata": {
        "id": "221VxJPB04Dg"
      }
    },
    {
      "cell_type": "code",
      "source": [
        "tlt = df['be'].sum()\n",
        "print(tlt)"
      ],
      "metadata": {
        "colab": {
          "base_uri": "https://localhost:8080/"
        },
        "id": "jPRGZK8z04yX",
        "outputId": "c53d4dff-c3a0-471f-e026-269d706b7050"
      },
      "execution_count": 27,
      "outputs": [
        {
          "output_type": "stream",
          "name": "stdout",
          "text": [
            "269852\n"
          ]
        }
      ]
    },
    {
      "cell_type": "code",
      "metadata": {
        "colab": {
          "base_uri": "https://localhost:8080/"
        },
        "id": "0b5724d6",
        "outputId": "d4cd3aa8-e685-4e2d-a3be-d32495f172bf"
      },
      "source": [
        "print(df.columns)"
      ],
      "execution_count": 8,
      "outputs": [
        {
          "output_type": "stream",
          "name": "stdout",
          "text": [
            "Index(['Unnamed: 0', 'id', 'apiname', 'title', 'difficulty', 'herotype',\n",
            "       'alttype', 'resource', 'stats', 'rangetype', 'date', 'patch', 'changes',\n",
            "       'role', 'client_positions', 'external_positions', 'damage', 'toughness',\n",
            "       'control', 'mobility', 'utility', 'style', 'adaptivetype', 'be', 'rp',\n",
            "       'skill_i', 'skill_q', 'skill_w', 'skill_e', 'skill_r', 'skills',\n",
            "       'fullname', 'nickname'],\n",
            "      dtype='object')\n"
          ]
        }
      ]
    }
  ]
}