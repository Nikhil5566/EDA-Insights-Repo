{
  "nbformat": 4,
  "nbformat_minor": 0,
  "metadata": {
    "colab": {
      "provenance": [],
      "authorship_tag": "ABX9TyM0gEJK3B9fb/zZBR5bBV+W",
      "include_colab_link": true
    },
    "kernelspec": {
      "name": "python3",
      "display_name": "Python 3"
    },
    "language_info": {
      "name": "python"
    }
  },
  "cells": [
    {
      "cell_type": "markdown",
      "metadata": {
        "id": "view-in-github",
        "colab_type": "text"
      },
      "source": [
        "<a href=\"https://colab.research.google.com/github/Nikhil5566/EDA-Insights-Repo/blob/main/Google_Ads_Insights.ipynb\" target=\"_parent\"><img src=\"https://colab.research.google.com/assets/colab-badge.svg\" alt=\"Open In Colab\"/></a>"
      ]
    },
    {
      "cell_type": "markdown",
      "source": [
        "# Google Ads Insights\n"
      ],
      "metadata": {
        "id": "x67mWEUC-CRK"
      }
    },
    {
      "cell_type": "code",
      "source": [
        "import numpy as np\n",
        "import pandas as pd"
      ],
      "metadata": {
        "id": "IOUJl2Jm-z0R"
      },
      "execution_count": 1,
      "outputs": []
    },
    {
      "cell_type": "code",
      "source": [
        "df = pd.read_csv('GoogleAds_DataAnalytics_Sales_Uncleaned.csv')\n",
        "df.head()"
      ],
      "metadata": {
        "colab": {
          "base_uri": "https://localhost:8080/",
          "height": 206
        },
        "id": "NjtTvbL--zta",
        "outputId": "fdb4d268-f56f-45c2-c670-9050ae6aa242"
      },
      "execution_count": 3,
      "outputs": [
        {
          "output_type": "execute_result",
          "data": {
            "text/plain": [
              "   Ad_ID          Campaign_Name  Clicks  Impressions     Cost  Leads  \\\n",
              "0  A1000    DataAnalyticsCourse   104.0       4498.0  $231.88   14.0   \n",
              "1  A1001    DataAnalyticsCourse   173.0       5107.0  $216.84   10.0   \n",
              "2  A1002    Data Anlytics Corse    90.0       4544.0  $203.66   26.0   \n",
              "3  A1003  Data Analytcis Course   142.0       3185.0  $237.66   17.0   \n",
              "4  A1004   Data Analytics Corse   156.0       3361.0   $195.9   30.0   \n",
              "\n",
              "   Conversions  Conversion Rate Sale_Amount     Ad_Date   Location   Device  \\\n",
              "0          7.0            0.058       $1892  2024-11-16  hyderabad  desktop   \n",
              "1          8.0            0.046       $1679  20-11-2024  hyderabad   mobile   \n",
              "2          9.0              NaN       $1624  2024/11/16  hyderabad  Desktop   \n",
              "3          6.0              NaN       $1225  2024-11-26  HYDERABAD   tablet   \n",
              "4          8.0              NaN       $1091  2024-11-22  hyderabad  desktop   \n",
              "\n",
              "                  Keyword  \n",
              "0    learn data analytics  \n",
              "1   data analytics course  \n",
              "2   data analitics online  \n",
              "3  data anaytics training  \n",
              "4    online data analytic  "
            ],
            "text/html": [
              "\n",
              "  <div id=\"df-80a5ed2f-bf2d-4a86-b36e-92026eb2f300\" class=\"colab-df-container\">\n",
              "    <div>\n",
              "<style scoped>\n",
              "    .dataframe tbody tr th:only-of-type {\n",
              "        vertical-align: middle;\n",
              "    }\n",
              "\n",
              "    .dataframe tbody tr th {\n",
              "        vertical-align: top;\n",
              "    }\n",
              "\n",
              "    .dataframe thead th {\n",
              "        text-align: right;\n",
              "    }\n",
              "</style>\n",
              "<table border=\"1\" class=\"dataframe\">\n",
              "  <thead>\n",
              "    <tr style=\"text-align: right;\">\n",
              "      <th></th>\n",
              "      <th>Ad_ID</th>\n",
              "      <th>Campaign_Name</th>\n",
              "      <th>Clicks</th>\n",
              "      <th>Impressions</th>\n",
              "      <th>Cost</th>\n",
              "      <th>Leads</th>\n",
              "      <th>Conversions</th>\n",
              "      <th>Conversion Rate</th>\n",
              "      <th>Sale_Amount</th>\n",
              "      <th>Ad_Date</th>\n",
              "      <th>Location</th>\n",
              "      <th>Device</th>\n",
              "      <th>Keyword</th>\n",
              "    </tr>\n",
              "  </thead>\n",
              "  <tbody>\n",
              "    <tr>\n",
              "      <th>0</th>\n",
              "      <td>A1000</td>\n",
              "      <td>DataAnalyticsCourse</td>\n",
              "      <td>104.0</td>\n",
              "      <td>4498.0</td>\n",
              "      <td>$231.88</td>\n",
              "      <td>14.0</td>\n",
              "      <td>7.0</td>\n",
              "      <td>0.058</td>\n",
              "      <td>$1892</td>\n",
              "      <td>2024-11-16</td>\n",
              "      <td>hyderabad</td>\n",
              "      <td>desktop</td>\n",
              "      <td>learn data analytics</td>\n",
              "    </tr>\n",
              "    <tr>\n",
              "      <th>1</th>\n",
              "      <td>A1001</td>\n",
              "      <td>DataAnalyticsCourse</td>\n",
              "      <td>173.0</td>\n",
              "      <td>5107.0</td>\n",
              "      <td>$216.84</td>\n",
              "      <td>10.0</td>\n",
              "      <td>8.0</td>\n",
              "      <td>0.046</td>\n",
              "      <td>$1679</td>\n",
              "      <td>20-11-2024</td>\n",
              "      <td>hyderabad</td>\n",
              "      <td>mobile</td>\n",
              "      <td>data analytics course</td>\n",
              "    </tr>\n",
              "    <tr>\n",
              "      <th>2</th>\n",
              "      <td>A1002</td>\n",
              "      <td>Data Anlytics Corse</td>\n",
              "      <td>90.0</td>\n",
              "      <td>4544.0</td>\n",
              "      <td>$203.66</td>\n",
              "      <td>26.0</td>\n",
              "      <td>9.0</td>\n",
              "      <td>NaN</td>\n",
              "      <td>$1624</td>\n",
              "      <td>2024/11/16</td>\n",
              "      <td>hyderabad</td>\n",
              "      <td>Desktop</td>\n",
              "      <td>data analitics online</td>\n",
              "    </tr>\n",
              "    <tr>\n",
              "      <th>3</th>\n",
              "      <td>A1003</td>\n",
              "      <td>Data Analytcis Course</td>\n",
              "      <td>142.0</td>\n",
              "      <td>3185.0</td>\n",
              "      <td>$237.66</td>\n",
              "      <td>17.0</td>\n",
              "      <td>6.0</td>\n",
              "      <td>NaN</td>\n",
              "      <td>$1225</td>\n",
              "      <td>2024-11-26</td>\n",
              "      <td>HYDERABAD</td>\n",
              "      <td>tablet</td>\n",
              "      <td>data anaytics training</td>\n",
              "    </tr>\n",
              "    <tr>\n",
              "      <th>4</th>\n",
              "      <td>A1004</td>\n",
              "      <td>Data Analytics Corse</td>\n",
              "      <td>156.0</td>\n",
              "      <td>3361.0</td>\n",
              "      <td>$195.9</td>\n",
              "      <td>30.0</td>\n",
              "      <td>8.0</td>\n",
              "      <td>NaN</td>\n",
              "      <td>$1091</td>\n",
              "      <td>2024-11-22</td>\n",
              "      <td>hyderabad</td>\n",
              "      <td>desktop</td>\n",
              "      <td>online data analytic</td>\n",
              "    </tr>\n",
              "  </tbody>\n",
              "</table>\n",
              "</div>\n",
              "    <div class=\"colab-df-buttons\">\n",
              "\n",
              "  <div class=\"colab-df-container\">\n",
              "    <button class=\"colab-df-convert\" onclick=\"convertToInteractive('df-80a5ed2f-bf2d-4a86-b36e-92026eb2f300')\"\n",
              "            title=\"Convert this dataframe to an interactive table.\"\n",
              "            style=\"display:none;\">\n",
              "\n",
              "  <svg xmlns=\"http://www.w3.org/2000/svg\" height=\"24px\" viewBox=\"0 -960 960 960\">\n",
              "    <path d=\"M120-120v-720h720v720H120Zm60-500h600v-160H180v160Zm220 220h160v-160H400v160Zm0 220h160v-160H400v160ZM180-400h160v-160H180v160Zm440 0h160v-160H620v160ZM180-180h160v-160H180v160Zm440 0h160v-160H620v160Z\"/>\n",
              "  </svg>\n",
              "    </button>\n",
              "\n",
              "  <style>\n",
              "    .colab-df-container {\n",
              "      display:flex;\n",
              "      gap: 12px;\n",
              "    }\n",
              "\n",
              "    .colab-df-convert {\n",
              "      background-color: #E8F0FE;\n",
              "      border: none;\n",
              "      border-radius: 50%;\n",
              "      cursor: pointer;\n",
              "      display: none;\n",
              "      fill: #1967D2;\n",
              "      height: 32px;\n",
              "      padding: 0 0 0 0;\n",
              "      width: 32px;\n",
              "    }\n",
              "\n",
              "    .colab-df-convert:hover {\n",
              "      background-color: #E2EBFA;\n",
              "      box-shadow: 0px 1px 2px rgba(60, 64, 67, 0.3), 0px 1px 3px 1px rgba(60, 64, 67, 0.15);\n",
              "      fill: #174EA6;\n",
              "    }\n",
              "\n",
              "    .colab-df-buttons div {\n",
              "      margin-bottom: 4px;\n",
              "    }\n",
              "\n",
              "    [theme=dark] .colab-df-convert {\n",
              "      background-color: #3B4455;\n",
              "      fill: #D2E3FC;\n",
              "    }\n",
              "\n",
              "    [theme=dark] .colab-df-convert:hover {\n",
              "      background-color: #434B5C;\n",
              "      box-shadow: 0px 1px 3px 1px rgba(0, 0, 0, 0.15);\n",
              "      filter: drop-shadow(0px 1px 2px rgba(0, 0, 0, 0.3));\n",
              "      fill: #FFFFFF;\n",
              "    }\n",
              "  </style>\n",
              "\n",
              "    <script>\n",
              "      const buttonEl =\n",
              "        document.querySelector('#df-80a5ed2f-bf2d-4a86-b36e-92026eb2f300 button.colab-df-convert');\n",
              "      buttonEl.style.display =\n",
              "        google.colab.kernel.accessAllowed ? 'block' : 'none';\n",
              "\n",
              "      async function convertToInteractive(key) {\n",
              "        const element = document.querySelector('#df-80a5ed2f-bf2d-4a86-b36e-92026eb2f300');\n",
              "        const dataTable =\n",
              "          await google.colab.kernel.invokeFunction('convertToInteractive',\n",
              "                                                    [key], {});\n",
              "        if (!dataTable) return;\n",
              "\n",
              "        const docLinkHtml = 'Like what you see? Visit the ' +\n",
              "          '<a target=\"_blank\" href=https://colab.research.google.com/notebooks/data_table.ipynb>data table notebook</a>'\n",
              "          + ' to learn more about interactive tables.';\n",
              "        element.innerHTML = '';\n",
              "        dataTable['output_type'] = 'display_data';\n",
              "        await google.colab.output.renderOutput(dataTable, element);\n",
              "        const docLink = document.createElement('div');\n",
              "        docLink.innerHTML = docLinkHtml;\n",
              "        element.appendChild(docLink);\n",
              "      }\n",
              "    </script>\n",
              "  </div>\n",
              "\n",
              "\n",
              "    <div id=\"df-f39da718-9bf7-4ce0-8e06-e30193ef5b55\">\n",
              "      <button class=\"colab-df-quickchart\" onclick=\"quickchart('df-f39da718-9bf7-4ce0-8e06-e30193ef5b55')\"\n",
              "                title=\"Suggest charts\"\n",
              "                style=\"display:none;\">\n",
              "\n",
              "<svg xmlns=\"http://www.w3.org/2000/svg\" height=\"24px\"viewBox=\"0 0 24 24\"\n",
              "     width=\"24px\">\n",
              "    <g>\n",
              "        <path d=\"M19 3H5c-1.1 0-2 .9-2 2v14c0 1.1.9 2 2 2h14c1.1 0 2-.9 2-2V5c0-1.1-.9-2-2-2zM9 17H7v-7h2v7zm4 0h-2V7h2v10zm4 0h-2v-4h2v4z\"/>\n",
              "    </g>\n",
              "</svg>\n",
              "      </button>\n",
              "\n",
              "<style>\n",
              "  .colab-df-quickchart {\n",
              "      --bg-color: #E8F0FE;\n",
              "      --fill-color: #1967D2;\n",
              "      --hover-bg-color: #E2EBFA;\n",
              "      --hover-fill-color: #174EA6;\n",
              "      --disabled-fill-color: #AAA;\n",
              "      --disabled-bg-color: #DDD;\n",
              "  }\n",
              "\n",
              "  [theme=dark] .colab-df-quickchart {\n",
              "      --bg-color: #3B4455;\n",
              "      --fill-color: #D2E3FC;\n",
              "      --hover-bg-color: #434B5C;\n",
              "      --hover-fill-color: #FFFFFF;\n",
              "      --disabled-bg-color: #3B4455;\n",
              "      --disabled-fill-color: #666;\n",
              "  }\n",
              "\n",
              "  .colab-df-quickchart {\n",
              "    background-color: var(--bg-color);\n",
              "    border: none;\n",
              "    border-radius: 50%;\n",
              "    cursor: pointer;\n",
              "    display: none;\n",
              "    fill: var(--fill-color);\n",
              "    height: 32px;\n",
              "    padding: 0;\n",
              "    width: 32px;\n",
              "  }\n",
              "\n",
              "  .colab-df-quickchart:hover {\n",
              "    background-color: var(--hover-bg-color);\n",
              "    box-shadow: 0 1px 2px rgba(60, 64, 67, 0.3), 0 1px 3px 1px rgba(60, 64, 67, 0.15);\n",
              "    fill: var(--button-hover-fill-color);\n",
              "  }\n",
              "\n",
              "  .colab-df-quickchart-complete:disabled,\n",
              "  .colab-df-quickchart-complete:disabled:hover {\n",
              "    background-color: var(--disabled-bg-color);\n",
              "    fill: var(--disabled-fill-color);\n",
              "    box-shadow: none;\n",
              "  }\n",
              "\n",
              "  .colab-df-spinner {\n",
              "    border: 2px solid var(--fill-color);\n",
              "    border-color: transparent;\n",
              "    border-bottom-color: var(--fill-color);\n",
              "    animation:\n",
              "      spin 1s steps(1) infinite;\n",
              "  }\n",
              "\n",
              "  @keyframes spin {\n",
              "    0% {\n",
              "      border-color: transparent;\n",
              "      border-bottom-color: var(--fill-color);\n",
              "      border-left-color: var(--fill-color);\n",
              "    }\n",
              "    20% {\n",
              "      border-color: transparent;\n",
              "      border-left-color: var(--fill-color);\n",
              "      border-top-color: var(--fill-color);\n",
              "    }\n",
              "    30% {\n",
              "      border-color: transparent;\n",
              "      border-left-color: var(--fill-color);\n",
              "      border-top-color: var(--fill-color);\n",
              "      border-right-color: var(--fill-color);\n",
              "    }\n",
              "    40% {\n",
              "      border-color: transparent;\n",
              "      border-right-color: var(--fill-color);\n",
              "      border-top-color: var(--fill-color);\n",
              "    }\n",
              "    60% {\n",
              "      border-color: transparent;\n",
              "      border-right-color: var(--fill-color);\n",
              "    }\n",
              "    80% {\n",
              "      border-color: transparent;\n",
              "      border-right-color: var(--fill-color);\n",
              "      border-bottom-color: var(--fill-color);\n",
              "    }\n",
              "    90% {\n",
              "      border-color: transparent;\n",
              "      border-bottom-color: var(--fill-color);\n",
              "    }\n",
              "  }\n",
              "</style>\n",
              "\n",
              "      <script>\n",
              "        async function quickchart(key) {\n",
              "          const quickchartButtonEl =\n",
              "            document.querySelector('#' + key + ' button');\n",
              "          quickchartButtonEl.disabled = true;  // To prevent multiple clicks.\n",
              "          quickchartButtonEl.classList.add('colab-df-spinner');\n",
              "          try {\n",
              "            const charts = await google.colab.kernel.invokeFunction(\n",
              "                'suggestCharts', [key], {});\n",
              "          } catch (error) {\n",
              "            console.error('Error during call to suggestCharts:', error);\n",
              "          }\n",
              "          quickchartButtonEl.classList.remove('colab-df-spinner');\n",
              "          quickchartButtonEl.classList.add('colab-df-quickchart-complete');\n",
              "        }\n",
              "        (() => {\n",
              "          let quickchartButtonEl =\n",
              "            document.querySelector('#df-f39da718-9bf7-4ce0-8e06-e30193ef5b55 button');\n",
              "          quickchartButtonEl.style.display =\n",
              "            google.colab.kernel.accessAllowed ? 'block' : 'none';\n",
              "        })();\n",
              "      </script>\n",
              "    </div>\n",
              "\n",
              "    </div>\n",
              "  </div>\n"
            ],
            "application/vnd.google.colaboratory.intrinsic+json": {
              "type": "dataframe",
              "variable_name": "df",
              "summary": "{\n  \"name\": \"df\",\n  \"rows\": 2600,\n  \"fields\": [\n    {\n      \"column\": \"Ad_ID\",\n      \"properties\": {\n        \"dtype\": \"string\",\n        \"num_unique_values\": 2600,\n        \"samples\": [\n          \"A2593\",\n          \"A1196\",\n          \"A1239\"\n        ],\n        \"semantic_type\": \"\",\n        \"description\": \"\"\n      }\n    },\n    {\n      \"column\": \"Campaign_Name\",\n      \"properties\": {\n        \"dtype\": \"category\",\n        \"num_unique_values\": 4,\n        \"samples\": [\n          \"Data Anlytics Corse\",\n          \"Data Analytics Corse\",\n          \"DataAnalyticsCourse\"\n        ],\n        \"semantic_type\": \"\",\n        \"description\": \"\"\n      }\n    },\n    {\n      \"column\": \"Clicks\",\n      \"properties\": {\n        \"dtype\": \"number\",\n        \"std\": 34.61937557762646,\n        \"min\": 80.0,\n        \"max\": 199.0,\n        \"num_unique_values\": 120,\n        \"samples\": [\n          185.0,\n          138.0,\n          156.0\n        ],\n        \"semantic_type\": \"\",\n        \"description\": \"\"\n      }\n    },\n    {\n      \"column\": \"Impressions\",\n      \"properties\": {\n        \"dtype\": \"number\",\n        \"std\": 869.927912512539,\n        \"min\": 3000.0,\n        \"max\": 5999.0,\n        \"num_unique_values\": 1702,\n        \"samples\": [\n          3733.0,\n          4074.0,\n          4352.0\n        ],\n        \"semantic_type\": \"\",\n        \"description\": \"\"\n      }\n    },\n    {\n      \"column\": \"Cost\",\n      \"properties\": {\n        \"dtype\": \"string\",\n        \"num_unique_values\": 2106,\n        \"samples\": [\n          \"$197.43\",\n          \"$190.25\",\n          \"$204.5\"\n        ],\n        \"semantic_type\": \"\",\n        \"description\": \"\"\n      }\n    },\n    {\n      \"column\": \"Leads\",\n      \"properties\": {\n        \"dtype\": \"number\",\n        \"std\": 6.032317278651088,\n        \"min\": 10.0,\n        \"max\": 30.0,\n        \"num_unique_values\": 21,\n        \"samples\": [\n          14.0,\n          16.0,\n          28.0\n        ],\n        \"semantic_type\": \"\",\n        \"description\": \"\"\n      }\n    },\n    {\n      \"column\": \"Conversions\",\n      \"properties\": {\n        \"dtype\": \"number\",\n        \"std\": 2.272573268736669,\n        \"min\": 3.0,\n        \"max\": 10.0,\n        \"num_unique_values\": 8,\n        \"samples\": [\n          8.0,\n          3.0,\n          7.0\n        ],\n        \"semantic_type\": \"\",\n        \"description\": \"\"\n      }\n    },\n    {\n      \"column\": \"Conversion Rate\",\n      \"properties\": {\n        \"dtype\": \"number\",\n        \"std\": 0.01998722537320792,\n        \"min\": 0.015,\n        \"max\": 0.123,\n        \"num_unique_values\": 105,\n        \"samples\": [\n          0.061,\n          0.111,\n          0.072\n        ],\n        \"semantic_type\": \"\",\n        \"description\": \"\"\n      }\n    },\n    {\n      \"column\": \"Sale_Amount\",\n      \"properties\": {\n        \"dtype\": \"category\",\n        \"num_unique_values\": 921,\n        \"samples\": [\n          \"$1822\",\n          \"$1208\",\n          \"$1850\"\n        ],\n        \"semantic_type\": \"\",\n        \"description\": \"\"\n      }\n    },\n    {\n      \"column\": \"Ad_Date\",\n      \"properties\": {\n        \"dtype\": \"category\",\n        \"num_unique_values\": 90,\n        \"samples\": [\n          \"2024/11/26\",\n          \"2024-11-02\",\n          \"2024/11/23\"\n        ],\n        \"semantic_type\": \"\",\n        \"description\": \"\"\n      }\n    },\n    {\n      \"column\": \"Location\",\n      \"properties\": {\n        \"dtype\": \"category\",\n        \"num_unique_values\": 4,\n        \"samples\": [\n          \"HYDERABAD\",\n          \"hydrebad\",\n          \"hyderabad\"\n        ],\n        \"semantic_type\": \"\",\n        \"description\": \"\"\n      }\n    },\n    {\n      \"column\": \"Device\",\n      \"properties\": {\n        \"dtype\": \"category\",\n        \"num_unique_values\": 9,\n        \"samples\": [\n          \"Mobile\",\n          \"mobile\",\n          \"TABLET\"\n        ],\n        \"semantic_type\": \"\",\n        \"description\": \"\"\n      }\n    },\n    {\n      \"column\": \"Keyword\",\n      \"properties\": {\n        \"dtype\": \"category\",\n        \"num_unique_values\": 6,\n        \"samples\": [\n          \"learn data analytics\",\n          \"data analytics course\",\n          \"analytics for data\"\n        ],\n        \"semantic_type\": \"\",\n        \"description\": \"\"\n      }\n    }\n  ]\n}"
            }
          },
          "metadata": {},
          "execution_count": 3
        }
      ]
    },
    {
      "cell_type": "markdown",
      "source": [
        "# Basic Aggregation"
      ],
      "metadata": {
        "id": "Pm-taKQI-nb6"
      }
    },
    {
      "cell_type": "markdown",
      "source": [
        "1. What is the total number of clicks generated across all ads?\n",
        "\n",
        "2. What is the total cost of all ad campaigns?\n",
        "\n",
        "3. What is the average conversion rate across campaigns?\n",
        "\n",
        "4. What is the total sales amount generated across campaigns?\n",
        "\n",
        "5. What is the average number of leads generated per campaign?"
      ],
      "metadata": {
        "id": "JS4wWVZK-qaq"
      }
    },
    {
      "cell_type": "code",
      "execution_count": 5,
      "metadata": {
        "colab": {
          "base_uri": "https://localhost:8080/"
        },
        "id": "jhE4FS2193Q4",
        "outputId": "8ead8e38-051a-4d29-a96d-044fd2c4d9b6"
      },
      "outputs": [
        {
          "output_type": "stream",
          "name": "stdout",
          "text": [
            "Total number of clicks: 345725.0\n"
          ]
        }
      ],
      "source": [
        "print('Total number of clicks:', df['Clicks'].sum())"
      ]
    },
    {
      "cell_type": "code",
      "source": [
        "df['Cost'] = df['Cost'].astype(str).str.replace('$', '', regex=False).str.replace(',', '', regex=False)\n",
        "df['Cost'] = pd.to_numeric(df['Cost'], errors='coerce').fillna(0)\n",
        "print('Total cost of ad campaigns:', df['Cost'].sum())"
      ],
      "metadata": {
        "colab": {
          "base_uri": "https://localhost:8080/"
        },
        "id": "uBwWnjTc_8WL",
        "outputId": "f85f64d8-b845-4288-e54e-556d770a23b1"
      },
      "execution_count": 8,
      "outputs": [
        {
          "output_type": "stream",
          "name": "stdout",
          "text": [
            "Total cost of ad campaigns: 538371.8300000001\n"
          ]
        }
      ]
    },
    {
      "cell_type": "code",
      "source": [
        "print('Average conversion rate:', df['Conversion Rate'].mean())"
      ],
      "metadata": {
        "colab": {
          "base_uri": "https://localhost:8080/"
        },
        "id": "NWfFsBfSB2QQ",
        "outputId": "1fa23221-7424-4d2c-8786-883932fb1ea3"
      },
      "execution_count": 10,
      "outputs": [
        {
          "output_type": "stream",
          "name": "stdout",
          "text": [
            "Average conversion rate: 0.04897922998986829\n"
          ]
        }
      ]
    },
    {
      "cell_type": "code",
      "source": [
        "df['Sale_Amount'] = df['Sale_Amount'].astype(str).str.replace('$', '', regex = False).str.replace(';','',regex = False)\n",
        "df['Sale_Amount'] = pd.to_numeric(df['Sale_Amount'], errors = 'coerce').fillna(0)\n",
        "print('Total sales amount:',df['Sale_Amount'].sum())"
      ],
      "metadata": {
        "colab": {
          "base_uri": "https://localhost:8080/"
        },
        "id": "i9QvZzlJDG8f",
        "outputId": "a9d1bf0d-87ad-4e34-ccec-0c7fcddb86eb"
      },
      "execution_count": 12,
      "outputs": [
        {
          "output_type": "stream",
          "name": "stdout",
          "text": [
            "Total sales amount: 3688173.0\n"
          ]
        }
      ]
    },
    {
      "cell_type": "code",
      "source": [
        "print('Leads per campaign:', df['Leads'].mean())"
      ],
      "metadata": {
        "colab": {
          "base_uri": "https://localhost:8080/"
        },
        "id": "5PVRkWRMDkX_",
        "outputId": "c511d69f-ea4f-4481-9485-312d086cb182"
      },
      "execution_count": 13,
      "outputs": [
        {
          "output_type": "stream",
          "name": "stdout",
          "text": [
            "Leads per campaign: 20.003918495297807\n"
          ]
        }
      ]
    },
    {
      "cell_type": "markdown",
      "source": [
        "# Group Comparisons"
      ],
      "metadata": {
        "id": "7cSyGvdWEyBf"
      }
    },
    {
      "cell_type": "markdown",
      "source": [
        "1. Which device type (desktop, mobile, tablet) has the highest average conversion rate?\n",
        "\n",
        "2. What is the average cost per lead for each device?\n",
        "\n",
        "3. Which location had the most total sales amount?\n",
        "\n",
        "4. What is the average number of clicks for each campaign name?\n",
        "\n",
        "5. How many conversions were generated from each device type?"
      ],
      "metadata": {
        "id": "FknpLOVQE3k-"
      }
    },
    {
      "cell_type": "code",
      "source": [
        "print('Device with highest conversion rate:', df.groupby('Device')['Conversion Rate'].max().idxmax())"
      ],
      "metadata": {
        "colab": {
          "base_uri": "https://localhost:8080/"
        },
        "id": "5014LWaNElnV",
        "outputId": "a123f33b-0e41-49ee-e6a8-a363e5404372"
      },
      "execution_count": 27,
      "outputs": [
        {
          "output_type": "stream",
          "name": "stdout",
          "text": [
            "Device with highest conversion rate: Tablet\n"
          ]
        }
      ]
    },
    {
      "cell_type": "code",
      "source": [
        "print('Average cost per Leads for each device:',df.groupby('Device')['Cost'].sum()/df.groupby('Device')['Leads'].sum())"
      ],
      "metadata": {
        "colab": {
          "base_uri": "https://localhost:8080/"
        },
        "id": "GViiG4tzFwEI",
        "outputId": "42c16d07-621d-47d7-a458-69cc7aaea07c"
      },
      "execution_count": 33,
      "outputs": [
        {
          "output_type": "stream",
          "name": "stdout",
          "text": [
            "Average cost per Leads for each device: Device\n",
            "DESKTOP    10.788021\n",
            "Desktop    10.632205\n",
            "MOBILE     10.583087\n",
            "Mobile     10.430105\n",
            "TABLET     10.558155\n",
            "Tablet     10.716675\n",
            "desktop    10.452499\n",
            "mobile     10.585511\n",
            "tablet     10.228206\n",
            "dtype: float64\n"
          ]
        }
      ]
    },
    {
      "cell_type": "code",
      "source": [
        "print('Location with most sales amount:', df.groupby('Location')['Sale_Amount'].sum().idxmax())"
      ],
      "metadata": {
        "colab": {
          "base_uri": "https://localhost:8080/"
        },
        "id": "JpbrELOxINpB",
        "outputId": "0589a487-4db5-46f5-ef95-76d39174030a"
      },
      "execution_count": 38,
      "outputs": [
        {
          "output_type": "stream",
          "name": "stdout",
          "text": [
            "Location with most sales amount: HYDERABAD\n"
          ]
        }
      ]
    },
    {
      "cell_type": "code",
      "source": [
        "print('Average number of clicks for each campaign name: ', df.groupby('Campaign_Name')['Clicks'].mean())"
      ],
      "metadata": {
        "colab": {
          "base_uri": "https://localhost:8080/"
        },
        "id": "0MfrOhFtJqwy",
        "outputId": "54eac18e-ee39-42b0-d8aa-a7c32216aebc"
      },
      "execution_count": 44,
      "outputs": [
        {
          "output_type": "stream",
          "name": "stdout",
          "text": [
            "Average number of clicks for each campaign name:  Campaign_Name\n",
            "Data Analytcis Course    137.181677\n",
            "Data Analytics Corse     141.745161\n",
            "Data Anlytics Corse      138.163399\n",
            "DataAnalyticsCourse      138.794118\n",
            "Name: Clicks, dtype: float64\n"
          ]
        }
      ]
    },
    {
      "cell_type": "code",
      "source": [
        "print('conversions were generated from each device type', df.groupby('Device')['Conversions'].sum())"
      ],
      "metadata": {
        "colab": {
          "base_uri": "https://localhost:8080/"
        },
        "id": "PsFL6FaOKLlD",
        "outputId": "31ff5314-1357-4186-838a-8cab500af319"
      },
      "execution_count": 48,
      "outputs": [
        {
          "output_type": "stream",
          "name": "stdout",
          "text": [
            "conversions were generated from each device type Device\n",
            "DESKTOP    1722.0\n",
            "Desktop    2009.0\n",
            "MOBILE     1950.0\n",
            "Mobile     1928.0\n",
            "TABLET     1761.0\n",
            "Tablet     1539.0\n",
            "desktop    1901.0\n",
            "mobile     1767.0\n",
            "tablet     1890.0\n",
            "Name: Conversions, dtype: float64\n"
          ]
        }
      ]
    },
    {
      "cell_type": "markdown",
      "source": [
        "# Efficiency Metrics"
      ],
      "metadata": {
        "id": "DISFNSoBLb78"
      }
    },
    {
      "cell_type": "markdown",
      "source": [
        "1. Which campaign had the lowest cost per conversion?\n",
        "\n",
        "2. Which ad had the highest return on ad spend (ROAS = Sale_Amount / Cost)?\n",
        "\n",
        "3. Which keyword generated the most leads?\n",
        "\n",
        "4. What is the cost per click (CPC) and cost per lead (CPL) for each ad?\n",
        "\n",
        "5. Which day had the highest number of impressions?"
      ],
      "metadata": {
        "id": "Q0__v9lyLgNs"
      }
    },
    {
      "cell_type": "code",
      "source": [
        "print('Campaign with lowest cost per conversion:', cost_per_conversion.idxmin())"
      ],
      "metadata": {
        "colab": {
          "base_uri": "https://localhost:8080/"
        },
        "id": "dCa5BUvILCGW",
        "outputId": "fe39c50f-30c6-40b0-f09f-616d460a4f6e"
      },
      "execution_count": 62,
      "outputs": [
        {
          "output_type": "stream",
          "name": "stdout",
          "text": [
            "Campaign with lowest cost per conversion: Data Analytcis Course\n"
          ]
        }
      ]
    },
    {
      "cell_type": "code",
      "source": [
        "print('Ad with highest return on ad spend (ROAS):', df.groupby('Ad_ID')['ROAS'].max().idxmax())"
      ],
      "metadata": {
        "colab": {
          "base_uri": "https://localhost:8080/"
        },
        "id": "XeX8GqHRL1ty",
        "outputId": "91236ef7-4c85-4268-c156-3fd615509e20"
      },
      "execution_count": 64,
      "outputs": [
        {
          "output_type": "stream",
          "name": "stdout",
          "text": [
            "Ad with highest return on ad spend (ROAS): A1008\n"
          ]
        }
      ]
    },
    {
      "cell_type": "code",
      "source": [
        "print('Most leads generated by keyboards:', df.groupby('Keyword')['Leads'].max().idxmax())"
      ],
      "metadata": {
        "colab": {
          "base_uri": "https://localhost:8080/"
        },
        "id": "c4GQDbCUPncG",
        "outputId": "771b9511-4db6-4b85-e3b7-029eb1326b09"
      },
      "execution_count": 68,
      "outputs": [
        {
          "output_type": "stream",
          "name": "stdout",
          "text": [
            "Most leads generated by keyboards: analytics for data\n"
          ]
        }
      ]
    },
    {
      "cell_type": "code",
      "metadata": {
        "colab": {
          "base_uri": "https://localhost:8080/",
          "height": 224
        },
        "id": "e5295474",
        "outputId": "103e7be0-5881-459f-d9f8-5d8f46018fd4"
      },
      "source": [
        "df['CPC'] = df['Cost'] / df['Clicks']\n",
        "df['CPL'] = df['Cost'] / df['Leads']\n",
        "print('Cost per click (CPC) and Cost per lead (CPL) for each ad:')\n",
        "display(df[['Ad_ID', 'CPC', 'CPL']].head())"
      ],
      "execution_count": 58,
      "outputs": [
        {
          "output_type": "stream",
          "name": "stdout",
          "text": [
            "Cost per click (CPC) and Cost per lead (CPL) for each ad:\n"
          ]
        },
        {
          "output_type": "display_data",
          "data": {
            "text/plain": [
              "   Ad_ID       CPC        CPL\n",
              "0  A1000  2.229615  16.562857\n",
              "1  A1001  1.253410  21.684000\n",
              "2  A1002  2.262889   7.833077\n",
              "3  A1003  1.673662  13.980000\n",
              "4  A1004  1.255769   6.530000"
            ],
            "text/html": [
              "\n",
              "  <div id=\"df-8c49302f-68ce-4910-ba98-f7f2184365e3\" class=\"colab-df-container\">\n",
              "    <div>\n",
              "<style scoped>\n",
              "    .dataframe tbody tr th:only-of-type {\n",
              "        vertical-align: middle;\n",
              "    }\n",
              "\n",
              "    .dataframe tbody tr th {\n",
              "        vertical-align: top;\n",
              "    }\n",
              "\n",
              "    .dataframe thead th {\n",
              "        text-align: right;\n",
              "    }\n",
              "</style>\n",
              "<table border=\"1\" class=\"dataframe\">\n",
              "  <thead>\n",
              "    <tr style=\"text-align: right;\">\n",
              "      <th></th>\n",
              "      <th>Ad_ID</th>\n",
              "      <th>CPC</th>\n",
              "      <th>CPL</th>\n",
              "    </tr>\n",
              "  </thead>\n",
              "  <tbody>\n",
              "    <tr>\n",
              "      <th>0</th>\n",
              "      <td>A1000</td>\n",
              "      <td>2.229615</td>\n",
              "      <td>16.562857</td>\n",
              "    </tr>\n",
              "    <tr>\n",
              "      <th>1</th>\n",
              "      <td>A1001</td>\n",
              "      <td>1.253410</td>\n",
              "      <td>21.684000</td>\n",
              "    </tr>\n",
              "    <tr>\n",
              "      <th>2</th>\n",
              "      <td>A1002</td>\n",
              "      <td>2.262889</td>\n",
              "      <td>7.833077</td>\n",
              "    </tr>\n",
              "    <tr>\n",
              "      <th>3</th>\n",
              "      <td>A1003</td>\n",
              "      <td>1.673662</td>\n",
              "      <td>13.980000</td>\n",
              "    </tr>\n",
              "    <tr>\n",
              "      <th>4</th>\n",
              "      <td>A1004</td>\n",
              "      <td>1.255769</td>\n",
              "      <td>6.530000</td>\n",
              "    </tr>\n",
              "  </tbody>\n",
              "</table>\n",
              "</div>\n",
              "    <div class=\"colab-df-buttons\">\n",
              "\n",
              "  <div class=\"colab-df-container\">\n",
              "    <button class=\"colab-df-convert\" onclick=\"convertToInteractive('df-8c49302f-68ce-4910-ba98-f7f2184365e3')\"\n",
              "            title=\"Convert this dataframe to an interactive table.\"\n",
              "            style=\"display:none;\">\n",
              "\n",
              "  <svg xmlns=\"http://www.w3.org/2000/svg\" height=\"24px\" viewBox=\"0 -960 960 960\">\n",
              "    <path d=\"M120-120v-720h720v720H120Zm60-500h600v-160H180v160Zm220 220h160v-160H400v160Zm0 220h160v-160H400v160ZM180-400h160v-160H180v160Zm440 0h160v-160H620v160ZM180-180h160v-160H180v160Zm440 0h160v-160H620v160Z\"/>\n",
              "  </svg>\n",
              "    </button>\n",
              "\n",
              "  <style>\n",
              "    .colab-df-container {\n",
              "      display:flex;\n",
              "      gap: 12px;\n",
              "    }\n",
              "\n",
              "    .colab-df-convert {\n",
              "      background-color: #E8F0FE;\n",
              "      border: none;\n",
              "      border-radius: 50%;\n",
              "      cursor: pointer;\n",
              "      display: none;\n",
              "      fill: #1967D2;\n",
              "      height: 32px;\n",
              "      padding: 0 0 0 0;\n",
              "      width: 32px;\n",
              "    }\n",
              "\n",
              "    .colab-df-convert:hover {\n",
              "      background-color: #E2EBFA;\n",
              "      box-shadow: 0px 1px 2px rgba(60, 64, 67, 0.3), 0px 1px 3px 1px rgba(60, 64, 67, 0.15);\n",
              "      fill: #174EA6;\n",
              "    }\n",
              "\n",
              "    .colab-df-buttons div {\n",
              "      margin-bottom: 4px;\n",
              "    }\n",
              "\n",
              "    [theme=dark] .colab-df-convert {\n",
              "      background-color: #3B4455;\n",
              "      fill: #D2E3FC;\n",
              "    }\n",
              "\n",
              "    [theme=dark] .colab-df-convert:hover {\n",
              "      background-color: #434B5C;\n",
              "      box-shadow: 0px 1px 3px 1px rgba(0, 0, 0, 0.15);\n",
              "      filter: drop-shadow(0px 1px 2px rgba(0, 0, 0, 0.3));\n",
              "      fill: #FFFFFF;\n",
              "    }\n",
              "  </style>\n",
              "\n",
              "    <script>\n",
              "      const buttonEl =\n",
              "        document.querySelector('#df-8c49302f-68ce-4910-ba98-f7f2184365e3 button.colab-df-convert');\n",
              "      buttonEl.style.display =\n",
              "        google.colab.kernel.accessAllowed ? 'block' : 'none';\n",
              "\n",
              "      async function convertToInteractive(key) {\n",
              "        const element = document.querySelector('#df-8c49302f-68ce-4910-ba98-f7f2184365e3');\n",
              "        const dataTable =\n",
              "          await google.colab.kernel.invokeFunction('convertToInteractive',\n",
              "                                                    [key], {});\n",
              "        if (!dataTable) return;\n",
              "\n",
              "        const docLinkHtml = 'Like what you see? Visit the ' +\n",
              "          '<a target=\"_blank\" href=https://colab.research.google.com/notebooks/data_table.ipynb>data table notebook</a>'\n",
              "          + ' to learn more about interactive tables.';\n",
              "        element.innerHTML = '';\n",
              "        dataTable['output_type'] = 'display_data';\n",
              "        await google.colab.output.renderOutput(dataTable, element);\n",
              "        const docLink = document.createElement('div');\n",
              "        docLink.innerHTML = docLinkHtml;\n",
              "        element.appendChild(docLink);\n",
              "      }\n",
              "    </script>\n",
              "  </div>\n",
              "\n",
              "\n",
              "    <div id=\"df-2a6a56af-b6a6-4b87-8c39-772f96817963\">\n",
              "      <button class=\"colab-df-quickchart\" onclick=\"quickchart('df-2a6a56af-b6a6-4b87-8c39-772f96817963')\"\n",
              "                title=\"Suggest charts\"\n",
              "                style=\"display:none;\">\n",
              "\n",
              "<svg xmlns=\"http://www.w3.org/2000/svg\" height=\"24px\"viewBox=\"0 0 24 24\"\n",
              "     width=\"24px\">\n",
              "    <g>\n",
              "        <path d=\"M19 3H5c-1.1 0-2 .9-2 2v14c0 1.1.9 2 2 2h14c1.1 0 2-.9 2-2V5c0-1.1-.9-2-2-2zM9 17H7v-7h2v7zm4 0h-2V7h2v10zm4 0h-2v-4h2v4z\"/>\n",
              "    </g>\n",
              "</svg>\n",
              "      </button>\n",
              "\n",
              "<style>\n",
              "  .colab-df-quickchart {\n",
              "      --bg-color: #E8F0FE;\n",
              "      --fill-color: #1967D2;\n",
              "      --hover-bg-color: #E2EBFA;\n",
              "      --hover-fill-color: #174EA6;\n",
              "      --disabled-fill-color: #AAA;\n",
              "      --disabled-bg-color: #DDD;\n",
              "  }\n",
              "\n",
              "  [theme=dark] .colab-df-quickchart {\n",
              "      --bg-color: #3B4455;\n",
              "      --fill-color: #D2E3FC;\n",
              "      --hover-bg-color: #434B5C;\n",
              "      --hover-fill-color: #FFFFFF;\n",
              "      --disabled-bg-color: #3B4455;\n",
              "      --disabled-fill-color: #666;\n",
              "  }\n",
              "\n",
              "  .colab-df-quickchart {\n",
              "    background-color: var(--bg-color);\n",
              "    border: none;\n",
              "    border-radius: 50%;\n",
              "    cursor: pointer;\n",
              "    display: none;\n",
              "    fill: var(--fill-color);\n",
              "    height: 32px;\n",
              "    padding: 0;\n",
              "    width: 32px;\n",
              "  }\n",
              "\n",
              "  .colab-df-quickchart:hover {\n",
              "    background-color: var(--hover-bg-color);\n",
              "    box-shadow: 0 1px 2px rgba(60, 64, 67, 0.3), 0 1px 3px 1px rgba(60, 64, 67, 0.15);\n",
              "    fill: var(--button-hover-fill-color);\n",
              "  }\n",
              "\n",
              "  .colab-df-quickchart-complete:disabled,\n",
              "  .colab-df-quickchart-complete:disabled:hover {\n",
              "    background-color: var(--disabled-bg-color);\n",
              "    fill: var(--disabled-fill-color);\n",
              "    box-shadow: none;\n",
              "  }\n",
              "\n",
              "  .colab-df-spinner {\n",
              "    border: 2px solid var(--fill-color);\n",
              "    border-color: transparent;\n",
              "    border-bottom-color: var(--fill-color);\n",
              "    animation:\n",
              "      spin 1s steps(1) infinite;\n",
              "  }\n",
              "\n",
              "  @keyframes spin {\n",
              "    0% {\n",
              "      border-color: transparent;\n",
              "      border-bottom-color: var(--fill-color);\n",
              "      border-left-color: var(--fill-color);\n",
              "    }\n",
              "    20% {\n",
              "      border-color: transparent;\n",
              "      border-left-color: var(--fill-color);\n",
              "      border-top-color: var(--fill-color);\n",
              "    }\n",
              "    30% {\n",
              "      border-color: transparent;\n",
              "      border-left-color: var(--fill-color);\n",
              "      border-top-color: var(--fill-color);\n",
              "      border-right-color: var(--fill-color);\n",
              "    }\n",
              "    40% {\n",
              "      border-color: transparent;\n",
              "      border-right-color: var(--fill-color);\n",
              "      border-top-color: var(--fill-color);\n",
              "    }\n",
              "    60% {\n",
              "      border-color: transparent;\n",
              "      border-right-color: var(--fill-color);\n",
              "    }\n",
              "    80% {\n",
              "      border-color: transparent;\n",
              "      border-right-color: var(--fill-color);\n",
              "      border-bottom-color: var(--fill-color);\n",
              "    }\n",
              "    90% {\n",
              "      border-color: transparent;\n",
              "      border-bottom-color: var(--fill-color);\n",
              "    }\n",
              "  }\n",
              "</style>\n",
              "\n",
              "      <script>\n",
              "        async function quickchart(key) {\n",
              "          const quickchartButtonEl =\n",
              "            document.querySelector('#' + key + ' button');\n",
              "          quickchartButtonEl.disabled = true;  // To prevent multiple clicks.\n",
              "          quickchartButtonEl.classList.add('colab-df-spinner');\n",
              "          try {\n",
              "            const charts = await google.colab.kernel.invokeFunction(\n",
              "                'suggestCharts', [key], {});\n",
              "          } catch (error) {\n",
              "            console.error('Error during call to suggestCharts:', error);\n",
              "          }\n",
              "          quickchartButtonEl.classList.remove('colab-df-spinner');\n",
              "          quickchartButtonEl.classList.add('colab-df-quickchart-complete');\n",
              "        }\n",
              "        (() => {\n",
              "          let quickchartButtonEl =\n",
              "            document.querySelector('#df-2a6a56af-b6a6-4b87-8c39-772f96817963 button');\n",
              "          quickchartButtonEl.style.display =\n",
              "            google.colab.kernel.accessAllowed ? 'block' : 'none';\n",
              "        })();\n",
              "      </script>\n",
              "    </div>\n",
              "\n",
              "    </div>\n",
              "  </div>\n"
            ],
            "application/vnd.google.colaboratory.intrinsic+json": {
              "type": "dataframe",
              "summary": "{\n  \"name\": \"display(df[['Ad_ID', 'CPC', 'CPL']]\",\n  \"rows\": 5,\n  \"fields\": [\n    {\n      \"column\": \"Ad_ID\",\n      \"properties\": {\n        \"dtype\": \"string\",\n        \"num_unique_values\": 5,\n        \"samples\": [\n          \"A1001\",\n          \"A1004\",\n          \"A1002\"\n        ],\n        \"semantic_type\": \"\",\n        \"description\": \"\"\n      }\n    },\n    {\n      \"column\": \"CPC\",\n      \"properties\": {\n        \"dtype\": \"number\",\n        \"std\": 0.4971579366849142,\n        \"min\": 1.2534104046242776,\n        \"max\": 2.262888888888889,\n        \"num_unique_values\": 5,\n        \"samples\": [\n          1.2534104046242776,\n          1.2557692307692307,\n          2.262888888888889\n        ],\n        \"semantic_type\": \"\",\n        \"description\": \"\"\n      }\n    },\n    {\n      \"column\": \"CPL\",\n      \"properties\": {\n        \"dtype\": \"number\",\n        \"std\": 6.267348383416325,\n        \"min\": 6.53,\n        \"max\": 21.684,\n        \"num_unique_values\": 5,\n        \"samples\": [\n          21.684,\n          6.53,\n          7.833076923076923\n        ],\n        \"semantic_type\": \"\",\n        \"description\": \"\"\n      }\n    }\n  ]\n}"
            }
          },
          "metadata": {}
        }
      ]
    },
    {
      "cell_type": "code",
      "metadata": {
        "colab": {
          "base_uri": "https://localhost:8080/"
        },
        "id": "7e426fc4",
        "outputId": "2414e547-378d-446f-db52-68b2a383cbee"
      },
      "source": [
        "df['Ad_Date'] = pd.to_datetime(df['Ad_Date'], errors='coerce')\n",
        "daily_impressions = df.groupby(df['Ad_Date'].dt.date)['Impressions'].sum()\n",
        "day_with_highest_impressions = daily_impressions.idxmax()\n",
        "print('Day with the highest number of impressions:', day_with_highest_impressions)"
      ],
      "execution_count": 59,
      "outputs": [
        {
          "output_type": "stream",
          "name": "stdout",
          "text": [
            "Day with the highest number of impressions: 2024-11-14\n"
          ]
        }
      ]
    },
    {
      "cell_type": "markdown",
      "source": [
        "# Insight & Business Value"
      ],
      "metadata": {
        "id": "sDmSm4BvQtNs"
      }
    },
    {
      "cell_type": "markdown",
      "source": [
        "1. What percentage of leads turned into conversions?\n",
        "\n",
        "2. What is the average ROAS across all campaigns?\n",
        "\n",
        "3. Which keyword had the highest conversion rate?\n",
        "\n",
        "4. What campaign had the highest cost but lowest conversion rate?\n",
        "\n",
        "5. What’s the trend in ad performance over dates? (Clicks, Leads, Conversions)"
      ],
      "metadata": {
        "id": "WHAUMD4jQuKd"
      }
    },
    {
      "cell_type": "code",
      "metadata": {
        "colab": {
          "base_uri": "https://localhost:8080/"
        },
        "id": "b3b32762",
        "outputId": "2aa5caa5-81c6-4843-c640-641592a1e69a"
      },
      "source": [
        "conversion_percentage = (df['Conversions'].sum() / df['Leads'].sum()) * 100\n",
        "print(f'Percentage of leads turned into conversions: {conversion_percentage:.2f}%')"
      ],
      "execution_count": 74,
      "outputs": [
        {
          "output_type": "stream",
          "name": "stdout",
          "text": [
            "Percentage of leads turned into conversions: 32.26%\n"
          ]
        }
      ]
    },
    {
      "cell_type": "code",
      "source": [
        "print('The average ROAS across all campaigns:', df['ROAS'].mean())"
      ],
      "metadata": {
        "colab": {
          "base_uri": "https://localhost:8080/"
        },
        "id": "hRZ8zjA5R8OT",
        "outputId": "ebb857ff-1bbf-4f58-aa9d-857781530282"
      },
      "execution_count": 76,
      "outputs": [
        {
          "output_type": "stream",
          "name": "stdout",
          "text": [
            "The average ROAS across all campaigns: inf\n"
          ]
        }
      ]
    },
    {
      "cell_type": "code",
      "source": [
        "print('keyword had the highest conversion rate:',df.groupby('Keyword')['Conversion Rate'].max().idxmax())"
      ],
      "metadata": {
        "colab": {
          "base_uri": "https://localhost:8080/"
        },
        "id": "d07UhRBiSYjT",
        "outputId": "8dac70df-0bb0-4c05-d7f6-7dcf990b4d12"
      },
      "execution_count": 86,
      "outputs": [
        {
          "output_type": "stream",
          "name": "stdout",
          "text": [
            "keyword had the highest conversion rate: online data analytic\n"
          ]
        }
      ]
    },
    {
      "cell_type": "code",
      "source": [
        "print('Campaign which had the highest cost but lowest conversion rate:',df.groupby('Campaign_Name')['Conversion Rate'].mean().idxmin())"
      ],
      "metadata": {
        "colab": {
          "base_uri": "https://localhost:8080/"
        },
        "id": "E91Tt86tTLMD",
        "outputId": "cd51387c-fabd-4c96-e705-5fc87138a409"
      },
      "execution_count": 88,
      "outputs": [
        {
          "output_type": "stream",
          "name": "stdout",
          "text": [
            "Campaign which had the highest cost but lowest conversion rate: Data Anlytics Corse\n"
          ]
        }
      ]
    },
    {
      "cell_type": "code",
      "source": [
        "print('The trend in ad performance over dates',df.groupby(df['Ad_Date'].dt.date)[['Clicks','Leads','Conversions']].sum())"
      ],
      "metadata": {
        "colab": {
          "base_uri": "https://localhost:8080/"
        },
        "id": "HYsYkuoqUSSS",
        "outputId": "f6427330-4791-416c-a343-d33cd34cbb22"
      },
      "execution_count": 91,
      "outputs": [
        {
          "output_type": "stream",
          "name": "stdout",
          "text": [
            "The trend in ad performance over dates             Clicks  Leads  Conversions\n",
            "Ad_Date                               \n",
            "2024-11-01  3522.0  494.0        143.0\n",
            "2024-11-02  3804.0  597.0        180.0\n",
            "2024-11-03  3328.0  521.0        136.0\n",
            "2024-11-04  4514.0  635.0        212.0\n",
            "2024-11-05  5569.0  853.0        260.0\n",
            "2024-11-06  2700.0  390.0        121.0\n",
            "2024-11-07  4445.0  673.0        188.0\n",
            "2024-11-08  4623.0  604.0        202.0\n",
            "2024-11-09  3826.0  519.0        184.0\n",
            "2024-11-10  3632.0  518.0        190.0\n",
            "2024-11-11  3114.0  469.0        137.0\n",
            "2024-11-12  2928.0  420.0        141.0\n",
            "2024-11-13  3942.0  571.0        162.0\n",
            "2024-11-14  6327.0  891.0        317.0\n",
            "2024-11-15  3690.0  556.0        170.0\n",
            "2024-11-16  4073.0  634.0        209.0\n",
            "2024-11-17  2761.0  351.0        124.0\n",
            "2024-11-18  5430.0  731.0        214.0\n",
            "2024-11-19  3159.0  547.0        182.0\n",
            "2024-11-20  3664.0  547.0        182.0\n",
            "2024-11-21  4121.0  586.0        205.0\n",
            "2024-11-22  4289.0  592.0        199.0\n",
            "2024-11-23  4267.0  601.0        204.0\n",
            "2024-11-24  4164.0  611.0        236.0\n",
            "2024-11-25  3324.0  547.0        181.0\n",
            "2024-11-26  5516.0  801.0        243.0\n",
            "2024-11-27  3076.0  442.0        160.0\n",
            "2024-11-28  2993.0  442.0        161.0\n",
            "2024-11-29  5053.0  693.0        239.0\n",
            "2024-11-30  3735.0  542.0        160.0\n"
          ]
        }
      ]
    }
  ]
}