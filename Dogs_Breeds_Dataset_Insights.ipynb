{
  "nbformat": 4,
  "nbformat_minor": 0,
  "metadata": {
    "colab": {
      "provenance": [],
      "authorship_tag": "ABX9TyP7jwi4lrQttuNysRpT1w3n",
      "include_colab_link": true
    },
    "kernelspec": {
      "name": "python3",
      "display_name": "Python 3"
    },
    "language_info": {
      "name": "python"
    }
  },
  "cells": [
    {
      "cell_type": "markdown",
      "metadata": {
        "id": "view-in-github",
        "colab_type": "text"
      },
      "source": [
        "<a href=\"https://colab.research.google.com/github/Nikhil5566/EDA-Insights-Repo/blob/main/Dogs_Breeds_Dataset_Insights.ipynb\" target=\"_parent\"><img src=\"https://colab.research.google.com/assets/colab-badge.svg\" alt=\"Open In Colab\"/></a>"
      ]
    },
    {
      "cell_type": "code",
      "execution_count": 39,
      "metadata": {
        "id": "oA9GOimdeLtv"
      },
      "outputs": [],
      "source": [
        "import numpy as np\n",
        "import pandas as pd"
      ]
    },
    {
      "cell_type": "code",
      "source": [
        "df = pd.read_csv('dog_breeds_traits.csv')\n",
        "df.head()"
      ],
      "metadata": {
        "colab": {
          "base_uri": "https://localhost:8080/",
          "height": 206
        },
        "id": "7xW3-K0iefY3",
        "outputId": "079431fb-bcc8-4122-ebcf-3b14ed650d4c"
      },
      "execution_count": 40,
      "outputs": [
        {
          "output_type": "execute_result",
          "data": {
            "text/plain": [
              "                breed    size  energy_level  friendliness  trainability  \\\n",
              "0  Labrador Retriever   large             5             5             5   \n",
              "1           Chihuahua   small             4             3             2   \n",
              "2     German Shepherd   large             5             4             5   \n",
              "3              Beagle  medium             4             5             3   \n",
              "4   Poodle (Standard)  medium             3             5             5   \n",
              "\n",
              "   shedding  barking  lifespan  origin_country   breed_group  \n",
              "0         3        3        12          Canada      sporting  \n",
              "1         2        5        14          Mexico           toy  \n",
              "2         4        4        10         Germany       herding  \n",
              "3         3        5        13         England         hound  \n",
              "4         2        2        14  Germany/France  non-sporting  "
            ],
            "text/html": [
              "\n",
              "  <div id=\"df-cd749590-d089-4d10-9065-8a17f1fe0318\" class=\"colab-df-container\">\n",
              "    <div>\n",
              "<style scoped>\n",
              "    .dataframe tbody tr th:only-of-type {\n",
              "        vertical-align: middle;\n",
              "    }\n",
              "\n",
              "    .dataframe tbody tr th {\n",
              "        vertical-align: top;\n",
              "    }\n",
              "\n",
              "    .dataframe thead th {\n",
              "        text-align: right;\n",
              "    }\n",
              "</style>\n",
              "<table border=\"1\" class=\"dataframe\">\n",
              "  <thead>\n",
              "    <tr style=\"text-align: right;\">\n",
              "      <th></th>\n",
              "      <th>breed</th>\n",
              "      <th>size</th>\n",
              "      <th>energy_level</th>\n",
              "      <th>friendliness</th>\n",
              "      <th>trainability</th>\n",
              "      <th>shedding</th>\n",
              "      <th>barking</th>\n",
              "      <th>lifespan</th>\n",
              "      <th>origin_country</th>\n",
              "      <th>breed_group</th>\n",
              "    </tr>\n",
              "  </thead>\n",
              "  <tbody>\n",
              "    <tr>\n",
              "      <th>0</th>\n",
              "      <td>Labrador Retriever</td>\n",
              "      <td>large</td>\n",
              "      <td>5</td>\n",
              "      <td>5</td>\n",
              "      <td>5</td>\n",
              "      <td>3</td>\n",
              "      <td>3</td>\n",
              "      <td>12</td>\n",
              "      <td>Canada</td>\n",
              "      <td>sporting</td>\n",
              "    </tr>\n",
              "    <tr>\n",
              "      <th>1</th>\n",
              "      <td>Chihuahua</td>\n",
              "      <td>small</td>\n",
              "      <td>4</td>\n",
              "      <td>3</td>\n",
              "      <td>2</td>\n",
              "      <td>2</td>\n",
              "      <td>5</td>\n",
              "      <td>14</td>\n",
              "      <td>Mexico</td>\n",
              "      <td>toy</td>\n",
              "    </tr>\n",
              "    <tr>\n",
              "      <th>2</th>\n",
              "      <td>German Shepherd</td>\n",
              "      <td>large</td>\n",
              "      <td>5</td>\n",
              "      <td>4</td>\n",
              "      <td>5</td>\n",
              "      <td>4</td>\n",
              "      <td>4</td>\n",
              "      <td>10</td>\n",
              "      <td>Germany</td>\n",
              "      <td>herding</td>\n",
              "    </tr>\n",
              "    <tr>\n",
              "      <th>3</th>\n",
              "      <td>Beagle</td>\n",
              "      <td>medium</td>\n",
              "      <td>4</td>\n",
              "      <td>5</td>\n",
              "      <td>3</td>\n",
              "      <td>3</td>\n",
              "      <td>5</td>\n",
              "      <td>13</td>\n",
              "      <td>England</td>\n",
              "      <td>hound</td>\n",
              "    </tr>\n",
              "    <tr>\n",
              "      <th>4</th>\n",
              "      <td>Poodle (Standard)</td>\n",
              "      <td>medium</td>\n",
              "      <td>3</td>\n",
              "      <td>5</td>\n",
              "      <td>5</td>\n",
              "      <td>2</td>\n",
              "      <td>2</td>\n",
              "      <td>14</td>\n",
              "      <td>Germany/France</td>\n",
              "      <td>non-sporting</td>\n",
              "    </tr>\n",
              "  </tbody>\n",
              "</table>\n",
              "</div>\n",
              "    <div class=\"colab-df-buttons\">\n",
              "\n",
              "  <div class=\"colab-df-container\">\n",
              "    <button class=\"colab-df-convert\" onclick=\"convertToInteractive('df-cd749590-d089-4d10-9065-8a17f1fe0318')\"\n",
              "            title=\"Convert this dataframe to an interactive table.\"\n",
              "            style=\"display:none;\">\n",
              "\n",
              "  <svg xmlns=\"http://www.w3.org/2000/svg\" height=\"24px\" viewBox=\"0 -960 960 960\">\n",
              "    <path d=\"M120-120v-720h720v720H120Zm60-500h600v-160H180v160Zm220 220h160v-160H400v160Zm0 220h160v-160H400v160ZM180-400h160v-160H180v160Zm440 0h160v-160H620v160ZM180-180h160v-160H180v160Zm440 0h160v-160H620v160Z\"/>\n",
              "  </svg>\n",
              "    </button>\n",
              "\n",
              "  <style>\n",
              "    .colab-df-container {\n",
              "      display:flex;\n",
              "      gap: 12px;\n",
              "    }\n",
              "\n",
              "    .colab-df-convert {\n",
              "      background-color: #E8F0FE;\n",
              "      border: none;\n",
              "      border-radius: 50%;\n",
              "      cursor: pointer;\n",
              "      display: none;\n",
              "      fill: #1967D2;\n",
              "      height: 32px;\n",
              "      padding: 0 0 0 0;\n",
              "      width: 32px;\n",
              "    }\n",
              "\n",
              "    .colab-df-convert:hover {\n",
              "      background-color: #E2EBFA;\n",
              "      box-shadow: 0px 1px 2px rgba(60, 64, 67, 0.3), 0px 1px 3px 1px rgba(60, 64, 67, 0.15);\n",
              "      fill: #174EA6;\n",
              "    }\n",
              "\n",
              "    .colab-df-buttons div {\n",
              "      margin-bottom: 4px;\n",
              "    }\n",
              "\n",
              "    [theme=dark] .colab-df-convert {\n",
              "      background-color: #3B4455;\n",
              "      fill: #D2E3FC;\n",
              "    }\n",
              "\n",
              "    [theme=dark] .colab-df-convert:hover {\n",
              "      background-color: #434B5C;\n",
              "      box-shadow: 0px 1px 3px 1px rgba(0, 0, 0, 0.15);\n",
              "      filter: drop-shadow(0px 1px 2px rgba(0, 0, 0, 0.3));\n",
              "      fill: #FFFFFF;\n",
              "    }\n",
              "  </style>\n",
              "\n",
              "    <script>\n",
              "      const buttonEl =\n",
              "        document.querySelector('#df-cd749590-d089-4d10-9065-8a17f1fe0318 button.colab-df-convert');\n",
              "      buttonEl.style.display =\n",
              "        google.colab.kernel.accessAllowed ? 'block' : 'none';\n",
              "\n",
              "      async function convertToInteractive(key) {\n",
              "        const element = document.querySelector('#df-cd749590-d089-4d10-9065-8a17f1fe0318');\n",
              "        const dataTable =\n",
              "          await google.colab.kernel.invokeFunction('convertToInteractive',\n",
              "                                                    [key], {});\n",
              "        if (!dataTable) return;\n",
              "\n",
              "        const docLinkHtml = 'Like what you see? Visit the ' +\n",
              "          '<a target=\"_blank\" href=https://colab.research.google.com/notebooks/data_table.ipynb>data table notebook</a>'\n",
              "          + ' to learn more about interactive tables.';\n",
              "        element.innerHTML = '';\n",
              "        dataTable['output_type'] = 'display_data';\n",
              "        await google.colab.output.renderOutput(dataTable, element);\n",
              "        const docLink = document.createElement('div');\n",
              "        docLink.innerHTML = docLinkHtml;\n",
              "        element.appendChild(docLink);\n",
              "      }\n",
              "    </script>\n",
              "  </div>\n",
              "\n",
              "\n",
              "    <div id=\"df-176fe1e1-a0c1-4756-b37d-9602d8892ec0\">\n",
              "      <button class=\"colab-df-quickchart\" onclick=\"quickchart('df-176fe1e1-a0c1-4756-b37d-9602d8892ec0')\"\n",
              "                title=\"Suggest charts\"\n",
              "                style=\"display:none;\">\n",
              "\n",
              "<svg xmlns=\"http://www.w3.org/2000/svg\" height=\"24px\"viewBox=\"0 0 24 24\"\n",
              "     width=\"24px\">\n",
              "    <g>\n",
              "        <path d=\"M19 3H5c-1.1 0-2 .9-2 2v14c0 1.1.9 2 2 2h14c1.1 0 2-.9 2-2V5c0-1.1-.9-2-2-2zM9 17H7v-7h2v7zm4 0h-2V7h2v10zm4 0h-2v-4h2v4z\"/>\n",
              "    </g>\n",
              "</svg>\n",
              "      </button>\n",
              "\n",
              "<style>\n",
              "  .colab-df-quickchart {\n",
              "      --bg-color: #E8F0FE;\n",
              "      --fill-color: #1967D2;\n",
              "      --hover-bg-color: #E2EBFA;\n",
              "      --hover-fill-color: #174EA6;\n",
              "      --disabled-fill-color: #AAA;\n",
              "      --disabled-bg-color: #DDD;\n",
              "  }\n",
              "\n",
              "  [theme=dark] .colab-df-quickchart {\n",
              "      --bg-color: #3B4455;\n",
              "      --fill-color: #D2E3FC;\n",
              "      --hover-bg-color: #434B5C;\n",
              "      --hover-fill-color: #FFFFFF;\n",
              "      --disabled-bg-color: #3B4455;\n",
              "      --disabled-fill-color: #666;\n",
              "  }\n",
              "\n",
              "  .colab-df-quickchart {\n",
              "    background-color: var(--bg-color);\n",
              "    border: none;\n",
              "    border-radius: 50%;\n",
              "    cursor: pointer;\n",
              "    display: none;\n",
              "    fill: var(--fill-color);\n",
              "    height: 32px;\n",
              "    padding: 0;\n",
              "    width: 32px;\n",
              "  }\n",
              "\n",
              "  .colab-df-quickchart:hover {\n",
              "    background-color: var(--hover-bg-color);\n",
              "    box-shadow: 0 1px 2px rgba(60, 64, 67, 0.3), 0 1px 3px 1px rgba(60, 64, 67, 0.15);\n",
              "    fill: var(--button-hover-fill-color);\n",
              "  }\n",
              "\n",
              "  .colab-df-quickchart-complete:disabled,\n",
              "  .colab-df-quickchart-complete:disabled:hover {\n",
              "    background-color: var(--disabled-bg-color);\n",
              "    fill: var(--disabled-fill-color);\n",
              "    box-shadow: none;\n",
              "  }\n",
              "\n",
              "  .colab-df-spinner {\n",
              "    border: 2px solid var(--fill-color);\n",
              "    border-color: transparent;\n",
              "    border-bottom-color: var(--fill-color);\n",
              "    animation:\n",
              "      spin 1s steps(1) infinite;\n",
              "  }\n",
              "\n",
              "  @keyframes spin {\n",
              "    0% {\n",
              "      border-color: transparent;\n",
              "      border-bottom-color: var(--fill-color);\n",
              "      border-left-color: var(--fill-color);\n",
              "    }\n",
              "    20% {\n",
              "      border-color: transparent;\n",
              "      border-left-color: var(--fill-color);\n",
              "      border-top-color: var(--fill-color);\n",
              "    }\n",
              "    30% {\n",
              "      border-color: transparent;\n",
              "      border-left-color: var(--fill-color);\n",
              "      border-top-color: var(--fill-color);\n",
              "      border-right-color: var(--fill-color);\n",
              "    }\n",
              "    40% {\n",
              "      border-color: transparent;\n",
              "      border-right-color: var(--fill-color);\n",
              "      border-top-color: var(--fill-color);\n",
              "    }\n",
              "    60% {\n",
              "      border-color: transparent;\n",
              "      border-right-color: var(--fill-color);\n",
              "    }\n",
              "    80% {\n",
              "      border-color: transparent;\n",
              "      border-right-color: var(--fill-color);\n",
              "      border-bottom-color: var(--fill-color);\n",
              "    }\n",
              "    90% {\n",
              "      border-color: transparent;\n",
              "      border-bottom-color: var(--fill-color);\n",
              "    }\n",
              "  }\n",
              "</style>\n",
              "\n",
              "      <script>\n",
              "        async function quickchart(key) {\n",
              "          const quickchartButtonEl =\n",
              "            document.querySelector('#' + key + ' button');\n",
              "          quickchartButtonEl.disabled = true;  // To prevent multiple clicks.\n",
              "          quickchartButtonEl.classList.add('colab-df-spinner');\n",
              "          try {\n",
              "            const charts = await google.colab.kernel.invokeFunction(\n",
              "                'suggestCharts', [key], {});\n",
              "          } catch (error) {\n",
              "            console.error('Error during call to suggestCharts:', error);\n",
              "          }\n",
              "          quickchartButtonEl.classList.remove('colab-df-spinner');\n",
              "          quickchartButtonEl.classList.add('colab-df-quickchart-complete');\n",
              "        }\n",
              "        (() => {\n",
              "          let quickchartButtonEl =\n",
              "            document.querySelector('#df-176fe1e1-a0c1-4756-b37d-9602d8892ec0 button');\n",
              "          quickchartButtonEl.style.display =\n",
              "            google.colab.kernel.accessAllowed ? 'block' : 'none';\n",
              "        })();\n",
              "      </script>\n",
              "    </div>\n",
              "\n",
              "    </div>\n",
              "  </div>\n"
            ],
            "application/vnd.google.colaboratory.intrinsic+json": {
              "type": "dataframe",
              "variable_name": "df",
              "summary": "{\n  \"name\": \"df\",\n  \"rows\": 20,\n  \"fields\": [\n    {\n      \"column\": \"breed\",\n      \"properties\": {\n        \"dtype\": \"string\",\n        \"num_unique_values\": 20,\n        \"samples\": [\n          \"Labrador Retriever\",\n          \"Yorkshire Terrier\",\n          \"Great Dane\"\n        ],\n        \"semantic_type\": \"\",\n        \"description\": \"\"\n      }\n    },\n    {\n      \"column\": \"size\",\n      \"properties\": {\n        \"dtype\": \"category\",\n        \"num_unique_values\": 3,\n        \"samples\": [\n          \"large\",\n          \"small\",\n          \"medium\"\n        ],\n        \"semantic_type\": \"\",\n        \"description\": \"\"\n      }\n    },\n    {\n      \"column\": \"energy_level\",\n      \"properties\": {\n        \"dtype\": \"number\",\n        \"std\": 1,\n        \"min\": 2,\n        \"max\": 5,\n        \"num_unique_values\": 4,\n        \"samples\": [\n          4,\n          2,\n          5\n        ],\n        \"semantic_type\": \"\",\n        \"description\": \"\"\n      }\n    },\n    {\n      \"column\": \"friendliness\",\n      \"properties\": {\n        \"dtype\": \"number\",\n        \"std\": 0,\n        \"min\": 3,\n        \"max\": 5,\n        \"num_unique_values\": 3,\n        \"samples\": [\n          5,\n          3,\n          4\n        ],\n        \"semantic_type\": \"\",\n        \"description\": \"\"\n      }\n    },\n    {\n      \"column\": \"trainability\",\n      \"properties\": {\n        \"dtype\": \"number\",\n        \"std\": 1,\n        \"min\": 2,\n        \"max\": 5,\n        \"num_unique_values\": 4,\n        \"samples\": [\n          2,\n          4,\n          5\n        ],\n        \"semantic_type\": \"\",\n        \"description\": \"\"\n      }\n    },\n    {\n      \"column\": \"shedding\",\n      \"properties\": {\n        \"dtype\": \"number\",\n        \"std\": 0,\n        \"min\": 1,\n        \"max\": 4,\n        \"num_unique_values\": 4,\n        \"samples\": [\n          2,\n          1,\n          3\n        ],\n        \"semantic_type\": \"\",\n        \"description\": \"\"\n      }\n    },\n    {\n      \"column\": \"barking\",\n      \"properties\": {\n        \"dtype\": \"number\",\n        \"std\": 1,\n        \"min\": 2,\n        \"max\": 5,\n        \"num_unique_values\": 4,\n        \"samples\": [\n          5,\n          2,\n          3\n        ],\n        \"semantic_type\": \"\",\n        \"description\": \"\"\n      }\n    },\n    {\n      \"column\": \"lifespan\",\n      \"properties\": {\n        \"dtype\": \"number\",\n        \"std\": 1,\n        \"min\": 8,\n        \"max\": 15,\n        \"num_unique_values\": 8,\n        \"samples\": [\n          14,\n          8,\n          12\n        ],\n        \"semantic_type\": \"\",\n        \"description\": \"\"\n      }\n    },\n    {\n      \"column\": \"origin_country\",\n      \"properties\": {\n        \"dtype\": \"string\",\n        \"num_unique_values\": 11,\n        \"samples\": [\n          \"Scotland\",\n          \"Canada\",\n          \"France\"\n        ],\n        \"semantic_type\": \"\",\n        \"description\": \"\"\n      }\n    },\n    {\n      \"column\": \"breed_group\",\n      \"properties\": {\n        \"dtype\": \"category\",\n        \"num_unique_values\": 6,\n        \"samples\": [\n          \"sporting\",\n          \"toy\",\n          \"working\"\n        ],\n        \"semantic_type\": \"\",\n        \"description\": \"\"\n      }\n    }\n  ]\n}"
            }
          },
          "metadata": {},
          "execution_count": 40
        }
      ]
    },
    {
      "cell_type": "markdown",
      "source": [
        "# Basic Aggregations"
      ],
      "metadata": {
        "id": "DM9-t2d0fumj"
      }
    },
    {
      "cell_type": "markdown",
      "source": [
        "1. What is the average energy level across all dog breeds in the dataset?\n",
        "2. What is the total number of large-sized dog breeds listed?\n",
        "3. What is the median lifespan of all dog breeds?\n",
        "4. What is the average friendliness score for breeds originating from Germany?\n",
        "5. Calculate the average shedding level and barking frequency for all breeds, rounded to one decimal place."
      ],
      "metadata": {
        "id": "nvnKjEQpfw6T"
      }
    },
    {
      "cell_type": "code",
      "source": [
        "print('The average energy level across all dogs breeds in the dataset:', df['energy_level'].mean())"
      ],
      "metadata": {
        "colab": {
          "base_uri": "https://localhost:8080/"
        },
        "id": "9h6cPENzetl2",
        "outputId": "bfeb621b-7553-4d29-fbfb-5cedc2a4bf2c"
      },
      "execution_count": 41,
      "outputs": [
        {
          "output_type": "stream",
          "name": "stdout",
          "text": [
            "The average energy level across all dogs breeds in the dataset: 3.6\n"
          ]
        }
      ]
    },
    {
      "cell_type": "code",
      "source": [
        "print('The total number of large-sized dog breeds listed:',df[df['size'] == 'large'].shape[0])"
      ],
      "metadata": {
        "colab": {
          "base_uri": "https://localhost:8080/"
        },
        "id": "knajfnAWho-Q",
        "outputId": "381fe0c6-99c3-4b43-cf01-5907718c5b7a"
      },
      "execution_count": 42,
      "outputs": [
        {
          "output_type": "stream",
          "name": "stdout",
          "text": [
            "The total number of large-sized dog breeds listed: 8\n"
          ]
        }
      ]
    },
    {
      "cell_type": "code",
      "source": [
        "print('The median lifespan off dogs breeds:', df['lifespan'].median())"
      ],
      "metadata": {
        "colab": {
          "base_uri": "https://localhost:8080/"
        },
        "id": "iViSN5prho7y",
        "outputId": "b1a1b077-f1d2-48dd-852a-745454f18489"
      },
      "execution_count": 43,
      "outputs": [
        {
          "output_type": "stream",
          "name": "stdout",
          "text": [
            "The median lifespan off dogs breeds: 12.5\n"
          ]
        }
      ]
    },
    {
      "cell_type": "code",
      "source": [
        "print('The average friendliness score for breeds originating from Germany:', df[df['origin_country'] == 'Germany']['friendliness'].mean())"
      ],
      "metadata": {
        "colab": {
          "base_uri": "https://localhost:8080/"
        },
        "id": "kU0p4dXWho5F",
        "outputId": "4259f384-6728-4ad4-fa86-8c3d1490eb7b"
      },
      "execution_count": 44,
      "outputs": [
        {
          "output_type": "stream",
          "name": "stdout",
          "text": [
            "The average friendliness score for breeds originating from Germany: 4.166666666666667\n"
          ]
        }
      ]
    },
    {
      "cell_type": "code",
      "source": [
        "print('The average shedding level and barking frequency for all breeds, rounded to one decimal place:', df.loc[:, ['shedding', 'barking']].mean().round(1))"
      ],
      "metadata": {
        "colab": {
          "base_uri": "https://localhost:8080/"
        },
        "id": "Q1htrf7yho2c",
        "outputId": "4435bc4f-5ac7-4f99-be2e-7cdccfbb4c5f"
      },
      "execution_count": 45,
      "outputs": [
        {
          "output_type": "stream",
          "name": "stdout",
          "text": [
            "The average shedding level and barking frequency for all breeds, rounded to one decimal place: shedding    2.8\n",
            "barking     3.2\n",
            "dtype: float64\n"
          ]
        }
      ]
    },
    {
      "cell_type": "markdown",
      "source": [
        "# Group Comparisons"
      ],
      "metadata": {
        "id": "L_hRMEHmf4Zh"
      }
    },
    {
      "cell_type": "markdown",
      "source": [
        "1. Which size category (small, medium, large) has the highest average trainability score, and how does it compare to the lowest?\n",
        "2. Compare the average lifespan between toy breeds and working breeds. Is there a noticeable difference?\n",
        "3. How does the average energy level differ between breeds from England versus those from Germany?\n",
        "4. Analyze the average barking frequency for herding breeds compared to hound breeds.\n",
        "5. Is there a significant difference in the average shedding level between small and large breeds?"
      ],
      "metadata": {
        "id": "MMyqEmiFf7l8"
      }
    },
    {
      "cell_type": "code",
      "source": [
        "print('Size category (small, medium, large) has the highest average trainability score, and how does it compare to the lowest: \\n', df.groupby('size')['trainability'].mean())\n",
        "print('Size category (small, medium, large) has the highest average trainability score, and how does it compare to the lowest:', df.groupby('size')['trainability'].mean().idxmax())"
      ],
      "metadata": {
        "colab": {
          "base_uri": "https://localhost:8080/"
        },
        "id": "UsRxHTGHf7KV",
        "outputId": "ce0dfb69-812c-4cbb-9e87-21a6c7a3e883"
      },
      "execution_count": 46,
      "outputs": [
        {
          "output_type": "stream",
          "name": "stdout",
          "text": [
            "Size category (small, medium, large) has the highest average trainability score, and how does it compare to the lowest: \n",
            " size\n",
            "large     4.250000\n",
            "medium    3.600000\n",
            "small     3.285714\n",
            "Name: trainability, dtype: float64\n",
            "Size category (small, medium, large) has the highest average trainability score, and how does it compare to the lowest: large\n"
          ]
        }
      ]
    },
    {
      "cell_type": "code",
      "source": [
        "lifespan_by_group = df.groupby('breed_group')['lifespan'].mean()\n",
        "print('This is the lifespan:', lifespan_by_group)\n",
        "print(lifespan_by_group.loc[['toy','working']])"
      ],
      "metadata": {
        "colab": {
          "base_uri": "https://localhost:8080/"
        },
        "id": "bonmBGwKqKJq",
        "outputId": "e28c4b22-8b13-4380-b7a8-c92c21771af8"
      },
      "execution_count": 47,
      "outputs": [
        {
          "output_type": "stream",
          "name": "stdout",
          "text": [
            "This is the lifespan: breed_group\n",
            "herding         11.500000\n",
            "hound           12.666667\n",
            "non-sporting    11.500000\n",
            "sporting        12.000000\n",
            "toy             13.833333\n",
            "working         10.200000\n",
            "Name: lifespan, dtype: float64\n",
            "breed_group\n",
            "toy        13.833333\n",
            "working    10.200000\n",
            "Name: lifespan, dtype: float64\n"
          ]
        }
      ]
    },
    {
      "cell_type": "code",
      "source": [
        "avg_eng_level = df.groupby('origin_country')['energy_level'].mean()\n",
        "print('Average energy level of dogs by breed group:', avg_eng_level)\n",
        "print(avg_eng_level.loc[['England','Germany']])"
      ],
      "metadata": {
        "colab": {
          "base_uri": "https://localhost:8080/"
        },
        "id": "vZ97zbCAqKHL",
        "outputId": "b8128c82-e898-4b35-f81d-37202c4e7a55"
      },
      "execution_count": 48,
      "outputs": [
        {
          "output_type": "stream",
          "name": "stdout",
          "text": [
            "Average energy level of dogs by breed group: origin_country\n",
            "Canada            5.000000\n",
            "China             2.000000\n",
            "England           3.000000\n",
            "France            2.000000\n",
            "Germany           3.833333\n",
            "Germany/France    3.000000\n",
            "Germany/Poland    3.000000\n",
            "Malta             3.000000\n",
            "Mexico            4.000000\n",
            "Russia            5.000000\n",
            "Scotland          5.000000\n",
            "Name: energy_level, dtype: float64\n",
            "origin_country\n",
            "England    3.000000\n",
            "Germany    3.833333\n",
            "Name: energy_level, dtype: float64\n"
          ]
        }
      ]
    },
    {
      "cell_type": "code",
      "source": [
        "avg_barking_freq = df.groupby('breed_group')['barking'].mean()\n",
        "print('Average barking frequency by breed group:', avg_barking_freq)\n",
        "print(avg_barking_freq.loc[['herding','hound']])"
      ],
      "metadata": {
        "colab": {
          "base_uri": "https://localhost:8080/"
        },
        "id": "LjE4AHCuxs27",
        "outputId": "4a57482e-f768-429c-b9be-8787901e949a"
      },
      "execution_count": 49,
      "outputs": [
        {
          "output_type": "stream",
          "name": "stdout",
          "text": [
            "Average barking frequency by breed group: breed_group\n",
            "herding         4.000000\n",
            "hound           4.000000\n",
            "non-sporting    2.000000\n",
            "sporting        3.000000\n",
            "toy             3.333333\n",
            "working         3.000000\n",
            "Name: barking, dtype: float64\n",
            "breed_group\n",
            "herding    4.0\n",
            "hound      4.0\n",
            "Name: barking, dtype: float64\n"
          ]
        }
      ]
    },
    {
      "cell_type": "code",
      "source": [
        "avg_shedding_level = df.groupby('size')['shedding'].mean()\n",
        "print('Average shedding level by size:', avg_shedding_level)\n",
        "print(avg_shedding_level.loc[['small','large']])"
      ],
      "metadata": {
        "colab": {
          "base_uri": "https://localhost:8080/"
        },
        "id": "crSIusVGqKCA",
        "outputId": "bef286e8-5362-4ed5-d54b-3430bff77858"
      },
      "execution_count": 50,
      "outputs": [
        {
          "output_type": "stream",
          "name": "stdout",
          "text": [
            "Average shedding level by size: size\n",
            "large     3.250000\n",
            "medium    2.800000\n",
            "small     2.142857\n",
            "Name: shedding, dtype: float64\n",
            "size\n",
            "small    2.142857\n",
            "large    3.250000\n",
            "Name: shedding, dtype: float64\n"
          ]
        }
      ]
    },
    {
      "cell_type": "markdown",
      "source": [
        "# Ranking/Top N"
      ],
      "metadata": {
        "id": "d1kKIrfFgDUQ"
      }
    },
    {
      "cell_type": "markdown",
      "source": [
        "1. Which are the top 5 breeds with the highest trainability scores, and what are their corresponding energy levels?\n",
        "2. Rank the breeds by their lifespan from longest to shortest. Which breed has the shortest lifespan?\n",
        "3. Identify the top 3 breeds with the highest barking frequency from the toy breed group.\n",
        "4. What are the bottom 5 breeds in terms of friendliness score, and what is their origin country?\n",
        "5. Rank the breed groups by their average energy level. Which breed group has the lowest average energy level?"
      ],
      "metadata": {
        "id": "mkgSbaYFgG1S"
      }
    },
    {
      "cell_type": "code",
      "source": [
        "print('Top 5 breeds with the highest trainability scores, and what are their corresponding energy levels: \\n', df.nlargest(5, 'trainability')[['breed','energy_level']])"
      ],
      "metadata": {
        "colab": {
          "base_uri": "https://localhost:8080/"
        },
        "id": "ZtG_QVjPgGgY",
        "outputId": "3e02fd9b-75e4-4171-f819-b45775d30bdc"
      },
      "execution_count": 51,
      "outputs": [
        {
          "output_type": "stream",
          "name": "stdout",
          "text": [
            "Top 5 breeds with the highest trainability scores, and what are their corresponding energy levels: \n",
            "                  breed  energy_level\n",
            "0   Labrador Retriever             5\n",
            "2      German Shepherd             5\n",
            "4    Poodle (Standard)             3\n",
            "6     Golden Retriever             5\n",
            "14       Border Collie             5\n"
          ]
        }
      ]
    },
    {
      "cell_type": "code",
      "source": [
        "print('Ranking breed by there lifespan and ranking them from longest to shortest:\\n', df.sort_values('lifespan', ascending=False)['breed'])"
      ],
      "metadata": {
        "colab": {
          "base_uri": "https://localhost:8080/"
        },
        "id": "Z2MEha7M1foH",
        "outputId": "b1c9e74b-4eda-4c9b-a80d-b610ac10026b"
      },
      "execution_count": 52,
      "outputs": [
        {
          "output_type": "stream",
          "name": "stdout",
          "text": [
            "Ranking breed by there lifespan and ranking them from longest to shortest:\n",
            " 19                          Maltese\n",
            "1                         Chihuahua\n",
            "4                 Poodle (Standard)\n",
            "13                       Pomeranian\n",
            "9                          Shih Tzu\n",
            "14                    Border Collie\n",
            "3                            Beagle\n",
            "17                Yorkshire Terrier\n",
            "11    Cavalier King Charles Spaniel\n",
            "7                         Dachshund\n",
            "16                     Basset Hound\n",
            "0                Labrador Retriever\n",
            "6                  Golden Retriever\n",
            "10                   Siberian Husky\n",
            "18                Doberman Pinscher\n",
            "2                   German Shepherd\n",
            "12                       Rottweiler\n",
            "8                             Boxer\n",
            "5                           Bulldog\n",
            "15                       Great Dane\n",
            "Name: breed, dtype: object\n"
          ]
        }
      ]
    },
    {
      "cell_type": "code",
      "source": [
        "print('Top 3 breeds with the highest barking frequency from the toy breed group:\\n', df[df['breed_group'] == 'toy'].nlargest(3, 'barking')['breed'])"
      ],
      "metadata": {
        "colab": {
          "base_uri": "https://localhost:8080/"
        },
        "id": "S4NjdihG1flZ",
        "outputId": "97ed15cf-c6f7-4535-a2cb-cc624de61136"
      },
      "execution_count": 53,
      "outputs": [
        {
          "output_type": "stream",
          "name": "stdout",
          "text": [
            "Top 3 breeds with the highest barking frequency from the toy breed group:\n",
            " 1             Chihuahua\n",
            "13           Pomeranian\n",
            "17    Yorkshire Terrier\n",
            "Name: breed, dtype: object\n"
          ]
        }
      ]
    },
    {
      "cell_type": "code",
      "source": [
        "print('Bottom 5 breeds in terms of friendliness score, and what is their origin country:\\n', df.nsmallest(5, 'friendliness')[['breed','origin_country']])"
      ],
      "metadata": {
        "colab": {
          "base_uri": "https://localhost:8080/"
        },
        "id": "XnTuqXlV1fi5",
        "outputId": "aceec0bc-ffcf-4cb0-b1e4-b2fb734de815"
      },
      "execution_count": 54,
      "outputs": [
        {
          "output_type": "stream",
          "name": "stdout",
          "text": [
            "Bottom 5 breeds in terms of friendliness score, and what is their origin country:\n",
            "               breed origin_country\n",
            "1         Chihuahua         Mexico\n",
            "12       Rottweiler        Germany\n",
            "2   German Shepherd        Germany\n",
            "5           Bulldog        England\n",
            "7         Dachshund        Germany\n"
          ]
        }
      ]
    },
    {
      "cell_type": "code",
      "source": [
        "# Rank the breed groups by their average energy level. Which breed group has the lowest average energy level?\n",
        "print('Ranking breed group by their average energy level:\\n', df.groupby('breed_group')['energy_level'].mean().sort_values())"
      ],
      "metadata": {
        "colab": {
          "base_uri": "https://localhost:8080/"
        },
        "id": "1BWEla5h1fgl",
        "outputId": "93fc2fc4-7bcf-445d-a81c-fda85b186007"
      },
      "execution_count": 55,
      "outputs": [
        {
          "output_type": "stream",
          "name": "stdout",
          "text": [
            "Ranking breed group by their average energy level:\n",
            " breed_group\n",
            "non-sporting    2.5\n",
            "hound           3.0\n",
            "toy             3.0\n",
            "working         4.0\n",
            "sporting        5.0\n",
            "herding         5.0\n",
            "Name: energy_level, dtype: float64\n"
          ]
        }
      ]
    },
    {
      "cell_type": "markdown",
      "source": [
        "# Category-wise Analysis"
      ],
      "metadata": {
        "id": "EGOgL2PigMCo"
      }
    },
    {
      "cell_type": "markdown",
      "source": [
        "1. What is the distribution of energy levels across the different size categories? Provide the minimum, maximum, and average for each.\n",
        "2. How does the average trainability score vary between breeds with a lifespan greater than 12 years and those with 12 years or less?\n",
        "3. Analyze the average shedding level by breed group. Which group has the highest average shedding?\n",
        "4. What is the average friendliness score for each origin country, and which country has the highest average?\n",
        "5. How does the barking frequency vary across breeds in the sporting group based on their size (small, medium, large)?"
      ],
      "metadata": {
        "id": "hz_f1OFvgQQ8"
      }
    },
    {
      "cell_type": "code",
      "source": [
        "print('Distribution of energy levels across the different size categories:\\n', df.groupby('size')['energy_level'].agg(['min','max','mean']))"
      ],
      "metadata": {
        "colab": {
          "base_uri": "https://localhost:8080/"
        },
        "id": "XkWpS52agP1L",
        "outputId": "e82f6a73-21d7-46e2-fd09-602c4145db95"
      },
      "execution_count": 56,
      "outputs": [
        {
          "output_type": "stream",
          "name": "stdout",
          "text": [
            "Distribution of energy levels across the different size categories:\n",
            "         min  max   mean\n",
            "size                   \n",
            "large     2    5  4.375\n",
            "medium    2    5  3.200\n",
            "small     2    4  3.000\n"
          ]
        }
      ]
    },
    {
      "cell_type": "code",
      "source": [
        "print('Average trainability score by lifespan (greater than 12 years vs. 12 years or less):\\n', df.groupby(df['lifespan'] > 12)['trainability'].mean())"
      ],
      "metadata": {
        "colab": {
          "base_uri": "https://localhost:8080/"
        },
        "id": "4fHWZOh3_aZZ",
        "outputId": "2c7371ac-9112-41a4-9221-fc1179a1bf04"
      },
      "execution_count": 57,
      "outputs": [
        {
          "output_type": "stream",
          "name": "stdout",
          "text": [
            "Average trainability score by lifespan (greater than 12 years vs. 12 years or less):\n",
            " lifespan\n",
            "False    3.9\n",
            "True     3.6\n",
            "Name: trainability, dtype: float64\n"
          ]
        }
      ]
    },
    {
      "cell_type": "code",
      "source": [
        "print('The average shedding level by breed group: \\n', df.groupby('breed_group')['shedding'].mean())\n",
        "print('Group which has the highest average shedding :', df.groupby('breed_group')['shedding'].mean().idxmax())"
      ],
      "metadata": {
        "id": "d_mOvZ4h_aWk",
        "colab": {
          "base_uri": "https://localhost:8080/"
        },
        "outputId": "63b24bf0-07db-4b6c-e074-da41d52ad7b2"
      },
      "execution_count": 58,
      "outputs": [
        {
          "output_type": "stream",
          "name": "stdout",
          "text": [
            "The average shedding level by breed group: \n",
            " breed_group\n",
            "herding         3.500000\n",
            "hound           3.333333\n",
            "non-sporting    2.000000\n",
            "sporting        3.000000\n",
            "toy             2.000000\n",
            "working         3.200000\n",
            "Name: shedding, dtype: float64\n",
            "Group which has the highest average shedding : herding\n"
          ]
        }
      ]
    },
    {
      "cell_type": "code",
      "source": [
        "print('The average friendliness score for each origin country:\\n', df.groupby('origin_country')['friendliness'].mean())\n",
        "print('Country with the highest average friendliness score:', df.groupby('origin_country')['friendliness'].mean().idxmax())"
      ],
      "metadata": {
        "id": "nOmikJHg_aUE",
        "colab": {
          "base_uri": "https://localhost:8080/"
        },
        "outputId": "7cf256e5-10e1-4ce1-eb38-b5f033389af7"
      },
      "execution_count": 59,
      "outputs": [
        {
          "output_type": "stream",
          "name": "stdout",
          "text": [
            "The average friendliness score for each origin country:\n",
            " origin_country\n",
            "Canada            5.000000\n",
            "China             5.000000\n",
            "England           4.500000\n",
            "France            4.000000\n",
            "Germany           4.166667\n",
            "Germany/France    5.000000\n",
            "Germany/Poland    4.000000\n",
            "Malta             5.000000\n",
            "Mexico            3.000000\n",
            "Russia            4.000000\n",
            "Scotland          5.000000\n",
            "Name: friendliness, dtype: float64\n",
            "Country with the highest average friendliness score: Canada\n"
          ]
        }
      ]
    },
    {
      "cell_type": "code",
      "source": [
        "print('he barking frequency vary across breeds in the sporting group based on their size (small, medium, large):\\n', df[df['breed_group'] == 'sporting'].groupby('size')['barking'].mean())"
      ],
      "metadata": {
        "colab": {
          "base_uri": "https://localhost:8080/"
        },
        "id": "aK-8C1Pp-EzC",
        "outputId": "87affd78-dd25-414a-c761-a87eca39e941"
      },
      "execution_count": 67,
      "outputs": [
        {
          "output_type": "stream",
          "name": "stdout",
          "text": [
            "he barking frequency vary across breeds in the sporting group based on their size (small, medium, large):\n",
            " size\n",
            "large    3.0\n",
            "Name: barking, dtype: float64\n"
          ]
        }
      ]
    },
    {
      "cell_type": "markdown",
      "source": [
        "# Correlation Analysis"
      ],
      "metadata": {
        "id": "fQzV7iu4gVtD"
      }
    },
    {
      "cell_type": "markdown",
      "source": [
        "1. What is the correlation between energy level and trainability across all breeds? Is it statistically significant?\n",
        "2. Is there a stronger correlation between lifespan and friendliness in large breeds compared to small breeds?\n",
        "3. How does shedding level correlate with barking frequency, and does this relationship vary by breed group?\n",
        "4. Analyze the relationship between trainability and energy level for breeds originating from Germany. Is there a positive or negative correlation?\n",
        "5. What is the correlation between friendliness and lifespan for toy breeds, and how does it compare to working breeds?"
      ],
      "metadata": {
        "id": "FvTBQ8X5gYKr"
      }
    },
    {
      "cell_type": "code",
      "source": [
        "print('The correlation between energy level and trainability across all breeds:', df['energy_level'].corr(df['trainability']))"
      ],
      "metadata": {
        "colab": {
          "base_uri": "https://localhost:8080/"
        },
        "id": "ksoUATB-FKlg",
        "outputId": "0ba1cf5a-4842-4f3b-9abe-e7e8c0c6055d"
      },
      "execution_count": 73,
      "outputs": [
        {
          "output_type": "stream",
          "name": "stdout",
          "text": [
            "The correlation between energy level and trainability across all breeds: 0.5874000266797793\n"
          ]
        }
      ]
    },
    {
      "cell_type": "code",
      "source": [
        "numeric_cols = df.select_dtypes(include=np.number)\n",
        "print('A stronger correlation between lifespan and friendliness in large breeds compared to small breeds:', numeric_cols[df['size'] == 'large'].corr().loc['lifespan','friendliness'] > numeric_cols[df['size'] == 'small'].corr().loc['lifespan','friendliness'])"
      ],
      "metadata": {
        "colab": {
          "base_uri": "https://localhost:8080/"
        },
        "id": "S9mIzB4bFKfm",
        "outputId": "8f9a5592-976f-4152-d788-4d3ab79782a8"
      },
      "execution_count": 76,
      "outputs": [
        {
          "output_type": "stream",
          "name": "stdout",
          "text": [
            "A stronger correlation between lifespan and friendliness in large breeds compared to small breeds: False\n"
          ]
        }
      ]
    },
    {
      "cell_type": "code",
      "source": [],
      "metadata": {
        "id": "xbdCU7GJFKdS"
      },
      "execution_count": null,
      "outputs": []
    },
    {
      "cell_type": "code",
      "source": [],
      "metadata": {
        "id": "mvoB0kbeFKay"
      },
      "execution_count": null,
      "outputs": []
    },
    {
      "cell_type": "code",
      "source": [
        "df.columns"
      ],
      "metadata": {
        "id": "-GY0KK3ogXqL",
        "colab": {
          "base_uri": "https://localhost:8080/"
        },
        "outputId": "4a48a681-3084-4187-c4f0-ba74bcba5d7f"
      },
      "execution_count": 68,
      "outputs": [
        {
          "output_type": "execute_result",
          "data": {
            "text/plain": [
              "Index(['breed', 'size', 'energy_level', 'friendliness', 'trainability',\n",
              "       'shedding', 'barking', 'lifespan', 'origin_country', 'breed_group'],\n",
              "      dtype='object')"
            ]
          },
          "metadata": {},
          "execution_count": 68
        }
      ]
    }
  ]
}