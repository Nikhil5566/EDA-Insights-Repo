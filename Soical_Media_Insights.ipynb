{
  "nbformat": 4,
  "nbformat_minor": 0,
  "metadata": {
    "colab": {
      "provenance": []
    },
    "kernelspec": {
      "name": "python3",
      "display_name": "Python 3"
    },
    "language_info": {
      "name": "python"
    }
  },
  "cells": [
    {
      "cell_type": "code",
      "source": [
        "import numpy as np\n",
        "import pandas as pd\n",
        "import matplotlib.pyplot as plt\n",
        "import seaborn as sns\n",
        "sns.set()\n",
        "import warnings\n",
        "warnings.filterwarnings('ignore')"
      ],
      "metadata": {
        "id": "nABcJRVKde4O"
      },
      "execution_count": null,
      "outputs": []
    },
    {
      "cell_type": "code",
      "source": [
        "df = pd.read_csv('social_media_engagement1.csv')\n",
        "df.head()"
      ],
      "metadata": {
        "colab": {
          "base_uri": "https://localhost:8080/",
          "height": 206
        },
        "id": "9bT7Y18-dqYw",
        "outputId": "0238a43f-4fc3-4c7b-975f-69535a64b042"
      },
      "execution_count": null,
      "outputs": [
        {
          "output_type": "execute_result",
          "data": {
            "text/plain": [
              "   post_id   platform post_type        post_time  likes  comments  shares  \\\n",
              "0        1   Facebook     image  8/17/2023 14:45   2121       474     628   \n",
              "1        2   Facebook  carousel   5/14/2023 0:45   3660       432     694   \n",
              "2        3  Instagram      poll  2/21/2023 16:15   4955       408     688   \n",
              "3        4    Twitter     image  11/16/2023 0:45   1183        90     187   \n",
              "4        5    Twitter     video   5/23/2023 0:30   3499       247     286   \n",
              "\n",
              "   post_day sentiment_score  \n",
              "0  Thursday        positive  \n",
              "1    Sunday         neutral  \n",
              "2   Tuesday        negative  \n",
              "3  Thursday        negative  \n",
              "4   Tuesday        positive  "
            ],
            "text/html": [
              "\n",
              "  <div id=\"df-9e3a31f8-3bbc-4725-98d3-8335eba133b6\" class=\"colab-df-container\">\n",
              "    <div>\n",
              "<style scoped>\n",
              "    .dataframe tbody tr th:only-of-type {\n",
              "        vertical-align: middle;\n",
              "    }\n",
              "\n",
              "    .dataframe tbody tr th {\n",
              "        vertical-align: top;\n",
              "    }\n",
              "\n",
              "    .dataframe thead th {\n",
              "        text-align: right;\n",
              "    }\n",
              "</style>\n",
              "<table border=\"1\" class=\"dataframe\">\n",
              "  <thead>\n",
              "    <tr style=\"text-align: right;\">\n",
              "      <th></th>\n",
              "      <th>post_id</th>\n",
              "      <th>platform</th>\n",
              "      <th>post_type</th>\n",
              "      <th>post_time</th>\n",
              "      <th>likes</th>\n",
              "      <th>comments</th>\n",
              "      <th>shares</th>\n",
              "      <th>post_day</th>\n",
              "      <th>sentiment_score</th>\n",
              "    </tr>\n",
              "  </thead>\n",
              "  <tbody>\n",
              "    <tr>\n",
              "      <th>0</th>\n",
              "      <td>1</td>\n",
              "      <td>Facebook</td>\n",
              "      <td>image</td>\n",
              "      <td>8/17/2023 14:45</td>\n",
              "      <td>2121</td>\n",
              "      <td>474</td>\n",
              "      <td>628</td>\n",
              "      <td>Thursday</td>\n",
              "      <td>positive</td>\n",
              "    </tr>\n",
              "    <tr>\n",
              "      <th>1</th>\n",
              "      <td>2</td>\n",
              "      <td>Facebook</td>\n",
              "      <td>carousel</td>\n",
              "      <td>5/14/2023 0:45</td>\n",
              "      <td>3660</td>\n",
              "      <td>432</td>\n",
              "      <td>694</td>\n",
              "      <td>Sunday</td>\n",
              "      <td>neutral</td>\n",
              "    </tr>\n",
              "    <tr>\n",
              "      <th>2</th>\n",
              "      <td>3</td>\n",
              "      <td>Instagram</td>\n",
              "      <td>poll</td>\n",
              "      <td>2/21/2023 16:15</td>\n",
              "      <td>4955</td>\n",
              "      <td>408</td>\n",
              "      <td>688</td>\n",
              "      <td>Tuesday</td>\n",
              "      <td>negative</td>\n",
              "    </tr>\n",
              "    <tr>\n",
              "      <th>3</th>\n",
              "      <td>4</td>\n",
              "      <td>Twitter</td>\n",
              "      <td>image</td>\n",
              "      <td>11/16/2023 0:45</td>\n",
              "      <td>1183</td>\n",
              "      <td>90</td>\n",
              "      <td>187</td>\n",
              "      <td>Thursday</td>\n",
              "      <td>negative</td>\n",
              "    </tr>\n",
              "    <tr>\n",
              "      <th>4</th>\n",
              "      <td>5</td>\n",
              "      <td>Twitter</td>\n",
              "      <td>video</td>\n",
              "      <td>5/23/2023 0:30</td>\n",
              "      <td>3499</td>\n",
              "      <td>247</td>\n",
              "      <td>286</td>\n",
              "      <td>Tuesday</td>\n",
              "      <td>positive</td>\n",
              "    </tr>\n",
              "  </tbody>\n",
              "</table>\n",
              "</div>\n",
              "    <div class=\"colab-df-buttons\">\n",
              "\n",
              "  <div class=\"colab-df-container\">\n",
              "    <button class=\"colab-df-convert\" onclick=\"convertToInteractive('df-9e3a31f8-3bbc-4725-98d3-8335eba133b6')\"\n",
              "            title=\"Convert this dataframe to an interactive table.\"\n",
              "            style=\"display:none;\">\n",
              "\n",
              "  <svg xmlns=\"http://www.w3.org/2000/svg\" height=\"24px\" viewBox=\"0 -960 960 960\">\n",
              "    <path d=\"M120-120v-720h720v720H120Zm60-500h600v-160H180v160Zm220 220h160v-160H400v160Zm0 220h160v-160H400v160ZM180-400h160v-160H180v160Zm440 0h160v-160H620v160ZM180-180h160v-160H180v160Zm440 0h160v-160H620v160Z\"/>\n",
              "  </svg>\n",
              "    </button>\n",
              "\n",
              "  <style>\n",
              "    .colab-df-container {\n",
              "      display:flex;\n",
              "      gap: 12px;\n",
              "    }\n",
              "\n",
              "    .colab-df-convert {\n",
              "      background-color: #E8F0FE;\n",
              "      border: none;\n",
              "      border-radius: 50%;\n",
              "      cursor: pointer;\n",
              "      display: none;\n",
              "      fill: #1967D2;\n",
              "      height: 32px;\n",
              "      padding: 0 0 0 0;\n",
              "      width: 32px;\n",
              "    }\n",
              "\n",
              "    .colab-df-convert:hover {\n",
              "      background-color: #E2EBFA;\n",
              "      box-shadow: 0px 1px 2px rgba(60, 64, 67, 0.3), 0px 1px 3px 1px rgba(60, 64, 67, 0.15);\n",
              "      fill: #174EA6;\n",
              "    }\n",
              "\n",
              "    .colab-df-buttons div {\n",
              "      margin-bottom: 4px;\n",
              "    }\n",
              "\n",
              "    [theme=dark] .colab-df-convert {\n",
              "      background-color: #3B4455;\n",
              "      fill: #D2E3FC;\n",
              "    }\n",
              "\n",
              "    [theme=dark] .colab-df-convert:hover {\n",
              "      background-color: #434B5C;\n",
              "      box-shadow: 0px 1px 3px 1px rgba(0, 0, 0, 0.15);\n",
              "      filter: drop-shadow(0px 1px 2px rgba(0, 0, 0, 0.3));\n",
              "      fill: #FFFFFF;\n",
              "    }\n",
              "  </style>\n",
              "\n",
              "    <script>\n",
              "      const buttonEl =\n",
              "        document.querySelector('#df-9e3a31f8-3bbc-4725-98d3-8335eba133b6 button.colab-df-convert');\n",
              "      buttonEl.style.display =\n",
              "        google.colab.kernel.accessAllowed ? 'block' : 'none';\n",
              "\n",
              "      async function convertToInteractive(key) {\n",
              "        const element = document.querySelector('#df-9e3a31f8-3bbc-4725-98d3-8335eba133b6');\n",
              "        const dataTable =\n",
              "          await google.colab.kernel.invokeFunction('convertToInteractive',\n",
              "                                                    [key], {});\n",
              "        if (!dataTable) return;\n",
              "\n",
              "        const docLinkHtml = 'Like what you see? Visit the ' +\n",
              "          '<a target=\"_blank\" href=https://colab.research.google.com/notebooks/data_table.ipynb>data table notebook</a>'\n",
              "          + ' to learn more about interactive tables.';\n",
              "        element.innerHTML = '';\n",
              "        dataTable['output_type'] = 'display_data';\n",
              "        await google.colab.output.renderOutput(dataTable, element);\n",
              "        const docLink = document.createElement('div');\n",
              "        docLink.innerHTML = docLinkHtml;\n",
              "        element.appendChild(docLink);\n",
              "      }\n",
              "    </script>\n",
              "  </div>\n",
              "\n",
              "\n",
              "    <div id=\"df-d6b8c88e-ba5f-42da-a1a8-c48bbc803d06\">\n",
              "      <button class=\"colab-df-quickchart\" onclick=\"quickchart('df-d6b8c88e-ba5f-42da-a1a8-c48bbc803d06')\"\n",
              "                title=\"Suggest charts\"\n",
              "                style=\"display:none;\">\n",
              "\n",
              "<svg xmlns=\"http://www.w3.org/2000/svg\" height=\"24px\"viewBox=\"0 0 24 24\"\n",
              "     width=\"24px\">\n",
              "    <g>\n",
              "        <path d=\"M19 3H5c-1.1 0-2 .9-2 2v14c0 1.1.9 2 2 2h14c1.1 0 2-.9 2-2V5c0-1.1-.9-2-2-2zM9 17H7v-7h2v7zm4 0h-2V7h2v10zm4 0h-2v-4h2v4z\"/>\n",
              "    </g>\n",
              "</svg>\n",
              "      </button>\n",
              "\n",
              "<style>\n",
              "  .colab-df-quickchart {\n",
              "      --bg-color: #E8F0FE;\n",
              "      --fill-color: #1967D2;\n",
              "      --hover-bg-color: #E2EBFA;\n",
              "      --hover-fill-color: #174EA6;\n",
              "      --disabled-fill-color: #AAA;\n",
              "      --disabled-bg-color: #DDD;\n",
              "  }\n",
              "\n",
              "  [theme=dark] .colab-df-quickchart {\n",
              "      --bg-color: #3B4455;\n",
              "      --fill-color: #D2E3FC;\n",
              "      --hover-bg-color: #434B5C;\n",
              "      --hover-fill-color: #FFFFFF;\n",
              "      --disabled-bg-color: #3B4455;\n",
              "      --disabled-fill-color: #666;\n",
              "  }\n",
              "\n",
              "  .colab-df-quickchart {\n",
              "    background-color: var(--bg-color);\n",
              "    border: none;\n",
              "    border-radius: 50%;\n",
              "    cursor: pointer;\n",
              "    display: none;\n",
              "    fill: var(--fill-color);\n",
              "    height: 32px;\n",
              "    padding: 0;\n",
              "    width: 32px;\n",
              "  }\n",
              "\n",
              "  .colab-df-quickchart:hover {\n",
              "    background-color: var(--hover-bg-color);\n",
              "    box-shadow: 0 1px 2px rgba(60, 64, 67, 0.3), 0 1px 3px 1px rgba(60, 64, 67, 0.15);\n",
              "    fill: var(--button-hover-fill-color);\n",
              "  }\n",
              "\n",
              "  .colab-df-quickchart-complete:disabled,\n",
              "  .colab-df-quickchart-complete:disabled:hover {\n",
              "    background-color: var(--disabled-bg-color);\n",
              "    fill: var(--disabled-fill-color);\n",
              "    box-shadow: none;\n",
              "  }\n",
              "\n",
              "  .colab-df-spinner {\n",
              "    border: 2px solid var(--fill-color);\n",
              "    border-color: transparent;\n",
              "    border-bottom-color: var(--fill-color);\n",
              "    animation:\n",
              "      spin 1s steps(1) infinite;\n",
              "  }\n",
              "\n",
              "  @keyframes spin {\n",
              "    0% {\n",
              "      border-color: transparent;\n",
              "      border-bottom-color: var(--fill-color);\n",
              "      border-left-color: var(--fill-color);\n",
              "    }\n",
              "    20% {\n",
              "      border-color: transparent;\n",
              "      border-left-color: var(--fill-color);\n",
              "      border-top-color: var(--fill-color);\n",
              "    }\n",
              "    30% {\n",
              "      border-color: transparent;\n",
              "      border-left-color: var(--fill-color);\n",
              "      border-top-color: var(--fill-color);\n",
              "      border-right-color: var(--fill-color);\n",
              "    }\n",
              "    40% {\n",
              "      border-color: transparent;\n",
              "      border-right-color: var(--fill-color);\n",
              "      border-top-color: var(--fill-color);\n",
              "    }\n",
              "    60% {\n",
              "      border-color: transparent;\n",
              "      border-right-color: var(--fill-color);\n",
              "    }\n",
              "    80% {\n",
              "      border-color: transparent;\n",
              "      border-right-color: var(--fill-color);\n",
              "      border-bottom-color: var(--fill-color);\n",
              "    }\n",
              "    90% {\n",
              "      border-color: transparent;\n",
              "      border-bottom-color: var(--fill-color);\n",
              "    }\n",
              "  }\n",
              "</style>\n",
              "\n",
              "      <script>\n",
              "        async function quickchart(key) {\n",
              "          const quickchartButtonEl =\n",
              "            document.querySelector('#' + key + ' button');\n",
              "          quickchartButtonEl.disabled = true;  // To prevent multiple clicks.\n",
              "          quickchartButtonEl.classList.add('colab-df-spinner');\n",
              "          try {\n",
              "            const charts = await google.colab.kernel.invokeFunction(\n",
              "                'suggestCharts', [key], {});\n",
              "          } catch (error) {\n",
              "            console.error('Error during call to suggestCharts:', error);\n",
              "          }\n",
              "          quickchartButtonEl.classList.remove('colab-df-spinner');\n",
              "          quickchartButtonEl.classList.add('colab-df-quickchart-complete');\n",
              "        }\n",
              "        (() => {\n",
              "          let quickchartButtonEl =\n",
              "            document.querySelector('#df-d6b8c88e-ba5f-42da-a1a8-c48bbc803d06 button');\n",
              "          quickchartButtonEl.style.display =\n",
              "            google.colab.kernel.accessAllowed ? 'block' : 'none';\n",
              "        })();\n",
              "      </script>\n",
              "    </div>\n",
              "\n",
              "    </div>\n",
              "  </div>\n"
            ],
            "application/vnd.google.colaboratory.intrinsic+json": {
              "type": "dataframe",
              "variable_name": "df",
              "summary": "{\n  \"name\": \"df\",\n  \"rows\": 100,\n  \"fields\": [\n    {\n      \"column\": \"post_id\",\n      \"properties\": {\n        \"dtype\": \"number\",\n        \"std\": 29,\n        \"min\": 1,\n        \"max\": 100,\n        \"num_unique_values\": 100,\n        \"samples\": [\n          84,\n          54,\n          71\n        ],\n        \"semantic_type\": \"\",\n        \"description\": \"\"\n      }\n    },\n    {\n      \"column\": \"platform\",\n      \"properties\": {\n        \"dtype\": \"category\",\n        \"num_unique_values\": 3,\n        \"samples\": [\n          \"Facebook\",\n          \"Instagram\",\n          \"Twitter\"\n        ],\n        \"semantic_type\": \"\",\n        \"description\": \"\"\n      }\n    },\n    {\n      \"column\": \"post_type\",\n      \"properties\": {\n        \"dtype\": \"category\",\n        \"num_unique_values\": 5,\n        \"samples\": [\n          \"carousel\",\n          \"text\",\n          \"poll\"\n        ],\n        \"semantic_type\": \"\",\n        \"description\": \"\"\n      }\n    },\n    {\n      \"column\": \"post_time\",\n      \"properties\": {\n        \"dtype\": \"object\",\n        \"num_unique_values\": 99,\n        \"samples\": [\n          \"4/19/2023 19:45\",\n          \"11/23/2023 2:00\",\n          \"10/27/2023 23:45\"\n        ],\n        \"semantic_type\": \"\",\n        \"description\": \"\"\n      }\n    },\n    {\n      \"column\": \"likes\",\n      \"properties\": {\n        \"dtype\": \"number\",\n        \"std\": 1632,\n        \"min\": 15,\n        \"max\": 5000,\n        \"num_unique_values\": 93,\n        \"samples\": [\n          2586,\n          332,\n          344\n        ],\n        \"semantic_type\": \"\",\n        \"description\": \"\"\n      }\n    },\n    {\n      \"column\": \"comments\",\n      \"properties\": {\n        \"dtype\": \"number\",\n        \"std\": 138,\n        \"min\": 10,\n        \"max\": 500,\n        \"num_unique_values\": 85,\n        \"samples\": [\n          402,\n          474,\n          81\n        ],\n        \"semantic_type\": \"\",\n        \"description\": \"\"\n      }\n    },\n    {\n      \"column\": \"shares\",\n      \"properties\": {\n        \"dtype\": \"number\",\n        \"std\": 283,\n        \"min\": 16,\n        \"max\": 993,\n        \"num_unique_values\": 96,\n        \"samples\": [\n          304,\n          757,\n          365\n        ],\n        \"semantic_type\": \"\",\n        \"description\": \"\"\n      }\n    },\n    {\n      \"column\": \"post_day\",\n      \"properties\": {\n        \"dtype\": \"category\",\n        \"num_unique_values\": 7,\n        \"samples\": [\n          \"Thursday\",\n          \"Sunday\",\n          \"Monday\"\n        ],\n        \"semantic_type\": \"\",\n        \"description\": \"\"\n      }\n    },\n    {\n      \"column\": \"sentiment_score\",\n      \"properties\": {\n        \"dtype\": \"category\",\n        \"num_unique_values\": 3,\n        \"samples\": [\n          \"positive\",\n          \"neutral\",\n          \"negative\"\n        ],\n        \"semantic_type\": \"\",\n        \"description\": \"\"\n      }\n    }\n  ]\n}"
            }
          },
          "metadata": {},
          "execution_count": 3
        }
      ]
    },
    {
      "cell_type": "markdown",
      "source": [
        "# 1. Engagement Analysis"
      ],
      "metadata": {
        "id": "uXw788uSbzbX"
      }
    },
    {
      "cell_type": "markdown",
      "source": [
        "# What is the total number of likes, comments, and shares across all platforms?"
      ],
      "metadata": {
        "id": "69IzPD6qbzY2"
      }
    },
    {
      "cell_type": "code",
      "source": [
        "df['df_engagement'] = df['likes'] + df['comments'] + df['shares']\n",
        "\n",
        "total_likes = df['likes'].sum()\n",
        "total_comments = df['comments'].sum()\n",
        "total_shares = df['shares'].sum()\n",
        "\n",
        "print('Total Likes:', total_likes)\n",
        "print('Total Comments:', total_comments)\n",
        "print('Total Shares:', total_shares)"
      ],
      "metadata": {
        "colab": {
          "base_uri": "https://localhost:8080/"
        },
        "id": "WoFOX1ffb2tu",
        "outputId": "5e806f62-a352-4e31-c8bd-4d5f4f5b5b5b"
      },
      "execution_count": null,
      "outputs": [
        {
          "output_type": "stream",
          "name": "stdout",
          "text": [
            "Total Likes: 238181\n",
            "Total Comments: 20266\n",
            "Total Shares: 41565\n"
          ]
        }
      ]
    },
    {
      "cell_type": "markdown",
      "source": [
        "# Which platform has the highest total engagement (likes + comments + shares)?"
      ],
      "metadata": {
        "id": "nWIQVE8ZbzWW"
      }
    },
    {
      "cell_type": "code",
      "source": [
        "platform_engagement = df.groupby('platform')['df_engagement'].sum()\n",
        "print(platform_engagement)\n",
        "\n",
        "highest_platform = platform_engagement.idxmax()\n",
        "print('Highest platform with [likes, comments, shares]===>:',highest_platform)"
      ],
      "metadata": {
        "colab": {
          "base_uri": "https://localhost:8080/"
        },
        "id": "8GGCECE2b3J-",
        "outputId": "4a1b9d15-c448-4d76-c0e5-381b73697272"
      },
      "execution_count": null,
      "outputs": [
        {
          "output_type": "stream",
          "name": "stdout",
          "text": [
            "platform\n",
            "Facebook     109537\n",
            "Instagram    135268\n",
            "Twitter       55207\n",
            "Name: df_engagement, dtype: int64\n",
            "Highest platform with [likes, comments, shares]===>: Instagram\n"
          ]
        }
      ]
    },
    {
      "cell_type": "markdown",
      "source": [
        "# Which post received the highest total engagement? Provide its Post ID and Platform."
      ],
      "metadata": {
        "id": "0QDnEyCHbzTu"
      }
    },
    {
      "cell_type": "code",
      "source": [
        "top_post = df.loc[df['df_engagement'].idxmax()]\n",
        "print(top_post)"
      ],
      "metadata": {
        "colab": {
          "base_uri": "https://localhost:8080/"
        },
        "id": "z0AJKjspb3ee",
        "outputId": "384055ff-ad0e-4fa5-a432-9dd3cd996174"
      },
      "execution_count": null,
      "outputs": [
        {
          "output_type": "stream",
          "name": "stdout",
          "text": [
            "post_id                       39\n",
            "platform                Facebook\n",
            "post_type                  video\n",
            "post_time          1/1/2023 6:00\n",
            "likes                       5000\n",
            "comments                     430\n",
            "shares                       980\n",
            "post_day                  Sunday\n",
            "sentiment_score          neutral\n",
            "df_engagement               6410\n",
            "Name: 38, dtype: object\n"
          ]
        }
      ]
    },
    {
      "cell_type": "markdown",
      "source": [
        "# 2. Platform Comparison"
      ],
      "metadata": {
        "id": "BNhIHq0qbzRO"
      }
    },
    {
      "cell_type": "markdown",
      "source": [
        "### Calculate the average likes, comments, and shares per platform."
      ],
      "metadata": {
        "id": "GaVd4UuCcOw2"
      }
    },
    {
      "cell_type": "code",
      "source": [
        "avg_engagement = df.groupby('platform')[['likes', 'comments', 'shares']].mean()\n",
        "print('Average Engagement per Platform:\\n',avg_engagement)"
      ],
      "metadata": {
        "colab": {
          "base_uri": "https://localhost:8080/"
        },
        "id": "zlIlbm7Ykwoa",
        "outputId": "ddc8af2e-de5d-43f3-d8d1-430986a739bc"
      },
      "execution_count": null,
      "outputs": [
        {
          "output_type": "stream",
          "name": "stdout",
          "text": [
            "Average Engagement per Platform:\n",
            "                  likes    comments      shares\n",
            "platform                                      \n",
            "Facebook   2699.750000  248.906250  474.375000\n",
            "Instagram  2999.833333  232.444444  525.166667\n",
            "Twitter    1368.593750  122.906250  233.718750\n"
          ]
        }
      ]
    },
    {
      "cell_type": "markdown",
      "source": [
        "### Which platform has the highest average sentiment score (you can map sentiment categories to numerical values: positive=1, neutral=0, negative=-1)?\n",
        "\n"
      ],
      "metadata": {
        "id": "tqmix6hGcOsm"
      }
    },
    {
      "cell_type": "code",
      "source": [
        "sentiment_map = {'positive': 1, 'neutral': 0, 'negative': -1}\n",
        "df['sentiment_score'] = df['sentiment_score'].map(sentiment_map)\n",
        "\n",
        "avg_sentiment = df.groupby('platform')['sentiment_score'].mean()\n",
        "print('Average sentiment scores for each platform:', avg_sentiment)"
      ],
      "metadata": {
        "colab": {
          "base_uri": "https://localhost:8080/"
        },
        "id": "HhSUL3l7kw9T",
        "outputId": "6c101799-c002-4755-cb63-c45c4b9bdcd4"
      },
      "execution_count": null,
      "outputs": [
        {
          "output_type": "stream",
          "name": "stdout",
          "text": [
            "Average sentiment scores for each platform: platform\n",
            "Facebook    NaN\n",
            "Instagram   NaN\n",
            "Twitter     NaN\n",
            "Name: sentiment_score, dtype: float64\n"
          ]
        }
      ]
    },
    {
      "cell_type": "markdown",
      "source": [
        "# 3. Post Type Insights"
      ],
      "metadata": {
        "id": "yg81AKvpbzFP"
      }
    },
    {
      "cell_type": "markdown",
      "source": [
        "### Which post type generates the highest average number of likes?\n"
      ],
      "metadata": {
        "id": "8lsY6JjAceS9"
      }
    },
    {
      "cell_type": "code",
      "source": [
        "avg_likes_posts = df.groupby('post_type')['likes'].mean()\n",
        "print(\"Average Likes by Post Type:\\n\", avg_likes_posts)\n",
        "\n",
        "print('---------------------------------------------------------------')\n",
        "\n",
        "total_engagement_post_type = df.groupby('post_type')['df_engagement'].sum()\n",
        "print('Total engagement by post types: \\n',total_engagement_post_type)"
      ],
      "metadata": {
        "colab": {
          "base_uri": "https://localhost:8080/"
        },
        "id": "VWvaYnQ3kxTb",
        "outputId": "ba23fc4d-6026-4ca5-95af-5b39681ee0d2"
      },
      "execution_count": null,
      "outputs": [
        {
          "output_type": "stream",
          "name": "stdout",
          "text": [
            "Average Likes by Post Type:\n",
            " post_type\n",
            "carousel    2263.576923\n",
            "image       2032.764706\n",
            "poll        3061.076923\n",
            "text        1815.285714\n",
            "video       2906.782609\n",
            "Name: likes, dtype: float64\n",
            "---------------------------------------------------------------\n",
            "Total engagement by post types: \n",
            " post_type\n",
            "carousel    78799\n",
            "image       44225\n",
            "poll        48703\n",
            "text        46801\n",
            "video       81484\n",
            "Name: df_engagement, dtype: int64\n"
          ]
        }
      ]
    },
    {
      "cell_type": "markdown",
      "source": [
        "### Compare total engagements across different post types—identify the most engaging post type overall.\n",
        "\n"
      ],
      "metadata": {
        "id": "bBHthsf8ceQt"
      }
    },
    {
      "cell_type": "code",
      "source": [
        "post_type_engagement = df.groupby('post_type')['total_engagement'].sum()\n",
        "post_type_engagement_sorted = post_type_engagement.sort_values(ascending=False)\n",
        "\n",
        "print('Total engagement by post types: \\n',post_type_engagement_sorted)\n",
        "\n",
        "most_engagement_post_type = post_type_engagement_sorted.idxmax()\n",
        "most_engagement_value = post_type_engagement_sorted.max()\n",
        "\n",
        "print(f\"\\n Most engagement post type is '{most_engagement_post_type}' with total engagement of {most_engagement_value}\")"
      ],
      "metadata": {
        "colab": {
          "base_uri": "https://localhost:8080/"
        },
        "id": "WAxIqqYWkxqT",
        "outputId": "6a8c2768-f999-4c54-f705-953ce7d41a20"
      },
      "execution_count": null,
      "outputs": [
        {
          "output_type": "stream",
          "name": "stdout",
          "text": [
            "Total engagement by post types: \n",
            " post_type\n",
            "video       81484\n",
            "carousel    78799\n",
            "poll        48703\n",
            "text        46801\n",
            "image       44225\n",
            "Name: total_engagement, dtype: int64\n",
            "\n",
            " Most engagement post type is 'video' with total engagement of 81484\n"
          ]
        }
      ]
    },
    {
      "cell_type": "markdown",
      "source": [
        "# 4. Time-based Analysis"
      ],
      "metadata": {
        "id": "vA0C3DFhczsx"
      }
    },
    {
      "cell_type": "markdown",
      "source": [
        "### Which day of the week yields the highest average engagement?\n",
        "\n"
      ],
      "metadata": {
        "id": "4UaYtuL5c37Z"
      }
    },
    {
      "cell_type": "code",
      "source": [
        "avg_day_engagement = df.groupby('post_day')['total_engagement'].mean()\n",
        "print(avg_day_engagement)\n",
        "\n",
        "print('-------------------------------------------------------------')\n",
        "\n",
        "df['post_hour'] = pd.to_datetime(df['post_time'],errors='coerce').dt.hour\n",
        "\n",
        "day_hour_engagement = df.groupby(['post_day', 'post_hour'])['total_engagement'].mean()\n",
        "print(\"Best Day-Hour Slot:\\n\", day_hour_engagement.sort_values(ascending=False).head(1))"
      ],
      "metadata": {
        "colab": {
          "base_uri": "https://localhost:8080/"
        },
        "id": "eBwQY7Sekx_K",
        "outputId": "16d681f6-fec5-4635-f7d8-95b6c1b5c704"
      },
      "execution_count": null,
      "outputs": [
        {
          "output_type": "stream",
          "name": "stdout",
          "text": [
            "post_day\n",
            "Friday       3316.687500\n",
            "Monday       2208.454545\n",
            "Saturday     2467.400000\n",
            "Sunday       3478.142857\n",
            "Thursday     2854.500000\n",
            "Tuesday      2989.533333\n",
            "Wednesday    3264.944444\n",
            "Name: total_engagement, dtype: float64\n",
            "-------------------------------------------------------------\n",
            "Best Day-Hour Slot:\n",
            " post_day  post_hour\n",
            "Sunday    6            6410.0\n",
            "Name: total_engagement, dtype: float64\n"
          ]
        }
      ]
    },
    {
      "cell_type": "markdown",
      "source": [
        "### Identify the best time of the week (post day + hour) to post for maximum likes.\n",
        "\n"
      ],
      "metadata": {
        "id": "RP4KcTrIc-6t"
      }
    },
    {
      "cell_type": "code",
      "source": [
        "avg_day_engagement = df.groupby('post_day')['total_engagement'].mean()\n",
        "print(avg_day_engagement)\n",
        "\n",
        "print('-------------------------------------------------------------')\n",
        "\n"
      ],
      "metadata": {
        "colab": {
          "base_uri": "https://localhost:8080/"
        },
        "id": "b19lk7qnkyV7",
        "outputId": "355979b9-6497-4e3d-8353-5b35624659a1"
      },
      "execution_count": null,
      "outputs": [
        {
          "output_type": "stream",
          "name": "stdout",
          "text": [
            "post_day\n",
            "Friday       3316.687500\n",
            "Monday       2208.454545\n",
            "Saturday     2467.400000\n",
            "Sunday       3478.142857\n",
            "Thursday     2854.500000\n",
            "Tuesday      2989.533333\n",
            "Wednesday    3264.944444\n",
            "Name: total_engagement, dtype: float64\n",
            "-------------------------------------------------------------\n"
          ]
        }
      ]
    },
    {
      "cell_type": "markdown",
      "source": [
        "# 5. Sentiment Insights"
      ],
      "metadata": {
        "id": "gFLpEnZDdB1F"
      }
    },
    {
      "cell_type": "markdown",
      "source": [
        "### Count the number of posts for each sentiment score category.\n",
        "\n"
      ],
      "metadata": {
        "id": "MKu77LeudEq1"
      }
    },
    {
      "cell_type": "code",
      "source": [
        "print(df['sentiment_score'].value_counts())"
      ],
      "metadata": {
        "colab": {
          "base_uri": "https://localhost:8080/"
        },
        "id": "saId9kVykyvz",
        "outputId": "da324926-a68c-45ab-ebbf-790c0b18cfd3"
      },
      "execution_count": null,
      "outputs": [
        {
          "output_type": "stream",
          "name": "stdout",
          "text": [
            "Series([], Name: count, dtype: int64)\n"
          ]
        }
      ]
    },
    {
      "cell_type": "markdown",
      "source": [
        "### What is the average engagement (likes + comments + shares) for posts with:\n",
        "\n",
        "1. Positive sentiment?\n",
        "\n",
        "2. Neutral sentiment?\n",
        "\n",
        "3. Negative sentiment?"
      ],
      "metadata": {
        "id": "V63SoF9NdEn9"
      }
    },
    {
      "cell_type": "code",
      "source": [
        "avg_engagement_by_sentiment = df.groupby('sentiment_score')['total_engagement'].mean()\n",
        "\n",
        "print(avg_engagement_by_sentiment)"
      ],
      "metadata": {
        "colab": {
          "base_uri": "https://localhost:8080/"
        },
        "id": "FT8hBP0gkzHr",
        "outputId": "7e648910-11b5-49cb-8d89-cca6041dea8f"
      },
      "execution_count": null,
      "outputs": [
        {
          "output_type": "stream",
          "name": "stdout",
          "text": [
            "Series([], Name: total_engagement, dtype: float64)\n"
          ]
        }
      ]
    },
    {
      "cell_type": "markdown",
      "source": [
        "# 6. Custom Challenge (Advanced)\n"
      ],
      "metadata": {
        "id": "f26e4LmkdEld"
      }
    },
    {
      "cell_type": "markdown",
      "source": [
        "### Derive a new column called “Total Engagement” as the sum of likes, comments, and shares.\n",
        "\n"
      ],
      "metadata": {
        "id": "8f4O78i4dPOg"
      }
    },
    {
      "cell_type": "code",
      "source": [],
      "metadata": {
        "id": "hhf_C7uMkzcr"
      },
      "execution_count": null,
      "outputs": []
    },
    {
      "cell_type": "markdown",
      "source": [
        "### Find the top 3 posts with highest total engagement—report their post IDs, platforms, and sentiment.\n",
        "\n"
      ],
      "metadata": {
        "id": "T7THz3T7dPMQ"
      }
    },
    {
      "cell_type": "code",
      "source": [
        "top_3_post = df.nlargest(3, 'total_engagement')\n",
        "print('Top 3 post by engagement \\n', top_3_post[['post_id','platform','total_engagement']])"
      ],
      "metadata": {
        "colab": {
          "base_uri": "https://localhost:8080/"
        },
        "id": "LXH0LUNrcwyZ",
        "outputId": "6a3d8ca1-bec9-410f-f706-ecb1f3225c0a"
      },
      "execution_count": null,
      "outputs": [
        {
          "output_type": "stream",
          "name": "stdout",
          "text": [
            "Top 3 post by engagement \n",
            "     post_id   platform  total_engagement\n",
            "38       39   Facebook              6410\n",
            "30       31   Facebook              6222\n",
            "73       74  Instagram              6198\n"
          ]
        }
      ]
    }
  ]
}